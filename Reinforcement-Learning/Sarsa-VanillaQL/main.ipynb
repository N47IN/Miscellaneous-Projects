{
 "cells": [
  {
   "cell_type": "code",
   "execution_count": null,
   "metadata": {},
   "outputs": [],
   "source": [
    "# Work of R Navin Sriram ED21B044 and Aniket Khan ME21B021\n",
    "import Algorithms\n",
    "import Tune\n",
    "import numpy as np"
   ]
  },
  {
   "cell_type": "markdown",
   "metadata": {},
   "source": [
    "Hyper-parameter tuning for Sarsa with Softmax using Bayesian Optimisation"
   ]
  },
  {
   "cell_type": "code",
   "execution_count": null,
   "metadata": {},
   "outputs": [],
   "source": [
    "# uncomment run only once to tune and obtain all the required params\n",
    "''' a_sarsa_sfm, tau_sarsa, cost_sarsa_sfm, steps_sfm_sarsa = Tune.sarsa_softmax_tune()\n",
    "a_sarsa_eps, eps_sarsa, cost_sarsa_eps, steps_eps_sarsa = Tune.sarsa_eps_tune()\n",
    "a_q_eps, eps_q, cost_q_eps, steps_eps_q = Tune.q_eps_tune()\n",
    "a_q_sfm, tau_q, cost_q_sfm, steps_sfm_q = Tune.q_sfm_tune() '''"
   ]
  },
  {
   "cell_type": "markdown",
   "metadata": {},
   "source": [
    "Sarsa"
   ]
  },
  {
   "cell_type": "code",
   "execution_count": null,
   "metadata": {},
   "outputs": [],
   "source": [
    "# using alpha and tau obtained from tuning\n",
    "for index in range(5,6):\n",
    "    alpha =  [0.417022004702574, 0.417022004702574, 0.302044776, 0.302044776, 0.417022004702574, 0.302044776]  #lesser alpha more stable approach with less deviations\n",
    "    gamma = 0.95 #direct inverse co-relation with solving time and reward\n",
    "    episodes = 5000\n",
    "    tau = [0.7482920440979423, 0.7482920440979423, 0.9367448851409738, 0.7482920440979423, 0.7482920440979423, 0.7525088958856196]\n",
    "    env  = Algorithms.world(world_num = index)\n",
    "    Problem = Algorithms.Solver(env,episodes,index)\n",
    "    Problem.initiate(Problem.choose_action_epsilon,Problem.sarsa)\n",
    "    Problem.solve_softmax(alpha[index],tau[index])\n"
   ]
  },
  {
   "cell_type": "markdown",
   "metadata": {},
   "source": [
    "Q learning"
   ]
  },
  {
   "cell_type": "code",
   "execution_count": null,
   "metadata": {},
   "outputs": [],
   "source": [
    "# using alpha and tau obtained from tuning\n",
    "\n",
    "for index in range(0,6):\n",
    "    \n",
    "    alpha = [0.44284451106268435, 0.4150070363847951, 0.4150070363847951, 0.4150070363847951, 0.08607209803110327, 0.46229120839832616]  #lesser alpha more stable approach with less deviations\n",
    "    gamma = 0.95 #direct inverse co-relation with solving time and reward\n",
    "    episodes = 5000\n",
    "    tau = [0.6942513813952869, 0.7525088958856196, 0.7525088958856196, 0.7525088958856196, 0.7828222038063085, 0.6536969925368568]\n",
    "    env  = Algorithms.world(world_num = index)\n",
    "    Problem = Algorithms.Solver(env,episodes,index)\n",
    "    Problem.initiate(Problem.choose_action_softmax,Problem.qlearning)\n",
    "    Problem.solve_softmax(alpha[index],tau[index])"
   ]
  }
 ],
 "metadata": {
  "kernelspec": {
   "display_name": "Python 3",
   "language": "python",
   "name": "python3"
  },
  "language_info": {
   "codemirror_mode": {
    "name": "ipython",
    "version": 3
   },
   "file_extension": ".py",
   "mimetype": "text/x-python",
   "name": "python",
   "nbconvert_exporter": "python",
   "pygments_lexer": "ipython3",
   "version": "3.8.10"
  }
 },
 "nbformat": 4,
 "nbformat_minor": 2
}
