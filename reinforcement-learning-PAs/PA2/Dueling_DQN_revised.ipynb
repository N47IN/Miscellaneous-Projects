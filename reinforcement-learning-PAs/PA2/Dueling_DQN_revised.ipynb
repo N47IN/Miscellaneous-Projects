{
 "cells": [
  {
   "cell_type": "code",
   "execution_count": 1,
   "metadata": {},
   "outputs": [],
   "source": [
    "\n",
    "import numpy as np\n",
    "import wandb\n",
    "import random\n",
    "import torch\n",
    "import torch.nn as nn\n",
    "import torch.nn.functional as F\n",
    "from collections import namedtuple, deque\n",
    "import torch.optim as optim\n",
    "import datetime\n",
    "import gym\n",
    "#from gym.wrappers.record_video import RecordVideo\n",
    "import glob\n",
    "import io\n",
    "import base64\n",
    "import matplotlib.pyplot as plt\n",
    "from IPython.display import HTML\n",
    "from IPython import display as ipythondisplay\n",
    "from PIL import Image"
   ]
  },
  {
   "cell_type": "code",
   "execution_count": 2,
   "metadata": {},
   "outputs": [
    {
     "data": {
      "text/plain": [
       "'0.26.2'"
      ]
     },
     "execution_count": 2,
     "metadata": {},
     "output_type": "execute_result"
    }
   ],
   "source": [
    "gym.__version__"
   ]
  },
  {
   "cell_type": "code",
   "execution_count": 3,
   "metadata": {},
   "outputs": [
    {
     "name": "stderr",
     "output_type": "stream",
     "text": [
      "Failed to detect the name of this notebook, you can set it manually with the WANDB_NOTEBOOK_NAME environment variable to enable code saving.\n"
     ]
    },
    {
     "name": "stderr",
     "output_type": "stream",
     "text": [
      "\u001b[34m\u001b[1mwandb\u001b[0m: Currently logged in as: \u001b[33med21b044\u001b[0m (\u001b[33mnavinboys\u001b[0m). Use \u001b[1m`wandb login --relogin`\u001b[0m to force relogin\n"
     ]
    },
    {
     "data": {
      "text/plain": [
       "True"
      ]
     },
     "execution_count": 3,
     "metadata": {},
     "output_type": "execute_result"
    }
   ],
   "source": [
    "wandb.login()"
   ]
  },
  {
   "cell_type": "code",
   "execution_count": 4,
   "metadata": {},
   "outputs": [],
   "source": [
    "\n",
    "import torch\n",
    "import torch.nn as nn\n",
    "import torch.nn.functional as F\n",
    "\n",
    "\n",
    "'''\n",
    "Bunch of Hyper parameters (Which you might have to tune later)\n",
    "'''\n",
    "BUFFER_SIZE = int(1e5)  # replay buffer size\n",
    "\n",
    "GAMMA = 0.99            # discount factor\n",
    "LR = 5e-4               # learning rate\n",
    "\n",
    "\n",
    "\n",
    "class QNetwork1(nn.Module):\n",
    "\n",
    "    def __init__(self,fc1_units, fc2_units,type,state_size, action_size):\n",
    "        \"\"\"Initialize parameters and build model.\n",
    "        Params\n",
    "        ======\n",
    "            state_size (int): Dimension of each state\n",
    "            action_size (int): Dimension of each action\n",
    "            seed (int): Random seed\n",
    "            fc1_units (int): Number of nodes in first hidden layer\n",
    "            fc2_units (int): Number of nodes in second hidden layer\n",
    "        \"\"\"\n",
    "        super(QNetwork1, self).__init__()\n",
    "        self.fc1 = nn.Linear(state_size, fc1_units)\n",
    "        self.fc2 = nn.Linear(fc1_units, fc2_units)\n",
    "        self.advantage_fc = nn.Linear(fc2_units, action_size)\n",
    "        self.value_fc = nn.Linear(fc2_units, 1)\n",
    "        self.type = type\n",
    "\n",
    "    def forward(self, state):\n",
    "        \"\"\"Build a network that maps state -> action values.\"\"\"\n",
    "        x = F.relu(self.fc1(state))\n",
    "        x = F.relu(self.fc2(x))\n",
    "        advantage = self.advantage_fc(x)\n",
    "        value = self.value_fc(x)\n",
    "        if self.type == 1:\n",
    "            q_values = value + (advantage - advantage.mean(dim = 1, keepdim = True))\n",
    "        else:\n",
    "            q_values = value + (advantage - torch.max(advantage))\n",
    "        return q_values\n",
    "    \n",
    "    "
   ]
  },
  {
   "cell_type": "code",
   "execution_count": 5,
   "metadata": {},
   "outputs": [],
   "source": [
    "import random\n",
    "import torch\n",
    "import numpy as np\n",
    "from collections import deque, namedtuple\n",
    "\n",
    "device = torch.device(\"cuda:0\" if torch.cuda.is_available() else \"cpu\")\n",
    "\n",
    "class ReplayBuffer:\n",
    "    \"\"\"Fixed-size buffer to store experience tuples.\"\"\"\n",
    "\n",
    "    def __init__(self, action_size, buffer_size, batch_size, seed):\n",
    "        self.action_size = action_size\n",
    "        self.memory = deque(maxlen=buffer_size)\n",
    "        self.batch_size = batch_size\n",
    "        self.experience = namedtuple(\"Experience\", field_names=[\"state\", \"action\", \"reward\", \"next_state\", \"done\"])\n",
    "        self.seed = random.seed(seed)\n",
    "\n",
    "    def add(self, state, action, reward, next_state, done):\n",
    "        \"\"\"Add a new experience to memory.\"\"\"\n",
    "        e = self.experience(state, action, reward, next_state, done)\n",
    "        self.memory.append(e)\n",
    "\n",
    "    def sample(self):\n",
    "        \"\"\"Randomly sample a batch of experiences from memory.\"\"\"\n",
    "        experiences = random.sample(self.memory, k=self.batch_size)\n",
    "        states = torch.from_numpy(np.vstack([e.state for e in experiences if e is not None])).float().to(device)\n",
    "        actions = torch.from_numpy(np.vstack([e.action for e in experiences if e is not None])).long().to(device)\n",
    "        rewards = torch.from_numpy(np.vstack([e.reward for e in experiences if e is not None])).float().to(device)\n",
    "        next_states = torch.from_numpy(np.vstack([e.next_state for e in experiences if e is not None])).float().to(device)\n",
    "        dones = torch.from_numpy(np.vstack([e.done for e in experiences if e is not None]).astype(np.uint8)).float().to(device)\n",
    "\n",
    "        return (states, actions, rewards, next_states, dones)\n",
    "\n",
    "    def __len__(self):\n",
    "        \"\"\"Return the current size of internal memory.\"\"\"\n",
    "        return len(self.memory)"
   ]
  },
  {
   "cell_type": "code",
   "execution_count": 6,
   "metadata": {},
   "outputs": [],
   "source": [
    "from scipy.special import softmax\n",
    "\n",
    "class TutorialAgent():\n",
    "    def __init__(self,lr,Batch_Size,update_rate,type,state_size, action_size,fc1 =128, fc2= 64, seed = 0):\n",
    "        ''' Agent Environment Interaction '''\n",
    "        self.state_size = state_size\n",
    "        self.action_size = action_size\n",
    "        self.batch_size = Batch_Size\n",
    "        self.seed = random.seed(seed)\n",
    "        self.qnetwork_local = QNetwork1(int(fc1),int(fc2),type,state_size, action_size).to(device)\n",
    "        self.qnetwork_target = QNetwork1(int(fc1),int(fc2),type,state_size, action_size).to(device)\n",
    "        self.optimizer = optim.Adam(self.qnetwork_local.parameters(), lr)\n",
    "        self.memory = ReplayBuffer(action_size, BUFFER_SIZE, int(Batch_Size), seed)\n",
    "        self.t_step = 0\n",
    "        self.update_rate = int(update_rate)\n",
    "        \n",
    "\n",
    "    def step(self, state, action, reward, next_state, done):\n",
    "        self.memory.add(state, action, reward, next_state, done)\n",
    "        if len(self.memory) >= self.batch_size:\n",
    "            experiences = self.memory.sample()\n",
    "            self.learn(experiences, GAMMA)\n",
    "        self.t_step = (self.t_step + 1) % self.update_rate\n",
    "        if self.t_step == 0:\n",
    "\n",
    "            self.qnetwork_target.load_state_dict(self.qnetwork_local.state_dict())\n",
    "\n",
    "    def act(self, state, policy, hyp=0.):\n",
    "        state = torch.from_numpy(state).float().unsqueeze(0).to(device)\n",
    "        self.qnetwork_local.eval()\n",
    "        with torch.no_grad():\n",
    "            action_values = self.qnetwork_local(state)\n",
    "        self.qnetwork_local.train()\n",
    "        if(policy == \"eps greedy\"):\n",
    "          if random.random() > hyp:\n",
    "              return np.argmax(action_values.cpu().data.numpy())\n",
    "          else:\n",
    "              return random.choice(np.arange(self.action_size))\n",
    "        if(policy == \"softmax\"):\n",
    "          action_probs = softmax(action_values.cpu().data.numpy().flatten() / hyp)\n",
    "          return np.random.choice(np.arange(self.action_size), p=action_probs)\n",
    "\n",
    "    def learn(self, experiences, gamma):\n",
    "        \"\"\" +E EXPERIENCE REPLAY PRESENT \"\"\"\n",
    "        states, actions, rewards, next_states, dones = experiences\n",
    "        Q_targets_next = self.qnetwork_target(next_states).detach().max(1)[0].unsqueeze(1)\n",
    "        Q_targets = rewards + (gamma * Q_targets_next * (1 - dones))\n",
    "        Q_expected = self.qnetwork_local(states).gather(1, actions)\n",
    "        loss = F.mse_loss(Q_expected, Q_targets)\n",
    "        self.optimizer.zero_grad()\n",
    "        loss.backward()\n",
    "        for param in self.qnetwork_local.parameters():\n",
    "            param.grad.data.clamp_(-1, 1)\n",
    "        self.optimizer.step()\n",
    "\n",
    "    ''' Trial run to check if algorithm runs and saves the data '''\n",
    "\n",
    "class DuelingDQN:\n",
    "    def __init__(self,env, policy, agent):\n",
    "        self.env = env\n",
    "        self.episodes = 4000\n",
    "        self.max_t = 10000\n",
    "        self.policy = policy\n",
    "        self.agent = agent\n",
    "\n",
    "    def train(self):\n",
    "        hyp_start = 1.0\n",
    "        hyp_end = 0.01\n",
    "        hyp_decay = 0.995\n",
    "        hyp = hyp_start\n",
    "        scores_window = deque(maxlen=100)\n",
    "        avg_rewards = []\n",
    "        for i_episode in range(1, self.episodes+1):\n",
    "            state,_ = self.env.reset()\n",
    "            score = 0\n",
    "            for t in range(self.max_t):\n",
    "                action = self.agent.act(state, self.policy, hyp = hyp)\n",
    "                next_state, reward, done, _, _ = self.env.step(action)\n",
    "                self.agent.step(state, action, reward, next_state, done)\n",
    "                state = next_state\n",
    "                score += reward\n",
    "                if done:\n",
    "                 break\n",
    "            scores_window.append(score)\n",
    "            hyp = max(hyp_end, hyp_decay*hyp)\n",
    "            ''' decrease epsilon '''\n",
    "            print('\\rEpisode {}\\tAverage Score: {:.2f}'.format(i_episode, np.mean(scores_window)), end=\"\")\n",
    "            avg_rewards.append(np.mean(scores_window))\n",
    "            if i_episode % 10 == 0:\n",
    "                print('\\rEpisode {}\\tAverage Score: {:.2f}'.format(i_episode, np.mean(scores_window)))\n",
    "            if i_episode >300:\n",
    "            \n",
    "                print('\\nEnvironment solved in {:d} episodes!\\tAverage Score: {:.2f}'.format(i_episode, np.mean(scores_window)))\n",
    "                break\n",
    "            regret = self.regret(avg_rewards)\n",
    "        return regret, avg_rewards\n",
    "    \n",
    "    def run(self):\n",
    "        hyp_start = 1.0\n",
    "        hyp_end = 0.01\n",
    "        hyp_decay = 0.995\n",
    "        hyp = hyp_start\n",
    "        scores_window = deque(maxlen=100)\n",
    "        avg_rewards = []\n",
    "        for i_episode in range(1, self.episodes+1):\n",
    "            state,_ = self.env.reset()\n",
    "            score = 0\n",
    "            for t in range(self.max_t):\n",
    "                action = self.agent.act(state, self.policy, hyp = hyp)\n",
    "                next_state, reward, done, _, _ = self.env.step(action)\n",
    "                state = next_state\n",
    "                score += reward\n",
    "                if done:\n",
    "                 break\n",
    "            if score > 500:\n",
    "                score= 500\n",
    "            scores_window.append(score)\n",
    "            hyp = max(hyp_end, hyp_decay*hyp)\n",
    "            ''' decrease epsilon '''\n",
    "            print('\\rEpisode {}\\tAverage Score: {:.2f}'.format(i_episode, np.mean(scores_window)), end=\"\")\n",
    "            avg_rewards.append(np.mean(scores_window))\n",
    "            if i_episode % 10 == 0:\n",
    "                print('\\rEpisode {}\\tAverage Score: {:.2f}'.format(i_episode, np.mean(scores_window)))\n",
    "            if i_episode >350:\n",
    "            \n",
    "                print('\\nEnvironment solved in {:d} episodes!\\tAverage Score: {:.2f}'.format(i_episode, np.mean(scores_window)))\n",
    "                break\n",
    "            regret = self.regret(avg_rewards)\n",
    "        return regret, avg_rewards\n",
    "    \n",
    "    def regret(self,rewards):\n",
    "        regret = 0\n",
    "        for i in range(len(rewards)):\n",
    "            regret += self.env.spec.reward_threshold - rewards[i]\n",
    "        return regret\n",
    "\n",
    "    \n",
    "        \n"
   ]
  },
  {
   "cell_type": "code",
   "execution_count": 7,
   "metadata": {},
   "outputs": [],
   "source": [
    "lr2 = 0.001\n",
    "batch2 = 68\n",
    "lr1 = 0.0003763\n",
    "batch1 = 56\n",
    "update = 14  \n",
    "env = gym.make(\"CartPole-v1\")\n",
    "state_size = env.observation_space.shape[0]\n",
    "action_size = env.action_space.n\n",
    "agent1 = TutorialAgent(lr1,batch1,update,1,state_size,action_size, seed = 0)\n",
    "agent2 = TutorialAgent(lr2,batch2,update,2,state_size,action_size, seed = 0)"
   ]
  },
  {
   "cell_type": "code",
   "execution_count": 8,
   "metadata": {},
   "outputs": [
    {
     "name": "stdout",
     "output_type": "stream",
     "text": [
      "Episode 10\tAverage Score: 24.50\n",
      "Episode 20\tAverage Score: 28.55\n",
      "Episode 30\tAverage Score: 26.13\n",
      "Episode 40\tAverage Score: 23.90\n",
      "Episode 50\tAverage Score: 22.74\n",
      "Episode 60\tAverage Score: 22.17\n",
      "Episode 70\tAverage Score: 21.20\n",
      "Episode 80\tAverage Score: 20.62\n",
      "Episode 90\tAverage Score: 19.97\n",
      "Episode 100\tAverage Score: 19.44\n",
      "Episode 110\tAverage Score: 18.34\n",
      "Episode 120\tAverage Score: 16.43\n",
      "Episode 130\tAverage Score: 15.76\n",
      "Episode 140\tAverage Score: 15.42\n",
      "Episode 150\tAverage Score: 15.68\n",
      "Episode 160\tAverage Score: 20.86\n",
      "Episode 170\tAverage Score: 27.68\n",
      "Episode 180\tAverage Score: 32.15\n",
      "Episode 190\tAverage Score: 40.38\n",
      "Episode 200\tAverage Score: 51.39\n",
      "Episode 210\tAverage Score: 59.39\n",
      "Episode 220\tAverage Score: 68.68\n",
      "Episode 230\tAverage Score: 77.65\n",
      "Episode 240\tAverage Score: 89.53\n",
      "Episode 250\tAverage Score: 104.08\n",
      "Episode 260\tAverage Score: 119.95\n",
      "Episode 270\tAverage Score: 131.28\n",
      "Episode 280\tAverage Score: 143.00\n",
      "Episode 290\tAverage Score: 150.01\n",
      "Episode 300\tAverage Score: 153.68\n",
      "Episode 301\tAverage Score: 154.05\n",
      "Environment solved in 301 episodes!\tAverage Score: 154.05\n"
     ]
    },
    {
     "data": {
      "text/plain": [
       "(127293.11465121523,\n",
       " [12.0,\n",
       "  14.5,\n",
       "  14.333333333333334,\n",
       "  23.0,\n",
       "  30.0,\n",
       "  30.666666666666668,\n",
       "  28.428571428571427,\n",
       "  26.375,\n",
       "  25.333333333333332,\n",
       "  24.5,\n",
       "  30.818181818181817,\n",
       "  29.083333333333332,\n",
       "  28.53846153846154,\n",
       "  29.0,\n",
       "  28.466666666666665,\n",
       "  27.625,\n",
       "  27.58823529411765,\n",
       "  28.27777777777778,\n",
       "  28.63157894736842,\n",
       "  28.55,\n",
       "  27.714285714285715,\n",
       "  27.09090909090909,\n",
       "  26.52173913043478,\n",
       "  26.208333333333332,\n",
       "  26.52,\n",
       "  26.5,\n",
       "  26.40740740740741,\n",
       "  26.357142857142858,\n",
       "  26.0,\n",
       "  26.133333333333333,\n",
       "  26.032258064516128,\n",
       "  25.5625,\n",
       "  25.151515151515152,\n",
       "  24.794117647058822,\n",
       "  24.428571428571427,\n",
       "  24.47222222222222,\n",
       "  24.243243243243242,\n",
       "  23.973684210526315,\n",
       "  23.794871794871796,\n",
       "  23.9,\n",
       "  23.658536585365855,\n",
       "  23.404761904761905,\n",
       "  23.13953488372093,\n",
       "  22.90909090909091,\n",
       "  22.622222222222224,\n",
       "  22.565217391304348,\n",
       "  22.53191489361702,\n",
       "  22.3125,\n",
       "  22.346938775510203,\n",
       "  22.74,\n",
       "  22.647058823529413,\n",
       "  22.46153846153846,\n",
       "  22.452830188679247,\n",
       "  22.462962962962962,\n",
       "  22.472727272727273,\n",
       "  22.928571428571427,\n",
       "  22.771929824561404,\n",
       "  22.586206896551722,\n",
       "  22.372881355932204,\n",
       "  22.166666666666668,\n",
       "  22.16393442622951,\n",
       "  22.016129032258064,\n",
       "  21.825396825396826,\n",
       "  21.75,\n",
       "  21.630769230769232,\n",
       "  21.62121212121212,\n",
       "  21.582089552238806,\n",
       "  21.5,\n",
       "  21.333333333333332,\n",
       "  21.2,\n",
       "  21.070422535211268,\n",
       "  21.055555555555557,\n",
       "  20.972602739726028,\n",
       "  20.905405405405407,\n",
       "  21.026666666666667,\n",
       "  20.94736842105263,\n",
       "  20.90909090909091,\n",
       "  20.756410256410255,\n",
       "  20.734177215189874,\n",
       "  20.625,\n",
       "  20.51851851851852,\n",
       "  20.378048780487806,\n",
       "  20.228915662650603,\n",
       "  20.202380952380953,\n",
       "  20.11764705882353,\n",
       "  20.209302325581394,\n",
       "  20.160919540229884,\n",
       "  20.170454545454547,\n",
       "  20.078651685393258,\n",
       "  19.966666666666665,\n",
       "  19.86813186813187,\n",
       "  19.83695652173913,\n",
       "  19.795698924731184,\n",
       "  19.79787234042553,\n",
       "  19.789473684210527,\n",
       "  19.697916666666668,\n",
       "  19.649484536082475,\n",
       "  19.571428571428573,\n",
       "  19.494949494949495,\n",
       "  19.44,\n",
       "  19.41,\n",
       "  19.35,\n",
       "  19.3,\n",
       "  18.98,\n",
       "  18.53,\n",
       "  18.42,\n",
       "  18.43,\n",
       "  18.47,\n",
       "  18.4,\n",
       "  18.34,\n",
       "  17.54,\n",
       "  17.55,\n",
       "  17.51,\n",
       "  17.31,\n",
       "  17.28,\n",
       "  17.27,\n",
       "  17.12,\n",
       "  16.83,\n",
       "  16.57,\n",
       "  16.43,\n",
       "  16.45,\n",
       "  16.43,\n",
       "  16.41,\n",
       "  16.34,\n",
       "  16.19,\n",
       "  16.03,\n",
       "  15.95,\n",
       "  15.85,\n",
       "  15.8,\n",
       "  15.76,\n",
       "  15.8,\n",
       "  15.84,\n",
       "  15.83,\n",
       "  15.84,\n",
       "  15.87,\n",
       "  15.71,\n",
       "  15.68,\n",
       "  15.66,\n",
       "  15.59,\n",
       "  15.42,\n",
       "  15.39,\n",
       "  15.4,\n",
       "  15.43,\n",
       "  15.46,\n",
       "  15.68,\n",
       "  15.59,\n",
       "  15.54,\n",
       "  15.69,\n",
       "  15.8,\n",
       "  15.68,\n",
       "  16.04,\n",
       "  16.61,\n",
       "  16.49,\n",
       "  16.64,\n",
       "  17.2,\n",
       "  17.16,\n",
       "  17.57,\n",
       "  19.03,\n",
       "  20.23,\n",
       "  20.86,\n",
       "  21.39,\n",
       "  22.32,\n",
       "  22.68,\n",
       "  24.23,\n",
       "  24.74,\n",
       "  24.88,\n",
       "  25.16,\n",
       "  25.92,\n",
       "  27.21,\n",
       "  27.68,\n",
       "  27.89,\n",
       "  28.4,\n",
       "  28.83,\n",
       "  29.44,\n",
       "  29.63,\n",
       "  30.14,\n",
       "  30.75,\n",
       "  31.25,\n",
       "  31.66,\n",
       "  32.15,\n",
       "  32.86,\n",
       "  33.36,\n",
       "  34.58,\n",
       "  34.83,\n",
       "  36.07,\n",
       "  37.27,\n",
       "  37.28,\n",
       "  38.2,\n",
       "  39.35,\n",
       "  40.38,\n",
       "  41.98,\n",
       "  43.95,\n",
       "  44.7,\n",
       "  44.79,\n",
       "  46.43,\n",
       "  47.05,\n",
       "  48.19,\n",
       "  49.46,\n",
       "  50.5,\n",
       "  51.39,\n",
       "  52.43,\n",
       "  52.96,\n",
       "  53.45,\n",
       "  54.77,\n",
       "  55.48,\n",
       "  56.31,\n",
       "  57.34,\n",
       "  57.48,\n",
       "  58.36,\n",
       "  59.39,\n",
       "  60.14,\n",
       "  61.16,\n",
       "  62.16,\n",
       "  62.88,\n",
       "  64.13,\n",
       "  65.02,\n",
       "  65.56,\n",
       "  66.56,\n",
       "  67.78,\n",
       "  68.68,\n",
       "  69.6,\n",
       "  70.57,\n",
       "  71.5,\n",
       "  72.39,\n",
       "  72.44,\n",
       "  73.85,\n",
       "  74.88,\n",
       "  75.84,\n",
       "  76.75,\n",
       "  77.65,\n",
       "  78.58,\n",
       "  79.96,\n",
       "  81.04,\n",
       "  82.34,\n",
       "  83.54,\n",
       "  84.92,\n",
       "  85.01,\n",
       "  86.59,\n",
       "  88.18,\n",
       "  89.53,\n",
       "  90.64,\n",
       "  92.68,\n",
       "  94.32,\n",
       "  95.48,\n",
       "  96.61,\n",
       "  97.94,\n",
       "  99.26,\n",
       "  100.84,\n",
       "  102.62,\n",
       "  104.08,\n",
       "  105.35,\n",
       "  106.91,\n",
       "  108.72,\n",
       "  110.21,\n",
       "  112.44,\n",
       "  114.05,\n",
       "  116.46,\n",
       "  117.08,\n",
       "  118.2,\n",
       "  119.95,\n",
       "  121.54,\n",
       "  122.43,\n",
       "  124.17,\n",
       "  124.19,\n",
       "  125.59,\n",
       "  127.23,\n",
       "  128.72,\n",
       "  129.5,\n",
       "  129.76,\n",
       "  131.28,\n",
       "  132.79,\n",
       "  133.79,\n",
       "  135.11,\n",
       "  136.2,\n",
       "  137.36,\n",
       "  138.53,\n",
       "  139.59,\n",
       "  140.64,\n",
       "  141.74,\n",
       "  143.0,\n",
       "  143.83,\n",
       "  145.02,\n",
       "  145.33,\n",
       "  146.53,\n",
       "  146.81,\n",
       "  146.73,\n",
       "  148.35,\n",
       "  149.07,\n",
       "  149.55,\n",
       "  150.01,\n",
       "  149.83,\n",
       "  149.3,\n",
       "  150.03,\n",
       "  151.29,\n",
       "  151.13,\n",
       "  152.1,\n",
       "  152.5,\n",
       "  152.81,\n",
       "  153.16,\n",
       "  153.68,\n",
       "  154.05])"
      ]
     },
     "execution_count": 8,
     "metadata": {},
     "output_type": "execute_result"
    }
   ],
   "source": [
    "DDQN1 = DuelingDQN(env,\"eps greedy\",agent1)\n",
    "DDQN1.train()"
   ]
  },
  {
   "cell_type": "code",
   "execution_count": 9,
   "metadata": {},
   "outputs": [
    {
     "name": "stdout",
     "output_type": "stream",
     "text": [
      "Episode 10\tAverage Score: 28.40\n",
      "Episode 20\tAverage Score: 24.00\n",
      "Episode 30\tAverage Score: 24.00\n",
      "Episode 40\tAverage Score: 24.57\n",
      "Episode 50\tAverage Score: 25.68\n",
      "Episode 60\tAverage Score: 29.93\n",
      "Episode 70\tAverage Score: 33.24\n",
      "Episode 80\tAverage Score: 34.92\n",
      "Episode 90\tAverage Score: 37.97\n",
      "Episode 100\tAverage Score: 39.60\n",
      "Episode 110\tAverage Score: 45.68\n",
      "Episode 120\tAverage Score: 52.21\n",
      "Episode 130\tAverage Score: 58.87\n",
      "Episode 140\tAverage Score: 65.93\n",
      "Episode 150\tAverage Score: 78.05\n",
      "Episode 160\tAverage Score: 87.60\n",
      "Episode 170\tAverage Score: 97.16\n",
      "Episode 180\tAverage Score: 109.47\n",
      "Episode 190\tAverage Score: 123.52\n",
      "Episode 200\tAverage Score: 134.15\n",
      "Episode 210\tAverage Score: 139.97\n",
      "Episode 220\tAverage Score: 145.02\n",
      "Episode 230\tAverage Score: 147.94\n",
      "Episode 240\tAverage Score: 157.51\n",
      "Episode 250\tAverage Score: 157.79\n",
      "Episode 260\tAverage Score: 159.44\n",
      "Episode 270\tAverage Score: 167.10\n",
      "Episode 280\tAverage Score: 175.65\n",
      "Episode 290\tAverage Score: 190.72\n",
      "Episode 300\tAverage Score: 199.48\n",
      "Episode 301\tAverage Score: 200.01\n",
      "Environment solved in 301 episodes!\tAverage Score: 200.01\n"
     ]
    },
    {
     "data": {
      "text/plain": [
       "(115236.20613411079,\n",
       " [64.0,\n",
       "  42.0,\n",
       "  35.333333333333336,\n",
       "  34.75,\n",
       "  31.0,\n",
       "  28.0,\n",
       "  28.857142857142858,\n",
       "  29.375,\n",
       "  28.444444444444443,\n",
       "  28.4,\n",
       "  27.545454545454547,\n",
       "  26.833333333333332,\n",
       "  26.307692307692307,\n",
       "  26.214285714285715,\n",
       "  26.0,\n",
       "  25.8125,\n",
       "  25.58823529411765,\n",
       "  25.166666666666668,\n",
       "  24.57894736842105,\n",
       "  24.0,\n",
       "  23.571428571428573,\n",
       "  23.454545454545453,\n",
       "  23.91304347826087,\n",
       "  23.875,\n",
       "  23.32,\n",
       "  23.307692307692307,\n",
       "  22.962962962962962,\n",
       "  23.642857142857142,\n",
       "  24.03448275862069,\n",
       "  24.0,\n",
       "  24.0,\n",
       "  24.53125,\n",
       "  24.424242424242426,\n",
       "  25.294117647058822,\n",
       "  25.2,\n",
       "  25.166666666666668,\n",
       "  24.89189189189189,\n",
       "  24.789473684210527,\n",
       "  24.974358974358974,\n",
       "  24.575,\n",
       "  25.804878048780488,\n",
       "  25.833333333333332,\n",
       "  26.046511627906977,\n",
       "  25.795454545454547,\n",
       "  25.8,\n",
       "  25.52173913043478,\n",
       "  25.659574468085108,\n",
       "  25.604166666666668,\n",
       "  25.408163265306122,\n",
       "  25.68,\n",
       "  26.03921568627451,\n",
       "  26.596153846153847,\n",
       "  27.37735849056604,\n",
       "  27.75925925925926,\n",
       "  27.672727272727272,\n",
       "  28.482142857142858,\n",
       "  28.57894736842105,\n",
       "  28.275862068965516,\n",
       "  28.949152542372882,\n",
       "  29.933333333333334,\n",
       "  30.049180327868854,\n",
       "  31.677419354838708,\n",
       "  31.349206349206348,\n",
       "  32.5,\n",
       "  32.4,\n",
       "  32.18181818181818,\n",
       "  32.92537313432836,\n",
       "  32.9264705882353,\n",
       "  33.17391304347826,\n",
       "  33.24285714285714,\n",
       "  33.563380281690144,\n",
       "  33.40277777777778,\n",
       "  33.42465753424658,\n",
       "  34.08108108108108,\n",
       "  34.0,\n",
       "  34.64473684210526,\n",
       "  34.48051948051948,\n",
       "  34.65384615384615,\n",
       "  35.037974683544306,\n",
       "  34.925,\n",
       "  35.44444444444444,\n",
       "  35.65853658536585,\n",
       "  35.8433734939759,\n",
       "  35.583333333333336,\n",
       "  35.67058823529412,\n",
       "  36.151162790697676,\n",
       "  36.57471264367816,\n",
       "  37.22727272727273,\n",
       "  38.06741573033708,\n",
       "  37.96666666666667,\n",
       "  37.72527472527472,\n",
       "  38.141304347826086,\n",
       "  37.956989247311824,\n",
       "  38.41489361702128,\n",
       "  38.694736842105264,\n",
       "  38.802083333333336,\n",
       "  39.608247422680414,\n",
       "  39.54081632653061,\n",
       "  39.77777777777778,\n",
       "  39.6,\n",
       "  39.75,\n",
       "  40.84,\n",
       "  40.87,\n",
       "  41.0,\n",
       "  41.51,\n",
       "  42.9,\n",
       "  43.32,\n",
       "  43.98,\n",
       "  44.28,\n",
       "  45.68,\n",
       "  46.27,\n",
       "  47.18,\n",
       "  47.9,\n",
       "  48.6,\n",
       "  48.79,\n",
       "  48.97,\n",
       "  49.35,\n",
       "  49.4,\n",
       "  50.05,\n",
       "  52.21,\n",
       "  52.71,\n",
       "  53.14,\n",
       "  53.68,\n",
       "  55.29,\n",
       "  55.55,\n",
       "  56.18,\n",
       "  56.57,\n",
       "  56.3,\n",
       "  57.35,\n",
       "  58.87,\n",
       "  59.16,\n",
       "  60.16,\n",
       "  60.42,\n",
       "  61.43,\n",
       "  63.01,\n",
       "  63.5,\n",
       "  64.43,\n",
       "  64.57,\n",
       "  65.6,\n",
       "  65.93,\n",
       "  66.95,\n",
       "  68.85,\n",
       "  70.12,\n",
       "  70.69,\n",
       "  71.69,\n",
       "  73.28,\n",
       "  73.61,\n",
       "  74.14,\n",
       "  76.44,\n",
       "  78.05,\n",
       "  79.03,\n",
       "  80.13,\n",
       "  81.01,\n",
       "  81.97,\n",
       "  83.21,\n",
       "  83.4,\n",
       "  84.07,\n",
       "  86.16,\n",
       "  87.92,\n",
       "  87.6,\n",
       "  87.96,\n",
       "  88.79,\n",
       "  90.08,\n",
       "  90.96,\n",
       "  91.84,\n",
       "  92.46,\n",
       "  93.72,\n",
       "  94.15,\n",
       "  95.77,\n",
       "  97.16,\n",
       "  96.79,\n",
       "  98.01,\n",
       "  99.6,\n",
       "  101.03,\n",
       "  100.99,\n",
       "  102.67,\n",
       "  104.76,\n",
       "  106.3,\n",
       "  107.76,\n",
       "  109.47,\n",
       "  110.72,\n",
       "  111.7,\n",
       "  112.98,\n",
       "  115.23,\n",
       "  116.54,\n",
       "  117.65,\n",
       "  120.32,\n",
       "  122.0,\n",
       "  121.59,\n",
       "  123.52,\n",
       "  125.26,\n",
       "  126.34,\n",
       "  127.65,\n",
       "  128.23,\n",
       "  129.71,\n",
       "  130.2,\n",
       "  131.39,\n",
       "  131.91,\n",
       "  132.66,\n",
       "  134.15,\n",
       "  135.12,\n",
       "  134.18,\n",
       "  136.98,\n",
       "  137.93,\n",
       "  139.84,\n",
       "  140.05,\n",
       "  139.62,\n",
       "  140.97,\n",
       "  141.03,\n",
       "  139.97,\n",
       "  140.45,\n",
       "  141.24,\n",
       "  141.74,\n",
       "  141.24,\n",
       "  142.34,\n",
       "  143.56,\n",
       "  143.79,\n",
       "  144.99,\n",
       "  146.15,\n",
       "  145.02,\n",
       "  145.95,\n",
       "  146.62,\n",
       "  146.02,\n",
       "  146.19,\n",
       "  147.19,\n",
       "  146.68,\n",
       "  147.23,\n",
       "  148.41,\n",
       "  148.24,\n",
       "  147.94,\n",
       "  147.68,\n",
       "  150.21,\n",
       "  150.52,\n",
       "  151.29,\n",
       "  150.93,\n",
       "  151.99,\n",
       "  153.85,\n",
       "  155.46,\n",
       "  156.26,\n",
       "  157.51,\n",
       "  157.63,\n",
       "  157.8,\n",
       "  158.27,\n",
       "  158.27,\n",
       "  157.81,\n",
       "  158.03,\n",
       "  158.84,\n",
       "  159.17,\n",
       "  158.44,\n",
       "  157.79,\n",
       "  158.88,\n",
       "  159.41,\n",
       "  159.17,\n",
       "  158.9,\n",
       "  159.4,\n",
       "  160.55,\n",
       "  160.99,\n",
       "  160.41,\n",
       "  159.28,\n",
       "  159.44,\n",
       "  160.2,\n",
       "  159.95,\n",
       "  160.4,\n",
       "  160.09,\n",
       "  161.03,\n",
       "  162.97,\n",
       "  163.12,\n",
       "  165.25,\n",
       "  166.48,\n",
       "  167.1,\n",
       "  169.02,\n",
       "  171.82,\n",
       "  172.46,\n",
       "  172.42,\n",
       "  173.03,\n",
       "  172.76,\n",
       "  173.26,\n",
       "  173.85,\n",
       "  174.86,\n",
       "  175.65,\n",
       "  181.43,\n",
       "  181.66,\n",
       "  183.21,\n",
       "  182.54,\n",
       "  183.04,\n",
       "  183.93,\n",
       "  187.21,\n",
       "  188.38,\n",
       "  191.1,\n",
       "  190.72,\n",
       "  192.47,\n",
       "  192.31,\n",
       "  192.51,\n",
       "  193.37,\n",
       "  191.92,\n",
       "  193.37,\n",
       "  194.29,\n",
       "  195.34,\n",
       "  197.85,\n",
       "  199.48,\n",
       "  200.01])"
      ]
     },
     "execution_count": 9,
     "metadata": {},
     "output_type": "execute_result"
    }
   ],
   "source": [
    "DDQN2 = DuelingDQN(env,\"eps greedy\",agent2)\n",
    "DDQN2.train()"
   ]
  },
  {
   "cell_type": "markdown",
   "metadata": {},
   "source": [
    "Training"
   ]
  },
  {
   "cell_type": "code",
   "execution_count": 10,
   "metadata": {},
   "outputs": [
    {
     "name": "stdout",
     "output_type": "stream",
     "text": [
      "Experiment: 1\n",
      "Episode 10\tAverage Score: 22.60\n",
      "Episode 20\tAverage Score: 28.25\n",
      "Episode 30\tAverage Score: 27.93\n",
      "Episode 40\tAverage Score: 26.55\n",
      "Episode 50\tAverage Score: 28.30\n",
      "Episode 60\tAverage Score: 28.28\n",
      "Episode 70\tAverage Score: 33.76\n",
      "Episode 80\tAverage Score: 35.30\n",
      "Episode 90\tAverage Score: 38.08\n",
      "Episode 100\tAverage Score: 41.74\n",
      "Episode 110\tAverage Score: 49.28\n",
      "Episode 120\tAverage Score: 57.29\n",
      "Episode 130\tAverage Score: 67.28\n",
      "Episode 140\tAverage Score: 74.51\n",
      "Episode 150\tAverage Score: 82.04\n",
      "Episode 160\tAverage Score: 89.83\n",
      "Episode 170\tAverage Score: 96.90\n",
      "Episode 180\tAverage Score: 109.85\n",
      "Episode 190\tAverage Score: 118.36\n",
      "Episode 200\tAverage Score: 124.89\n",
      "Episode 210\tAverage Score: 129.50\n",
      "Episode 220\tAverage Score: 135.29\n",
      "Episode 230\tAverage Score: 139.50\n",
      "Episode 240\tAverage Score: 146.24\n",
      "Episode 250\tAverage Score: 152.03\n",
      "Episode 260\tAverage Score: 156.61\n",
      "Episode 270\tAverage Score: 156.28\n",
      "Episode 280\tAverage Score: 156.08\n",
      "Episode 290\tAverage Score: 157.96\n",
      "Episode 300\tAverage Score: 160.74\n",
      "Episode 310\tAverage Score: 163.62\n",
      "Episode 320\tAverage Score: 163.32\n",
      "Episode 330\tAverage Score: 162.99\n",
      "Episode 340\tAverage Score: 163.68\n",
      "Episode 350\tAverage Score: 164.15\n",
      "Episode 351\tAverage Score: 163.92\n",
      "Environment solved in 351 episodes!\tAverage Score: 163.92\n",
      "Experiment: 2\n",
      "Episode 10\tAverage Score: 23.20\n",
      "Episode 20\tAverage Score: 25.45\n",
      "Episode 30\tAverage Score: 25.50\n",
      "Episode 40\tAverage Score: 26.57\n",
      "Episode 50\tAverage Score: 26.20\n",
      "Episode 60\tAverage Score: 28.20\n",
      "Episode 70\tAverage Score: 29.29\n",
      "Episode 80\tAverage Score: 30.94\n",
      "Episode 90\tAverage Score: 33.63\n",
      "Episode 100\tAverage Score: 35.85\n",
      "Episode 110\tAverage Score: 41.39\n",
      "Episode 120\tAverage Score: 49.51\n",
      "Episode 130\tAverage Score: 57.65\n",
      "Episode 140\tAverage Score: 65.74\n",
      "Episode 150\tAverage Score: 76.26\n",
      "Episode 160\tAverage Score: 82.94\n",
      "Episode 170\tAverage Score: 94.02\n",
      "Episode 180\tAverage Score: 104.96\n",
      "Episode 190\tAverage Score: 113.98\n",
      "Episode 200\tAverage Score: 121.47\n",
      "Episode 210\tAverage Score: 126.40\n",
      "Episode 220\tAverage Score: 131.19\n",
      "Episode 230\tAverage Score: 137.26\n",
      "Episode 240\tAverage Score: 140.93\n",
      "Episode 250\tAverage Score: 142.78\n",
      "Episode 260\tAverage Score: 148.33\n",
      "Episode 270\tAverage Score: 148.90\n",
      "Episode 280\tAverage Score: 150.30\n",
      "Episode 290\tAverage Score: 152.66\n",
      "Episode 300\tAverage Score: 155.98\n",
      "Episode 310\tAverage Score: 160.17\n",
      "Episode 320\tAverage Score: 162.34\n",
      "Episode 330\tAverage Score: 163.06\n",
      "Episode 340\tAverage Score: 165.41\n",
      "Episode 350\tAverage Score: 167.34\n",
      "Episode 351\tAverage Score: 167.10\n",
      "Environment solved in 351 episodes!\tAverage Score: 167.10\n",
      "Experiment: 3\n",
      "Episode 10\tAverage Score: 31.50\n",
      "Episode 20\tAverage Score: 32.20\n",
      "Episode 30\tAverage Score: 29.70\n",
      "Episode 40\tAverage Score: 30.32\n",
      "Episode 50\tAverage Score: 31.02\n",
      "Episode 60\tAverage Score: 31.02\n",
      "Episode 70\tAverage Score: 30.86\n",
      "Episode 80\tAverage Score: 32.71\n",
      "Episode 90\tAverage Score: 36.71\n",
      "Episode 100\tAverage Score: 38.57\n",
      "Episode 110\tAverage Score: 44.11\n",
      "Episode 120\tAverage Score: 49.02\n",
      "Episode 130\tAverage Score: 53.87\n",
      "Episode 140\tAverage Score: 61.43\n",
      "Episode 150\tAverage Score: 69.11\n",
      "Episode 160\tAverage Score: 75.31\n",
      "Episode 170\tAverage Score: 89.74\n",
      "Episode 180\tAverage Score: 95.23\n",
      "Episode 190\tAverage Score: 101.72\n",
      "Episode 200\tAverage Score: 110.05\n",
      "Episode 210\tAverage Score: 116.15\n",
      "Episode 220\tAverage Score: 124.00\n",
      "Episode 230\tAverage Score: 131.51\n",
      "Episode 240\tAverage Score: 138.18\n",
      "Episode 250\tAverage Score: 144.25\n",
      "Episode 260\tAverage Score: 151.64\n",
      "Episode 270\tAverage Score: 151.39\n",
      "Episode 280\tAverage Score: 158.35\n",
      "Episode 290\tAverage Score: 161.84\n",
      "Episode 300\tAverage Score: 165.43\n",
      "Episode 310\tAverage Score: 167.60\n",
      "Episode 320\tAverage Score: 167.54\n",
      "Episode 330\tAverage Score: 168.06\n",
      "Episode 340\tAverage Score: 168.04\n",
      "Episode 350\tAverage Score: 167.92\n",
      "Episode 351\tAverage Score: 167.98\n",
      "Environment solved in 351 episodes!\tAverage Score: 167.98\n",
      "Experiment: 4\n",
      "Episode 10\tAverage Score: 22.10\n",
      "Episode 20\tAverage Score: 25.95\n",
      "Episode 30\tAverage Score: 25.57\n",
      "Episode 40\tAverage Score: 24.15\n",
      "Episode 50\tAverage Score: 23.80\n",
      "Episode 60\tAverage Score: 27.08\n",
      "Episode 70\tAverage Score: 28.87\n",
      "Episode 80\tAverage Score: 30.05\n",
      "Episode 90\tAverage Score: 34.42\n",
      "Episode 100\tAverage Score: 38.24\n",
      "Episode 110\tAverage Score: 43.74\n",
      "Episode 120\tAverage Score: 47.95\n",
      "Episode 130\tAverage Score: 55.03\n",
      "Episode 140\tAverage Score: 66.20\n",
      "Episode 150\tAverage Score: 75.78\n",
      "Episode 160\tAverage Score: 83.26\n",
      "Episode 170\tAverage Score: 91.42\n",
      "Episode 180\tAverage Score: 102.89\n",
      "Episode 190\tAverage Score: 110.85\n",
      "Episode 200\tAverage Score: 117.02\n",
      "Episode 210\tAverage Score: 125.17\n",
      "Episode 220\tAverage Score: 131.49\n",
      "Episode 230\tAverage Score: 140.23\n",
      "Episode 240\tAverage Score: 140.53\n",
      "Episode 250\tAverage Score: 144.67\n",
      "Episode 260\tAverage Score: 150.61\n",
      "Episode 270\tAverage Score: 154.29\n",
      "Episode 280\tAverage Score: 156.10\n",
      "Episode 290\tAverage Score: 158.14\n",
      "Episode 300\tAverage Score: 162.32\n",
      "Episode 310\tAverage Score: 163.26\n",
      "Episode 320\tAverage Score: 164.57\n",
      "Episode 330\tAverage Score: 163.66\n",
      "Episode 340\tAverage Score: 166.96\n",
      "Episode 350\tAverage Score: 168.21\n",
      "Episode 351\tAverage Score: 168.12\n",
      "Environment solved in 351 episodes!\tAverage Score: 168.12\n",
      "Experiment: 5\n",
      "Episode 10\tAverage Score: 19.20\n",
      "Episode 20\tAverage Score: 24.65\n",
      "Episode 30\tAverage Score: 26.73\n",
      "Episode 40\tAverage Score: 30.88\n",
      "Episode 50\tAverage Score: 30.64\n",
      "Episode 60\tAverage Score: 32.35\n",
      "Episode 70\tAverage Score: 34.09\n",
      "Episode 80\tAverage Score: 36.40\n",
      "Episode 90\tAverage Score: 37.56\n",
      "Episode 100\tAverage Score: 41.71\n",
      "Episode 110\tAverage Score: 50.73\n",
      "Episode 120\tAverage Score: 58.75\n",
      "Episode 130\tAverage Score: 64.91\n",
      "Episode 140\tAverage Score: 71.82\n",
      "Episode 150\tAverage Score: 74.94\n",
      "Episode 160\tAverage Score: 82.49\n",
      "Episode 170\tAverage Score: 89.90\n",
      "Episode 180\tAverage Score: 98.71\n",
      "Episode 190\tAverage Score: 110.45\n",
      "Episode 200\tAverage Score: 116.89\n",
      "Episode 210\tAverage Score: 121.88\n",
      "Episode 220\tAverage Score: 127.28\n",
      "Episode 230\tAverage Score: 134.01\n",
      "Episode 240\tAverage Score: 137.75\n",
      "Episode 250\tAverage Score: 147.67\n",
      "Episode 260\tAverage Score: 152.78\n",
      "Episode 270\tAverage Score: 157.68\n",
      "Episode 280\tAverage Score: 158.96\n",
      "Episode 290\tAverage Score: 158.63\n",
      "Episode 300\tAverage Score: 162.19\n",
      "Episode 310\tAverage Score: 162.49\n",
      "Episode 320\tAverage Score: 163.44\n",
      "Episode 330\tAverage Score: 164.54\n",
      "Episode 340\tAverage Score: 166.64\n",
      "Episode 350\tAverage Score: 167.09\n",
      "Episode 351\tAverage Score: 166.95\n",
      "Environment solved in 351 episodes!\tAverage Score: 166.95\n",
      "Experiment: 1\n",
      "Episode 10\tAverage Score: 24.70\n",
      "Episode 20\tAverage Score: 24.60\n",
      "Episode 30\tAverage Score: 23.67\n",
      "Episode 40\tAverage Score: 26.27\n",
      "Episode 50\tAverage Score: 27.40\n",
      "Episode 60\tAverage Score: 28.87\n",
      "Episode 70\tAverage Score: 30.30\n",
      "Episode 80\tAverage Score: 33.11\n",
      "Episode 90\tAverage Score: 41.18\n",
      "Episode 100\tAverage Score: 42.60\n",
      "Episode 110\tAverage Score: 50.47\n",
      "Episode 120\tAverage Score: 60.75\n",
      "Episode 130\tAverage Score: 67.27\n",
      "Episode 140\tAverage Score: 78.01\n",
      "Episode 150\tAverage Score: 86.93\n",
      "Episode 160\tAverage Score: 96.28\n",
      "Episode 170\tAverage Score: 106.29\n",
      "Episode 180\tAverage Score: 116.83\n",
      "Episode 190\tAverage Score: 127.31\n",
      "Episode 200\tAverage Score: 138.47\n",
      "Episode 210\tAverage Score: 147.01\n",
      "Episode 220\tAverage Score: 152.68\n",
      "Episode 230\tAverage Score: 161.56\n",
      "Episode 240\tAverage Score: 168.42\n",
      "Episode 250\tAverage Score: 174.38\n",
      "Episode 260\tAverage Score: 182.68\n",
      "Episode 270\tAverage Score: 186.61\n",
      "Episode 280\tAverage Score: 188.59\n",
      "Episode 290\tAverage Score: 189.54\n",
      "Episode 300\tAverage Score: 194.62\n",
      "Episode 310\tAverage Score: 197.76\n",
      "Episode 320\tAverage Score: 199.52\n",
      "Episode 330\tAverage Score: 201.83\n",
      "Episode 340\tAverage Score: 201.07\n",
      "Episode 350\tAverage Score: 204.60\n",
      "Episode 351\tAverage Score: 204.75\n",
      "Environment solved in 351 episodes!\tAverage Score: 204.75\n",
      "Experiment: 2\n",
      "Episode 10\tAverage Score: 20.40\n",
      "Episode 20\tAverage Score: 22.45\n",
      "Episode 30\tAverage Score: 26.13\n",
      "Episode 40\tAverage Score: 27.12\n",
      "Episode 50\tAverage Score: 27.88\n",
      "Episode 60\tAverage Score: 32.15\n",
      "Episode 70\tAverage Score: 32.74\n",
      "Episode 80\tAverage Score: 39.58\n",
      "Episode 90\tAverage Score: 41.67\n",
      "Episode 100\tAverage Score: 46.11\n",
      "Episode 110\tAverage Score: 52.04\n",
      "Episode 120\tAverage Score: 60.43\n",
      "Episode 130\tAverage Score: 68.15\n",
      "Episode 140\tAverage Score: 75.62\n",
      "Episode 150\tAverage Score: 78.98\n",
      "Episode 160\tAverage Score: 89.79\n",
      "Episode 170\tAverage Score: 102.84\n",
      "Episode 180\tAverage Score: 112.08\n",
      "Episode 190\tAverage Score: 122.18\n",
      "Episode 200\tAverage Score: 131.68\n",
      "Episode 210\tAverage Score: 142.31\n",
      "Episode 220\tAverage Score: 151.46\n",
      "Episode 230\tAverage Score: 157.65\n",
      "Episode 240\tAverage Score: 165.37\n",
      "Episode 250\tAverage Score: 176.78\n",
      "Episode 260\tAverage Score: 179.86\n",
      "Episode 270\tAverage Score: 183.75\n",
      "Episode 280\tAverage Score: 184.76\n",
      "Episode 290\tAverage Score: 189.36\n",
      "Episode 300\tAverage Score: 191.71\n",
      "Episode 310\tAverage Score: 192.85\n",
      "Episode 320\tAverage Score: 195.16\n",
      "Episode 330\tAverage Score: 203.26\n",
      "Episode 340\tAverage Score: 206.58\n",
      "Episode 350\tAverage Score: 210.64\n",
      "Episode 351\tAverage Score: 210.63\n",
      "Environment solved in 351 episodes!\tAverage Score: 210.63\n",
      "Experiment: 3\n",
      "Episode 10\tAverage Score: 22.50\n",
      "Episode 20\tAverage Score: 22.50\n",
      "Episode 30\tAverage Score: 21.00\n",
      "Episode 40\tAverage Score: 23.65\n",
      "Episode 50\tAverage Score: 26.82\n",
      "Episode 60\tAverage Score: 28.77\n",
      "Episode 70\tAverage Score: 32.69\n",
      "Episode 80\tAverage Score: 37.16\n",
      "Episode 90\tAverage Score: 41.74\n",
      "Episode 100\tAverage Score: 43.94\n",
      "Episode 110\tAverage Score: 48.71\n",
      "Episode 120\tAverage Score: 55.36\n",
      "Episode 130\tAverage Score: 61.49\n",
      "Episode 140\tAverage Score: 66.71\n",
      "Episode 150\tAverage Score: 79.95\n",
      "Episode 160\tAverage Score: 86.59\n",
      "Episode 170\tAverage Score: 95.83\n",
      "Episode 180\tAverage Score: 104.58\n",
      "Episode 190\tAverage Score: 116.36\n",
      "Episode 200\tAverage Score: 128.53\n",
      "Episode 210\tAverage Score: 140.02\n",
      "Episode 220\tAverage Score: 149.38\n",
      "Episode 230\tAverage Score: 161.83\n",
      "Episode 240\tAverage Score: 170.95\n",
      "Episode 250\tAverage Score: 172.24\n",
      "Episode 260\tAverage Score: 185.77\n",
      "Episode 270\tAverage Score: 192.53\n",
      "Episode 280\tAverage Score: 196.17\n",
      "Episode 290\tAverage Score: 197.00\n",
      "Episode 300\tAverage Score: 199.20\n",
      "Episode 310\tAverage Score: 202.35\n",
      "Episode 320\tAverage Score: 205.20\n",
      "Episode 330\tAverage Score: 204.22\n",
      "Episode 340\tAverage Score: 208.07\n",
      "Episode 350\tAverage Score: 209.48\n",
      "Episode 351\tAverage Score: 208.51\n",
      "Environment solved in 351 episodes!\tAverage Score: 208.51\n",
      "Experiment: 4\n",
      "Episode 10\tAverage Score: 27.90\n",
      "Episode 20\tAverage Score: 27.20\n",
      "Episode 30\tAverage Score: 26.87\n",
      "Episode 40\tAverage Score: 31.30\n",
      "Episode 50\tAverage Score: 34.04\n",
      "Episode 60\tAverage Score: 38.48\n",
      "Episode 70\tAverage Score: 38.56\n",
      "Episode 80\tAverage Score: 39.74\n",
      "Episode 90\tAverage Score: 44.38\n",
      "Episode 100\tAverage Score: 50.44\n",
      "Episode 110\tAverage Score: 55.35\n",
      "Episode 120\tAverage Score: 60.11\n",
      "Episode 130\tAverage Score: 69.26\n",
      "Episode 140\tAverage Score: 74.55\n",
      "Episode 150\tAverage Score: 82.26\n",
      "Episode 160\tAverage Score: 91.71\n",
      "Episode 170\tAverage Score: 104.65\n",
      "Episode 180\tAverage Score: 118.84\n",
      "Episode 190\tAverage Score: 127.61\n",
      "Episode 200\tAverage Score: 137.57\n",
      "Episode 210\tAverage Score: 153.07\n",
      "Episode 220\tAverage Score: 164.42\n",
      "Episode 230\tAverage Score: 171.14\n",
      "Episode 240\tAverage Score: 179.90\n",
      "Episode 250\tAverage Score: 184.76\n",
      "Episode 260\tAverage Score: 188.54\n",
      "Episode 270\tAverage Score: 192.46\n",
      "Episode 280\tAverage Score: 192.11\n",
      "Episode 290\tAverage Score: 196.04\n",
      "Episode 300\tAverage Score: 196.53\n",
      "Episode 310\tAverage Score: 198.27\n",
      "Episode 320\tAverage Score: 200.10\n",
      "Episode 330\tAverage Score: 202.34\n",
      "Episode 340\tAverage Score: 203.32\n",
      "Episode 350\tAverage Score: 207.17\n",
      "Episode 351\tAverage Score: 206.71\n",
      "Environment solved in 351 episodes!\tAverage Score: 206.71\n",
      "Experiment: 5\n",
      "Episode 10\tAverage Score: 27.80\n",
      "Episode 20\tAverage Score: 23.05\n",
      "Episode 30\tAverage Score: 24.97\n",
      "Episode 40\tAverage Score: 26.85\n",
      "Episode 50\tAverage Score: 27.54\n",
      "Episode 60\tAverage Score: 26.83\n",
      "Episode 70\tAverage Score: 33.90\n",
      "Episode 80\tAverage Score: 33.06\n",
      "Episode 90\tAverage Score: 34.56\n",
      "Episode 100\tAverage Score: 41.79\n",
      "Episode 110\tAverage Score: 46.35\n",
      "Episode 120\tAverage Score: 54.03\n",
      "Episode 130\tAverage Score: 58.64\n",
      "Episode 140\tAverage Score: 68.31\n",
      "Episode 150\tAverage Score: 78.31\n",
      "Episode 160\tAverage Score: 93.52\n",
      "Episode 170\tAverage Score: 101.47\n",
      "Episode 180\tAverage Score: 116.98\n",
      "Episode 190\tAverage Score: 127.86\n",
      "Episode 200\tAverage Score: 132.48\n",
      "Episode 210\tAverage Score: 145.53\n",
      "Episode 220\tAverage Score: 155.94\n",
      "Episode 230\tAverage Score: 167.08\n",
      "Episode 240\tAverage Score: 176.49\n",
      "Episode 250\tAverage Score: 182.56\n",
      "Episode 260\tAverage Score: 184.03\n",
      "Episode 270\tAverage Score: 189.41\n",
      "Episode 280\tAverage Score: 189.90\n",
      "Episode 290\tAverage Score: 194.69\n",
      "Episode 300\tAverage Score: 200.78\n",
      "Episode 310\tAverage Score: 201.59\n",
      "Episode 320\tAverage Score: 203.51\n",
      "Episode 330\tAverage Score: 204.77\n",
      "Episode 340\tAverage Score: 202.63\n",
      "Episode 350\tAverage Score: 205.54\n",
      "Episode 351\tAverage Score: 205.54\n",
      "Environment solved in 351 episodes!\tAverage Score: 205.54\n"
     ]
    }
   ],
   "source": [
    "def PerformExpmt(num_expmt):\n",
    "        reward_avgs = []\n",
    "        for i in range(num_expmt):  \n",
    "            print(\"Experiment: %d\"%(i+1))\n",
    "            regret,rewards = DDQN1.run()   \n",
    "            reward_avgs.append(np.asarray(rewards))\n",
    "        mean_base = np.mean(np.array(reward_avgs), axis=0)\n",
    "        std_base = np.std(reward_avgs, axis=0)\n",
    "\n",
    "        reward_avgs = []\n",
    "        for i in range(num_expmt):  \n",
    "            print(\"Experiment: %d\"%(i+1))\n",
    "            regret,rewards = DDQN2.run()   \n",
    "            reward_avgs.append(np.asarray(rewards))\n",
    "        mean_wbase = np.mean(np.array(reward_avgs), axis=0)\n",
    "        std_wbase = np.std(reward_avgs, axis=0)\n",
    "        return mean_base, std_base, mean_wbase, std_wbase\n",
    "\n",
    "mean_base, std_base, mean_wbase, std_wbase = PerformExpmt(5)"
   ]
  },
  {
   "cell_type": "code",
   "execution_count": 15,
   "metadata": {},
   "outputs": [
    {
     "name": "stderr",
     "output_type": "stream",
     "text": [
      "Exception in thread Exception in threading.excepthook:\n",
      "Exception ignored in thread started by: <bound method Thread._bootstrap of <Thread(Thread-73 (_run_job), stopped 139009861854784)>>\n",
      "Traceback (most recent call last):\n",
      "  File \"/usr/lib/python3.10/threading.py\", line 973, in _bootstrap\n",
      "    self._bootstrap_inner()\n",
      "  File \"/usr/lib/python3.10/threading.py\", line 1018, in _bootstrap_inner\n",
      "    self._invoke_excepthook(self)\n",
      "  File \"/usr/lib/python3.10/threading.py\", line 1336, in invoke_excepthook\n",
      "    local_print(\"Exception in threading.excepthook:\",\n",
      "  File \"/home/navin/.local/lib/python3.10/site-packages/ipykernel/iostream.py\", line 604, in flush\n",
      "    self.pub_thread.schedule(self._flush)\n",
      "  File \"/home/navin/.local/lib/python3.10/site-packages/ipykernel/iostream.py\", line 267, in schedule\n",
      "    self._event_pipe.send(b\"\")\n",
      "  File \"/home/navin/.local/lib/python3.10/site-packages/zmq/sugar/socket.py\", line 696, in send\n",
      "    return super().send(data, flags=flags, copy=copy, track=track)\n",
      "  File \"zmq/backend/cython/socket.pyx\", line 742, in zmq.backend.cython.socket.Socket.send\n",
      "  File \"zmq/backend/cython/socket.pyx\", line 783, in zmq.backend.cython.socket.Socket.send\n",
      "  File \"zmq/backend/cython/socket.pyx\", line 138, in zmq.backend.cython.socket._check_closed\n",
      "zmq.error.ZMQError: Socket operation on non-socket\n",
      "Exception ignored in sys.unraisablehook: <built-in function unraisablehook>\n",
      "Traceback (most recent call last):\n",
      "  File \"/home/navin/.local/lib/python3.10/site-packages/ipykernel/iostream.py\", line 604, in flush\n",
      "    self.pub_thread.schedule(self._flush)\n",
      "  File \"/home/navin/.local/lib/python3.10/site-packages/ipykernel/iostream.py\", line 267, in schedule\n",
      "    self._event_pipe.send(b\"\")\n",
      "  File \"/home/navin/.local/lib/python3.10/site-packages/zmq/sugar/socket.py\", line 696, in send\n",
      "    return super().send(data, flags=flags, copy=copy, track=track)\n",
      "  File \"zmq/backend/cython/socket.pyx\", line 742, in zmq.backend.cython.socket.Socket.send\n",
      "  File \"zmq/backend/cython/socket.pyx\", line 783, in zmq.backend.cython.socket.Socket.send\n",
      "  File \"zmq/backend/cython/socket.pyx\", line 138, in zmq.backend.cython.socket._check_closed\n",
      "zmq.error.ZMQError: Socket operation on non-socket\n"
     ]
    },
    {
     "data": {
      "image/png": "[encoded data removed]",
      "text/plain": [
       "<Figure size 1000x600 with 1 Axes>"
      ]
     },
     "metadata": {},
     "output_type": "display_data"
    }
   ],
   "source": [
    "plt.figure(figsize=(10, 6))\n",
    "plt.plot(range(351), mean_base, label='Type 1', color='green')\n",
    "plt.fill_between(range(351), mean_base - std_base, mean_base + std_base, alpha=0.3, color='green')\n",
    "plt.plot(range(351), mean_wbase, label='Type 2', color='blue')\n",
    "plt.fill_between(range(351), mean_wbase - std_wbase, mean_wbase + std_wbase, alpha=0.3, color='blue')\n",
    "plt.xlabel('Episode')\n",
    "plt.ylabel('Averaged Episodic Returns')\n",
    "plt.title(\"Averaged Episodic Returns over 5 experiments\")\n",
    "plt.legend()\n",
    "plt.grid()\n",
    "plt.savefig('withoutbaseline.png')\n",
    "plt.show()"
   ]
  },
  {
   "cell_type": "markdown",
   "metadata": {},
   "source": [
    "Running Expmts"
   ]
  },
  {
   "cell_type": "markdown",
   "metadata": {},
   "source": [
    "Tuning"
   ]
  },
  {
   "cell_type": "code",
   "execution_count": 12,
   "metadata": {},
   "outputs": [
    {
     "name": "stdout",
     "output_type": "stream",
     "text": [
      "Create sweep with ID: u9kp5kms\n",
      "Sweep URL: https://wandb.ai/navinboys/dqCart-V1/sweeps/u9kp5kms\n"
     ]
    },
    {
     "name": "stderr",
     "output_type": "stream",
     "text": [
      "\u001b[34m\u001b[1mwandb\u001b[0m: Agent Starting Run: n8973i90 with config:\n",
      "\u001b[34m\u001b[1mwandb\u001b[0m: \tbatch: 48.70249057889289\n",
      "\u001b[34m\u001b[1mwandb\u001b[0m: \tlr: 0.00602492191007833\n",
      "\u001b[34m\u001b[1mwandb\u001b[0m: \toptimizer: sgd\n",
      "\u001b[34m\u001b[1mwandb\u001b[0m: \tupdate1: 23.27953721068106\n",
      "Failed to detect the name of this notebook, you can set it manually with the WANDB_NOTEBOOK_NAME environment variable to enable code saving.\n"
     ]
    },
    {
     "data": {
      "text/html": [
       "wandb version 0.16.6 is available!  To upgrade, please run:\n",
       " $ pip install wandb --upgrade"
      ],
      "text/plain": [
       "<IPython.core.display.HTML object>"
      ]
     },
     "metadata": {},
     "output_type": "display_data"
    },
    {
     "data": {
      "text/html": [
       "Tracking run with wandb version 0.16.5"
      ],
      "text/plain": [
       "<IPython.core.display.HTML object>"
      ]
     },
     "metadata": {},
     "output_type": "display_data"
    },
    {
     "data": {
      "text/html": [
       "Run data is saved locally in <code>/home/navin/Programming-assignment-2/wandb/run-20240406_172933-n8973i90</code>"
      ],
      "text/plain": [
       "<IPython.core.display.HTML object>"
      ]
     },
     "metadata": {},
     "output_type": "display_data"
    },
    {
     "data": {
      "text/html": [
       "Syncing run <strong><a href='https://wandb.ai/navinboys/dqCart-V1/runs/n8973i90/workspace' target=\"_blank\">curious-sweep-1</a></strong> to <a href='https://wandb.ai/navinboys/dqCart-V1' target=\"_blank\">Weights & Biases</a> (<a href='https://wandb.me/run' target=\"_blank\">docs</a>)<br/>Sweep page: <a href='https://wandb.ai/navinboys/dqCart-V1/sweeps/u9kp5kms' target=\"_blank\">https://wandb.ai/navinboys/dqCart-V1/sweeps/u9kp5kms</a>"
      ],
      "text/plain": [
       "<IPython.core.display.HTML object>"
      ]
     },
     "metadata": {},
     "output_type": "display_data"
    },
    {
     "data": {
      "text/html": [
       " View project at <a href='https://wandb.ai/navinboys/dqCart-V1' target=\"_blank\">https://wandb.ai/navinboys/dqCart-V1</a>"
      ],
      "text/plain": [
       "<IPython.core.display.HTML object>"
      ]
     },
     "metadata": {},
     "output_type": "display_data"
    },
    {
     "data": {
      "text/html": [
       " View sweep at <a href='https://wandb.ai/navinboys/dqCart-V1/sweeps/u9kp5kms' target=\"_blank\">https://wandb.ai/navinboys/dqCart-V1/sweeps/u9kp5kms</a>"
      ],
      "text/plain": [
       "<IPython.core.display.HTML object>"
      ]
     },
     "metadata": {},
     "output_type": "display_data"
    },
    {
     "data": {
      "text/html": [
       " View run at <a href='https://wandb.ai/navinboys/dqCart-V1/runs/n8973i90/workspace' target=\"_blank\">https://wandb.ai/navinboys/dqCart-V1/runs/n8973i90/workspace</a>"
      ],
      "text/plain": [
       "<IPython.core.display.HTML object>"
      ]
     },
     "metadata": {},
     "output_type": "display_data"
    },
    {
     "name": "stdout",
     "output_type": "stream",
     "text": [
      "Episode 10\tAverage Score: 18.70\n",
      "Episode 20\tAverage Score: 21.90\n",
      "Episode 30\tAverage Score: 28.23\n",
      "Episode 40\tAverage Score: 27.05\n",
      "Episode 50\tAverage Score: 29.26\n",
      "Episode 60\tAverage Score: 29.35\n",
      "Episode 70\tAverage Score: 30.16\n",
      "Episode 80\tAverage Score: 29.45\n",
      "Episode 90\tAverage Score: 29.34\n",
      "Episode 100\tAverage Score: 30.48\n",
      "Episode 110\tAverage Score: 32.44\n",
      "Episode 120\tAverage Score: 34.44\n",
      "Episode 130\tAverage Score: 33.55\n",
      "Episode 140\tAverage Score: 35.70\n",
      "Episode 150\tAverage Score: 38.43\n",
      "Episode 160\tAverage Score: 40.77\n",
      "Episode 170\tAverage Score: 41.47\n",
      "Episode 180\tAverage Score: 43.18\n",
      "Episode 190\tAverage Score: 44.78\n",
      "Episode 200\tAverage Score: 50.37\n",
      "Episode 210\tAverage Score: 56.70\n",
      "Episode 220\tAverage Score: 60.90\n",
      "Episode 230\tAverage Score: 67.51\n",
      "Episode 240\tAverage Score: 72.75\n",
      "Episode 250\tAverage Score: 82.27\n",
      "Episode 260\tAverage Score: 87.50\n",
      "Episode 270\tAverage Score: 100.71\n",
      "Episode 280\tAverage Score: 108.08\n",
      "Episode 290\tAverage Score: 111.75\n",
      "Episode 300\tAverage Score: 104.96\n",
      "Episode 301\tAverage Score: 103.82\n",
      "Environment solved in 301 episodes!\tAverage Score: 103.82\n"
     ]
    },
    {
     "data": {
      "text/html": [
       "<style>\n",
       "    table.wandb td:nth-child(1) { padding: 0 10px; text-align: left ; width: auto;} td:nth-child(2) {text-align: left ; width: 100%}\n",
       "    .wandb-row { display: flex; flex-direction: row; flex-wrap: wrap; justify-content: flex-start; width: 100% }\n",
       "    .wandb-col { display: flex; flex-direction: column; flex-basis: 100%; flex: 1; padding: 10px; }\n",
       "    </style>\n",
       "<div class=\"wandb-row\"><div class=\"wandb-col\"><h3>Run history:</h3><br/><table class=\"wandb\"><tr><td>Regret</td><td>▁</td></tr><tr><td>Score</td><td>▁▁▁▁▂▂▂▂▂▂▂▂▂▂▂▂▂▂▂▃▃▃▃▃▃▃▃▄▄▄▅▅▅▆▆▇███▇</td></tr><tr><td>epoch</td><td>▁▁▁▁▂▂▂▂▂▃▃▃▃▃▃▄▄▄▄▄▅▅▅▅▅▅▆▆▆▆▆▆▇▇▇▇▇███</td></tr></table><br/></div><div class=\"wandb-col\"><h3>Run summary:</h3><br/><table class=\"wandb\"><tr><td>Regret</td><td>127697.80166</td></tr><tr><td>Score</td><td>103.82</td></tr><tr><td>epoch</td><td>300</td></tr></table><br/></div></div>"
      ],
      "text/plain": [
       "<IPython.core.display.HTML object>"
      ]
     },
     "metadata": {},
     "output_type": "display_data"
    },
    {
     "data": {
      "text/html": [
       " View run <strong style=\"color:#cdcd00\">curious-sweep-1</strong> at: <a href='https://wandb.ai/navinboys/dqCart-V1/runs/n8973i90/workspace' target=\"_blank\">https://wandb.ai/navinboys/dqCart-V1/runs/n8973i90/workspace</a><br/>Synced 5 W&B file(s), 0 media file(s), 0 artifact file(s) and 0 other file(s)"
      ],
      "text/plain": [
       "<IPython.core.display.HTML object>"
      ]
     },
     "metadata": {},
     "output_type": "display_data"
    },
    {
     "data": {
      "text/html": [
       "Find logs at: <code>./wandb/run-20240406_172933-n8973i90/logs</code>"
      ],
      "text/plain": [
       "<IPython.core.display.HTML object>"
      ]
     },
     "metadata": {},
     "output_type": "display_data"
    },
    {
     "name": "stderr",
     "output_type": "stream",
     "text": [
      "\u001b[34m\u001b[1mwandb\u001b[0m: Agent Starting Run: 682l0y0r with config:\n",
      "\u001b[34m\u001b[1mwandb\u001b[0m: \tbatch: 60.154355603609744\n",
      "\u001b[34m\u001b[1mwandb\u001b[0m: \tlr: 0.00185600385241123\n",
      "\u001b[34m\u001b[1mwandb\u001b[0m: \toptimizer: sgd\n",
      "\u001b[34m\u001b[1mwandb\u001b[0m: \tupdate1: 28.8688534526864\n",
      "Failed to detect the name of this notebook, you can set it manually with the WANDB_NOTEBOOK_NAME environment variable to enable code saving.\n"
     ]
    },
    {
     "data": {
      "text/html": [
       "wandb version 0.16.6 is available!  To upgrade, please run:\n",
       " $ pip install wandb --upgrade"
      ],
      "text/plain": [
       "<IPython.core.display.HTML object>"
      ]
     },
     "metadata": {},
     "output_type": "display_data"
    },
    {
     "data": {
      "text/html": [
       "Tracking run with wandb version 0.16.5"
      ],
      "text/plain": [
       "<IPython.core.display.HTML object>"
      ]
     },
     "metadata": {},
     "output_type": "display_data"
    },
    {
     "data": {
      "text/html": [
       "Run data is saved locally in <code>/home/navin/Programming-assignment-2/wandb/run-20240406_173031-682l0y0r</code>"
      ],
      "text/plain": [
       "<IPython.core.display.HTML object>"
      ]
     },
     "metadata": {},
     "output_type": "display_data"
    },
    {
     "data": {
      "text/html": [
       "Syncing run <strong><a href='https://wandb.ai/navinboys/dqCart-V1/runs/682l0y0r/workspace' target=\"_blank\">laced-sweep-2</a></strong> to <a href='https://wandb.ai/navinboys/dqCart-V1' target=\"_blank\">Weights & Biases</a> (<a href='https://wandb.me/run' target=\"_blank\">docs</a>)<br/>Sweep page: <a href='https://wandb.ai/navinboys/dqCart-V1/sweeps/u9kp5kms' target=\"_blank\">https://wandb.ai/navinboys/dqCart-V1/sweeps/u9kp5kms</a>"
      ],
      "text/plain": [
       "<IPython.core.display.HTML object>"
      ]
     },
     "metadata": {},
     "output_type": "display_data"
    },
    {
     "data": {
      "text/html": [
       " View project at <a href='https://wandb.ai/navinboys/dqCart-V1' target=\"_blank\">https://wandb.ai/navinboys/dqCart-V1</a>"
      ],
      "text/plain": [
       "<IPython.core.display.HTML object>"
      ]
     },
     "metadata": {},
     "output_type": "display_data"
    },
    {
     "data": {
      "text/html": [
       " View sweep at <a href='https://wandb.ai/navinboys/dqCart-V1/sweeps/u9kp5kms' target=\"_blank\">https://wandb.ai/navinboys/dqCart-V1/sweeps/u9kp5kms</a>"
      ],
      "text/plain": [
       "<IPython.core.display.HTML object>"
      ]
     },
     "metadata": {},
     "output_type": "display_data"
    },
    {
     "data": {
      "text/html": [
       " View run at <a href='https://wandb.ai/navinboys/dqCart-V1/runs/682l0y0r/workspace' target=\"_blank\">https://wandb.ai/navinboys/dqCart-V1/runs/682l0y0r/workspace</a>"
      ],
      "text/plain": [
       "<IPython.core.display.HTML object>"
      ]
     },
     "metadata": {},
     "output_type": "display_data"
    },
    {
     "name": "stdout",
     "output_type": "stream",
     "text": [
      "Episode 10\tAverage Score: 34.90\n",
      "Episode 20\tAverage Score: 30.40\n",
      "Episode 30\tAverage Score: 30.90\n",
      "Episode 40\tAverage Score: 33.80\n",
      "Episode 50\tAverage Score: 34.60\n",
      "Episode 60\tAverage Score: 35.02\n",
      "Episode 70\tAverage Score: 36.87\n",
      "Episode 80\tAverage Score: 38.11\n",
      "Episode 90\tAverage Score: 43.54\n",
      "Episode 100\tAverage Score: 46.49\n",
      "Episode 110\tAverage Score: 49.52\n",
      "Episode 120\tAverage Score: 55.57\n",
      "Episode 130\tAverage Score: 62.27\n",
      "Episode 140\tAverage Score: 67.88\n",
      "Episode 150\tAverage Score: 73.82\n",
      "Episode 160\tAverage Score: 82.21\n",
      "Episode 170\tAverage Score: 89.64\n",
      "Episode 180\tAverage Score: 93.34\n",
      "Episode 190\tAverage Score: 97.68\n",
      "Episode 200\tAverage Score: 108.12\n",
      "Episode 210\tAverage Score: 120.92\n",
      "Episode 220\tAverage Score: 132.06\n",
      "Episode 230\tAverage Score: 139.41\n",
      "Episode 240\tAverage Score: 155.74\n",
      "Episode 250\tAverage Score: 162.56\n",
      "Episode 260\tAverage Score: 158.91\n",
      "Episode 270\tAverage Score: 148.56\n",
      "Episode 280\tAverage Score: 141.21\n",
      "Episode 290\tAverage Score: 129.25\n",
      "Episode 300\tAverage Score: 112.65\n",
      "Episode 301\tAverage Score: 110.88\n",
      "Environment solved in 301 episodes!\tAverage Score: 110.88\n"
     ]
    },
    {
     "data": {
      "text/html": [
       "<style>\n",
       "    table.wandb td:nth-child(1) { padding: 0 10px; text-align: left ; width: auto;} td:nth-child(2) {text-align: left ; width: 100%}\n",
       "    .wandb-row { display: flex; flex-direction: row; flex-wrap: wrap; justify-content: flex-start; width: 100% }\n",
       "    .wandb-col { display: flex; flex-direction: column; flex-basis: 100%; flex: 1; padding: 10px; }\n",
       "    </style>\n",
       "<div class=\"wandb-row\"><div class=\"wandb-col\"><h3>Run history:</h3><br/><table class=\"wandb\"><tr><td>Regret</td><td>▁</td></tr><tr><td>Score</td><td>▂▁▁▁▁▁▁▁▁▁▁▂▂▂▂▂▂▃▃▃▃▄▄▄▄▅▅▅▆▇▇▇███▇▇▇▆▅</td></tr><tr><td>epoch</td><td>▁▁▁▁▂▂▂▂▂▃▃▃▃▃▃▄▄▄▄▄▅▅▅▅▅▅▆▆▆▆▆▆▇▇▇▇▇███</td></tr></table><br/></div><div class=\"wandb-col\"><h3>Run summary:</h3><br/><table class=\"wandb\"><tr><td>Regret</td><td>117412.57143</td></tr><tr><td>Score</td><td>110.88</td></tr><tr><td>epoch</td><td>300</td></tr></table><br/></div></div>"
      ],
      "text/plain": [
       "<IPython.core.display.HTML object>"
      ]
     },
     "metadata": {},
     "output_type": "display_data"
    },
    {
     "data": {
      "text/html": [
       " View run <strong style=\"color:#cdcd00\">laced-sweep-2</strong> at: <a href='https://wandb.ai/navinboys/dqCart-V1/runs/682l0y0r/workspace' target=\"_blank\">https://wandb.ai/navinboys/dqCart-V1/runs/682l0y0r/workspace</a><br/>Synced 5 W&B file(s), 0 media file(s), 0 artifact file(s) and 0 other file(s)"
      ],
      "text/plain": [
       "<IPython.core.display.HTML object>"
      ]
     },
     "metadata": {},
     "output_type": "display_data"
    },
    {
     "data": {
      "text/html": [
       "Find logs at: <code>./wandb/run-20240406_173031-682l0y0r/logs</code>"
      ],
      "text/plain": [
       "<IPython.core.display.HTML object>"
      ]
     },
     "metadata": {},
     "output_type": "display_data"
    },
    {
     "name": "stderr",
     "output_type": "stream",
     "text": [
      "\u001b[34m\u001b[1mwandb\u001b[0m: Sweep Agent: Waiting for job.\n",
      "\u001b[34m\u001b[1mwandb\u001b[0m: Job received.\n",
      "\u001b[34m\u001b[1mwandb\u001b[0m: Agent Starting Run: k5ey0qg3 with config:\n",
      "\u001b[34m\u001b[1mwandb\u001b[0m: \tbatch: 70.44029892850905\n",
      "\u001b[34m\u001b[1mwandb\u001b[0m: \tlr: 0.00675272265087345\n",
      "\u001b[34m\u001b[1mwandb\u001b[0m: \toptimizer: adam\n",
      "\u001b[34m\u001b[1mwandb\u001b[0m: \tupdate1: 24.24584901787047\n",
      "Failed to detect the name of this notebook, you can set it manually with the WANDB_NOTEBOOK_NAME environment variable to enable code saving.\n"
     ]
    },
    {
     "data": {
      "text/html": [
       "wandb version 0.16.6 is available!  To upgrade, please run:\n",
       " $ pip install wandb --upgrade"
      ],
      "text/plain": [
       "<IPython.core.display.HTML object>"
      ]
     },
     "metadata": {},
     "output_type": "display_data"
    },
    {
     "data": {
      "text/html": [
       "Tracking run with wandb version 0.16.5"
      ],
      "text/plain": [
       "<IPython.core.display.HTML object>"
      ]
     },
     "metadata": {},
     "output_type": "display_data"
    },
    {
     "data": {
      "text/html": [
       "Run data is saved locally in <code>/home/navin/Programming-assignment-2/wandb/run-20240406_173207-k5ey0qg3</code>"
      ],
      "text/plain": [
       "<IPython.core.display.HTML object>"
      ]
     },
     "metadata": {},
     "output_type": "display_data"
    },
    {
     "data": {
      "text/html": [
       "Syncing run <strong><a href='https://wandb.ai/navinboys/dqCart-V1/runs/k5ey0qg3/workspace' target=\"_blank\">polar-sweep-3</a></strong> to <a href='https://wandb.ai/navinboys/dqCart-V1' target=\"_blank\">Weights & Biases</a> (<a href='https://wandb.me/run' target=\"_blank\">docs</a>)<br/>Sweep page: <a href='https://wandb.ai/navinboys/dqCart-V1/sweeps/u9kp5kms' target=\"_blank\">https://wandb.ai/navinboys/dqCart-V1/sweeps/u9kp5kms</a>"
      ],
      "text/plain": [
       "<IPython.core.display.HTML object>"
      ]
     },
     "metadata": {},
     "output_type": "display_data"
    },
    {
     "data": {
      "text/html": [
       " View project at <a href='https://wandb.ai/navinboys/dqCart-V1' target=\"_blank\">https://wandb.ai/navinboys/dqCart-V1</a>"
      ],
      "text/plain": [
       "<IPython.core.display.HTML object>"
      ]
     },
     "metadata": {},
     "output_type": "display_data"
    },
    {
     "data": {
      "text/html": [
       " View sweep at <a href='https://wandb.ai/navinboys/dqCart-V1/sweeps/u9kp5kms' target=\"_blank\">https://wandb.ai/navinboys/dqCart-V1/sweeps/u9kp5kms</a>"
      ],
      "text/plain": [
       "<IPython.core.display.HTML object>"
      ]
     },
     "metadata": {},
     "output_type": "display_data"
    },
    {
     "data": {
      "text/html": [
       " View run at <a href='https://wandb.ai/navinboys/dqCart-V1/runs/k5ey0qg3/workspace' target=\"_blank\">https://wandb.ai/navinboys/dqCart-V1/runs/k5ey0qg3/workspace</a>"
      ],
      "text/plain": [
       "<IPython.core.display.HTML object>"
      ]
     },
     "metadata": {},
     "output_type": "display_data"
    },
    {
     "name": "stdout",
     "output_type": "stream",
     "text": [
      "Episode 10\tAverage Score: 23.00\n",
      "Episode 20\tAverage Score: 21.90\n",
      "Episode 30\tAverage Score: 20.87\n",
      "Episode 40\tAverage Score: 22.55\n",
      "Episode 50\tAverage Score: 28.46\n",
      "Episode 60\tAverage Score: 30.53\n",
      "Episode 70\tAverage Score: 31.44\n",
      "Episode 80\tAverage Score: 32.04\n",
      "Episode 90\tAverage Score: 33.76\n",
      "Episode 100\tAverage Score: 33.90\n",
      "Episode 110\tAverage Score: 36.29\n",
      "Episode 120\tAverage Score: 37.49\n",
      "Episode 130\tAverage Score: 39.27\n",
      "Episode 140\tAverage Score: 42.31\n",
      "Episode 150\tAverage Score: 42.93\n",
      "Episode 160\tAverage Score: 42.30\n",
      "Episode 170\tAverage Score: 46.53\n",
      "Episode 180\tAverage Score: 52.43\n",
      "Episode 190\tAverage Score: 56.96\n",
      "Episode 200\tAverage Score: 59.16\n",
      "Episode 210\tAverage Score: 57.82\n",
      "Episode 220\tAverage Score: 56.30\n",
      "Episode 230\tAverage Score: 54.84\n",
      "Episode 240\tAverage Score: 50.24\n",
      "Episode 250\tAverage Score: 45.58\n",
      "Episode 260\tAverage Score: 43.18\n",
      "Episode 270\tAverage Score: 36.37\n",
      "Episode 280\tAverage Score: 27.92\n",
      "Episode 290\tAverage Score: 19.86\n",
      "Episode 300\tAverage Score: 15.26\n",
      "Episode 301\tAverage Score: 14.78\n",
      "Environment solved in 301 episodes!\tAverage Score: 14.78\n"
     ]
    },
    {
     "data": {
      "text/html": [
       "<style>\n",
       "    table.wandb td:nth-child(1) { padding: 0 10px; text-align: left ; width: auto;} td:nth-child(2) {text-align: left ; width: 100%}\n",
       "    .wandb-row { display: flex; flex-direction: row; flex-wrap: wrap; justify-content: flex-start; width: 100% }\n",
       "    .wandb-col { display: flex; flex-direction: column; flex-basis: 100%; flex: 1; padding: 10px; }\n",
       "    </style>\n",
       "<div class=\"wandb-row\"><div class=\"wandb-col\"><h3>Run history:</h3><br/><table class=\"wandb\"><tr><td>Regret</td><td>▁</td></tr><tr><td>Score</td><td>▂▂▂▂▂▂▃▃▄▄▄▄▄▄▄▄▅▅▅▅▅▅▆▇▇█████▇▇▆▆▅▅▃▃▂▁</td></tr><tr><td>epoch</td><td>▁▁▁▁▂▂▂▂▂▃▃▃▃▃▃▄▄▄▄▄▅▅▅▅▅▅▆▆▆▆▆▆▇▇▇▇▇███</td></tr></table><br/></div><div class=\"wandb-col\"><h3>Run summary:</h3><br/><table class=\"wandb\"><tr><td>Regret</td><td>131085.25669</td></tr><tr><td>Score</td><td>14.78</td></tr><tr><td>epoch</td><td>300</td></tr></table><br/></div></div>"
      ],
      "text/plain": [
       "<IPython.core.display.HTML object>"
      ]
     },
     "metadata": {},
     "output_type": "display_data"
    },
    {
     "data": {
      "text/html": [
       " View run <strong style=\"color:#cdcd00\">polar-sweep-3</strong> at: <a href='https://wandb.ai/navinboys/dqCart-V1/runs/k5ey0qg3/workspace' target=\"_blank\">https://wandb.ai/navinboys/dqCart-V1/runs/k5ey0qg3/workspace</a><br/>Synced 5 W&B file(s), 0 media file(s), 0 artifact file(s) and 0 other file(s)"
      ],
      "text/plain": [
       "<IPython.core.display.HTML object>"
      ]
     },
     "metadata": {},
     "output_type": "display_data"
    },
    {
     "data": {
      "text/html": [
       "Find logs at: <code>./wandb/run-20240406_173207-k5ey0qg3/logs</code>"
      ],
      "text/plain": [
       "<IPython.core.display.HTML object>"
      ]
     },
     "metadata": {},
     "output_type": "display_data"
    },
    {
     "name": "stderr",
     "output_type": "stream",
     "text": [
      "\u001b[34m\u001b[1mwandb\u001b[0m: Agent Starting Run: 41m34b8q with config:\n",
      "\u001b[34m\u001b[1mwandb\u001b[0m: \tbatch: 47.11182122420987\n",
      "\u001b[34m\u001b[1mwandb\u001b[0m: \tlr: 0.002907885424703804\n",
      "\u001b[34m\u001b[1mwandb\u001b[0m: \toptimizer: sgd\n",
      "\u001b[34m\u001b[1mwandb\u001b[0m: \tupdate1: 27.98756975372489\n",
      "Failed to detect the name of this notebook, you can set it manually with the WANDB_NOTEBOOK_NAME environment variable to enable code saving.\n"
     ]
    },
    {
     "data": {
      "text/html": [
       "wandb version 0.16.6 is available!  To upgrade, please run:\n",
       " $ pip install wandb --upgrade"
      ],
      "text/plain": [
       "<IPython.core.display.HTML object>"
      ]
     },
     "metadata": {},
     "output_type": "display_data"
    },
    {
     "data": {
      "text/html": [
       "Tracking run with wandb version 0.16.5"
      ],
      "text/plain": [
       "<IPython.core.display.HTML object>"
      ]
     },
     "metadata": {},
     "output_type": "display_data"
    },
    {
     "data": {
      "text/html": [
       "Run data is saved locally in <code>/home/navin/Programming-assignment-2/wandb/run-20240406_173250-41m34b8q</code>"
      ],
      "text/plain": [
       "<IPython.core.display.HTML object>"
      ]
     },
     "metadata": {},
     "output_type": "display_data"
    },
    {
     "data": {
      "text/html": [
       "Syncing run <strong><a href='https://wandb.ai/navinboys/dqCart-V1/runs/41m34b8q/workspace' target=\"_blank\">rural-sweep-4</a></strong> to <a href='https://wandb.ai/navinboys/dqCart-V1' target=\"_blank\">Weights & Biases</a> (<a href='https://wandb.me/run' target=\"_blank\">docs</a>)<br/>Sweep page: <a href='https://wandb.ai/navinboys/dqCart-V1/sweeps/u9kp5kms' target=\"_blank\">https://wandb.ai/navinboys/dqCart-V1/sweeps/u9kp5kms</a>"
      ],
      "text/plain": [
       "<IPython.core.display.HTML object>"
      ]
     },
     "metadata": {},
     "output_type": "display_data"
    },
    {
     "data": {
      "text/html": [
       " View project at <a href='https://wandb.ai/navinboys/dqCart-V1' target=\"_blank\">https://wandb.ai/navinboys/dqCart-V1</a>"
      ],
      "text/plain": [
       "<IPython.core.display.HTML object>"
      ]
     },
     "metadata": {},
     "output_type": "display_data"
    },
    {
     "data": {
      "text/html": [
       " View sweep at <a href='https://wandb.ai/navinboys/dqCart-V1/sweeps/u9kp5kms' target=\"_blank\">https://wandb.ai/navinboys/dqCart-V1/sweeps/u9kp5kms</a>"
      ],
      "text/plain": [
       "<IPython.core.display.HTML object>"
      ]
     },
     "metadata": {},
     "output_type": "display_data"
    },
    {
     "data": {
      "text/html": [
       " View run at <a href='https://wandb.ai/navinboys/dqCart-V1/runs/41m34b8q/workspace' target=\"_blank\">https://wandb.ai/navinboys/dqCart-V1/runs/41m34b8q/workspace</a>"
      ],
      "text/plain": [
       "<IPython.core.display.HTML object>"
      ]
     },
     "metadata": {},
     "output_type": "display_data"
    },
    {
     "name": "stdout",
     "output_type": "stream",
     "text": [
      "Episode 10\tAverage Score: 22.40\n",
      "Episode 20\tAverage Score: 24.40\n",
      "Episode 30\tAverage Score: 29.27\n",
      "Episode 40\tAverage Score: 30.43\n",
      "Episode 50\tAverage Score: 31.86\n",
      "Episode 60\tAverage Score: 32.52\n",
      "Episode 70\tAverage Score: 34.83\n",
      "Episode 80\tAverage Score: 35.84\n",
      "Episode 90\tAverage Score: 39.96\n",
      "Episode 100\tAverage Score: 40.26\n",
      "Episode 110\tAverage Score: 45.32\n",
      "Episode 120\tAverage Score: 52.43\n",
      "Episode 130\tAverage Score: 55.63\n",
      "Episode 140\tAverage Score: 61.33\n",
      "Episode 150\tAverage Score: 61.32\n",
      "Episode 160\tAverage Score: 59.30\n",
      "Episode 170\tAverage Score: 55.58\n",
      "Episode 180\tAverage Score: 52.57\n",
      "Episode 190\tAverage Score: 46.47\n",
      "Episode 200\tAverage Score: 51.77\n",
      "Episode 210\tAverage Score: 54.89\n",
      "Episode 220\tAverage Score: 49.67\n",
      "Episode 230\tAverage Score: 43.76\n",
      "Episode 240\tAverage Score: 35.78\n",
      "Episode 250\tAverage Score: 33.25\n",
      "Episode 260\tAverage Score: 33.52\n",
      "Episode 270\tAverage Score: 33.94\n",
      "Episode 280\tAverage Score: 33.97\n",
      "Episode 290\tAverage Score: 33.86\n",
      "Episode 300\tAverage Score: 25.24\n",
      "Episode 301\tAverage Score: 24.52\n",
      "Environment solved in 301 episodes!\tAverage Score: 24.52\n"
     ]
    },
    {
     "data": {
      "text/html": [
       "<style>\n",
       "    table.wandb td:nth-child(1) { padding: 0 10px; text-align: left ; width: auto;} td:nth-child(2) {text-align: left ; width: 100%}\n",
       "    .wandb-row { display: flex; flex-direction: row; flex-wrap: wrap; justify-content: flex-start; width: 100% }\n",
       "    .wandb-col { display: flex; flex-direction: column; flex-basis: 100%; flex: 1; padding: 10px; }\n",
       "    </style>\n",
       "<div class=\"wandb-row\"><div class=\"wandb-col\"><h3>Run history:</h3><br/><table class=\"wandb\"><tr><td>Regret</td><td>▁</td></tr><tr><td>Score</td><td>▂▁▁▂▂▂▃▃▃▃▄▄▄▄▅▆▇▇████▇▇▆▅▆▇▇▆▅▄▃▃▃▃▃▃▃▂</td></tr><tr><td>epoch</td><td>▁▁▁▁▂▂▂▂▂▃▃▃▃▃▃▄▄▄▄▄▅▅▅▅▅▅▆▆▆▆▆▆▇▇▇▇▇███</td></tr></table><br/></div><div class=\"wandb-col\"><h3>Run summary:</h3><br/><table class=\"wandb\"><tr><td>Regret</td><td>130099.43536</td></tr><tr><td>Score</td><td>24.52</td></tr><tr><td>epoch</td><td>300</td></tr></table><br/></div></div>"
      ],
      "text/plain": [
       "<IPython.core.display.HTML object>"
      ]
     },
     "metadata": {},
     "output_type": "display_data"
    },
    {
     "data": {
      "text/html": [
       " View run <strong style=\"color:#cdcd00\">rural-sweep-4</strong> at: <a href='https://wandb.ai/navinboys/dqCart-V1/runs/41m34b8q/workspace' target=\"_blank\">https://wandb.ai/navinboys/dqCart-V1/runs/41m34b8q/workspace</a><br/>Synced 5 W&B file(s), 0 media file(s), 0 artifact file(s) and 0 other file(s)"
      ],
      "text/plain": [
       "<IPython.core.display.HTML object>"
      ]
     },
     "metadata": {},
     "output_type": "display_data"
    },
    {
     "data": {
      "text/html": [
       "Find logs at: <code>./wandb/run-20240406_173250-41m34b8q/logs</code>"
      ],
      "text/plain": [
       "<IPython.core.display.HTML object>"
      ]
     },
     "metadata": {},
     "output_type": "display_data"
    },
    {
     "name": "stderr",
     "output_type": "stream",
     "text": [
      "\u001b[34m\u001b[1mwandb\u001b[0m: Agent Starting Run: y9294xd3 with config:\n",
      "\u001b[34m\u001b[1mwandb\u001b[0m: \tbatch: 51.30229030505474\n",
      "\u001b[34m\u001b[1mwandb\u001b[0m: \tlr: 0.00835381286648672\n",
      "\u001b[34m\u001b[1mwandb\u001b[0m: \toptimizer: adam\n",
      "\u001b[34m\u001b[1mwandb\u001b[0m: \tupdate1: 23.998239543629577\n",
      "Failed to detect the name of this notebook, you can set it manually with the WANDB_NOTEBOOK_NAME environment variable to enable code saving.\n"
     ]
    },
    {
     "data": {
      "text/html": [
       "wandb version 0.16.6 is available!  To upgrade, please run:\n",
       " $ pip install wandb --upgrade"
      ],
      "text/plain": [
       "<IPython.core.display.HTML object>"
      ]
     },
     "metadata": {},
     "output_type": "display_data"
    },
    {
     "data": {
      "text/html": [
       "Tracking run with wandb version 0.16.5"
      ],
      "text/plain": [
       "<IPython.core.display.HTML object>"
      ]
     },
     "metadata": {},
     "output_type": "display_data"
    },
    {
     "data": {
      "text/html": [
       "Run data is saved locally in <code>/home/navin/Programming-assignment-2/wandb/run-20240406_173332-y9294xd3</code>"
      ],
      "text/plain": [
       "<IPython.core.display.HTML object>"
      ]
     },
     "metadata": {},
     "output_type": "display_data"
    },
    {
     "data": {
      "text/html": [
       "Syncing run <strong><a href='https://wandb.ai/navinboys/dqCart-V1/runs/y9294xd3/workspace' target=\"_blank\">dainty-sweep-5</a></strong> to <a href='https://wandb.ai/navinboys/dqCart-V1' target=\"_blank\">Weights & Biases</a> (<a href='https://wandb.me/run' target=\"_blank\">docs</a>)<br/>Sweep page: <a href='https://wandb.ai/navinboys/dqCart-V1/sweeps/u9kp5kms' target=\"_blank\">https://wandb.ai/navinboys/dqCart-V1/sweeps/u9kp5kms</a>"
      ],
      "text/plain": [
       "<IPython.core.display.HTML object>"
      ]
     },
     "metadata": {},
     "output_type": "display_data"
    },
    {
     "data": {
      "text/html": [
       " View project at <a href='https://wandb.ai/navinboys/dqCart-V1' target=\"_blank\">https://wandb.ai/navinboys/dqCart-V1</a>"
      ],
      "text/plain": [
       "<IPython.core.display.HTML object>"
      ]
     },
     "metadata": {},
     "output_type": "display_data"
    },
    {
     "data": {
      "text/html": [
       " View sweep at <a href='https://wandb.ai/navinboys/dqCart-V1/sweeps/u9kp5kms' target=\"_blank\">https://wandb.ai/navinboys/dqCart-V1/sweeps/u9kp5kms</a>"
      ],
      "text/plain": [
       "<IPython.core.display.HTML object>"
      ]
     },
     "metadata": {},
     "output_type": "display_data"
    },
    {
     "data": {
      "text/html": [
       " View run at <a href='https://wandb.ai/navinboys/dqCart-V1/runs/y9294xd3/workspace' target=\"_blank\">https://wandb.ai/navinboys/dqCart-V1/runs/y9294xd3/workspace</a>"
      ],
      "text/plain": [
       "<IPython.core.display.HTML object>"
      ]
     },
     "metadata": {},
     "output_type": "display_data"
    },
    {
     "name": "stdout",
     "output_type": "stream",
     "text": [
      "Episode 10\tAverage Score: 14.90\n",
      "Episode 20\tAverage Score: 16.65\n",
      "Episode 30\tAverage Score: 18.87\n",
      "Episode 40\tAverage Score: 20.88\n",
      "Episode 50\tAverage Score: 21.70\n",
      "Episode 60\tAverage Score: 24.18\n",
      "Episode 70\tAverage Score: 27.00\n",
      "Episode 80\tAverage Score: 28.66\n",
      "Episode 90\tAverage Score: 27.91\n",
      "Episode 100\tAverage Score: 30.23\n",
      "Episode 110\tAverage Score: 32.11\n",
      "Episode 120\tAverage Score: 34.78\n",
      "Episode 130\tAverage Score: 37.31\n",
      "Episode 140\tAverage Score: 39.53\n",
      "Episode 150\tAverage Score: 42.92\n",
      "Episode 160\tAverage Score: 44.12\n",
      "Episode 170\tAverage Score: 46.19\n",
      "Episode 180\tAverage Score: 47.81\n",
      "Episode 190\tAverage Score: 55.96\n",
      "Episode 200\tAverage Score: 62.24\n",
      "Episode 210\tAverage Score: 73.88\n",
      "Episode 220\tAverage Score: 76.75\n",
      "Episode 230\tAverage Score: 76.32\n",
      "Episode 240\tAverage Score: 72.55\n",
      "Episode 250\tAverage Score: 67.70\n",
      "Episode 260\tAverage Score: 64.02\n",
      "Episode 270\tAverage Score: 58.77\n",
      "Episode 280\tAverage Score: 54.99\n",
      "Episode 290\tAverage Score: 46.92\n",
      "Episode 300\tAverage Score: 36.63\n",
      "Episode 301\tAverage Score: 35.17\n",
      "Environment solved in 301 episodes!\tAverage Score: 35.17\n"
     ]
    },
    {
     "data": {
      "text/html": [
       "<style>\n",
       "    table.wandb td:nth-child(1) { padding: 0 10px; text-align: left ; width: auto;} td:nth-child(2) {text-align: left ; width: 100%}\n",
       "    .wandb-row { display: flex; flex-direction: row; flex-wrap: wrap; justify-content: flex-start; width: 100% }\n",
       "    .wandb-col { display: flex; flex-direction: column; flex-basis: 100%; flex: 1; padding: 10px; }\n",
       "    </style>\n",
       "<div class=\"wandb-row\"><div class=\"wandb-col\"><h3>Run history:</h3><br/><table class=\"wandb\"><tr><td>Regret</td><td>▁</td></tr><tr><td>Score</td><td>▁▁▁▁▁▂▂▂▂▂▂▂▂▃▃▃▃▃▄▄▄▄▄▄▅▆▆▇████▇▇▆▆▆▅▄▃</td></tr><tr><td>epoch</td><td>▁▁▁▁▂▂▂▂▂▃▃▃▃▃▃▄▄▄▄▄▅▅▅▅▅▅▆▆▆▆▆▆▇▇▇▇▇███</td></tr></table><br/></div><div class=\"wandb-col\"><h3>Run summary:</h3><br/><table class=\"wandb\"><tr><td>Regret</td><td>129559.39128</td></tr><tr><td>Score</td><td>35.17</td></tr><tr><td>epoch</td><td>300</td></tr></table><br/></div></div>"
      ],
      "text/plain": [
       "<IPython.core.display.HTML object>"
      ]
     },
     "metadata": {},
     "output_type": "display_data"
    },
    {
     "data": {
      "text/html": [
       " View run <strong style=\"color:#cdcd00\">dainty-sweep-5</strong> at: <a href='https://wandb.ai/navinboys/dqCart-V1/runs/y9294xd3/workspace' target=\"_blank\">https://wandb.ai/navinboys/dqCart-V1/runs/y9294xd3/workspace</a><br/>Synced 5 W&B file(s), 0 media file(s), 0 artifact file(s) and 0 other file(s)"
      ],
      "text/plain": [
       "<IPython.core.display.HTML object>"
      ]
     },
     "metadata": {},
     "output_type": "display_data"
    },
    {
     "data": {
      "text/html": [
       "Find logs at: <code>./wandb/run-20240406_173332-y9294xd3/logs</code>"
      ],
      "text/plain": [
       "<IPython.core.display.HTML object>"
      ]
     },
     "metadata": {},
     "output_type": "display_data"
    },
    {
     "name": "stderr",
     "output_type": "stream",
     "text": [
      "\u001b[34m\u001b[1mwandb\u001b[0m: Sweep Agent: Waiting for job.\n",
      "\u001b[34m\u001b[1mwandb\u001b[0m: Job received.\n",
      "\u001b[34m\u001b[1mwandb\u001b[0m: Agent Starting Run: 1we4dj2a with config:\n",
      "\u001b[34m\u001b[1mwandb\u001b[0m: \tbatch: 72.09822084377859\n",
      "\u001b[34m\u001b[1mwandb\u001b[0m: \tlr: 0.009377903330522849\n",
      "\u001b[34m\u001b[1mwandb\u001b[0m: \toptimizer: adam\n",
      "\u001b[34m\u001b[1mwandb\u001b[0m: \tupdate1: 22.183512446897673\n",
      "Failed to detect the name of this notebook, you can set it manually with the WANDB_NOTEBOOK_NAME environment variable to enable code saving.\n"
     ]
    },
    {
     "data": {
      "text/html": [
       "wandb version 0.16.6 is available!  To upgrade, please run:\n",
       " $ pip install wandb --upgrade"
      ],
      "text/plain": [
       "<IPython.core.display.HTML object>"
      ]
     },
     "metadata": {},
     "output_type": "display_data"
    },
    {
     "data": {
      "text/html": [
       "Tracking run with wandb version 0.16.5"
      ],
      "text/plain": [
       "<IPython.core.display.HTML object>"
      ]
     },
     "metadata": {},
     "output_type": "display_data"
    },
    {
     "data": {
      "text/html": [
       "Run data is saved locally in <code>/home/navin/Programming-assignment-2/wandb/run-20240406_173425-1we4dj2a</code>"
      ],
      "text/plain": [
       "<IPython.core.display.HTML object>"
      ]
     },
     "metadata": {},
     "output_type": "display_data"
    },
    {
     "data": {
      "text/html": [
       "Syncing run <strong><a href='https://wandb.ai/navinboys/dqCart-V1/runs/1we4dj2a/workspace' target=\"_blank\">eager-sweep-6</a></strong> to <a href='https://wandb.ai/navinboys/dqCart-V1' target=\"_blank\">Weights & Biases</a> (<a href='https://wandb.me/run' target=\"_blank\">docs</a>)<br/>Sweep page: <a href='https://wandb.ai/navinboys/dqCart-V1/sweeps/u9kp5kms' target=\"_blank\">https://wandb.ai/navinboys/dqCart-V1/sweeps/u9kp5kms</a>"
      ],
      "text/plain": [
       "<IPython.core.display.HTML object>"
      ]
     },
     "metadata": {},
     "output_type": "display_data"
    },
    {
     "data": {
      "text/html": [
       " View project at <a href='https://wandb.ai/navinboys/dqCart-V1' target=\"_blank\">https://wandb.ai/navinboys/dqCart-V1</a>"
      ],
      "text/plain": [
       "<IPython.core.display.HTML object>"
      ]
     },
     "metadata": {},
     "output_type": "display_data"
    },
    {
     "data": {
      "text/html": [
       " View sweep at <a href='https://wandb.ai/navinboys/dqCart-V1/sweeps/u9kp5kms' target=\"_blank\">https://wandb.ai/navinboys/dqCart-V1/sweeps/u9kp5kms</a>"
      ],
      "text/plain": [
       "<IPython.core.display.HTML object>"
      ]
     },
     "metadata": {},
     "output_type": "display_data"
    },
    {
     "data": {
      "text/html": [
       " View run at <a href='https://wandb.ai/navinboys/dqCart-V1/runs/1we4dj2a/workspace' target=\"_blank\">https://wandb.ai/navinboys/dqCart-V1/runs/1we4dj2a/workspace</a>"
      ],
      "text/plain": [
       "<IPython.core.display.HTML object>"
      ]
     },
     "metadata": {},
     "output_type": "display_data"
    },
    {
     "name": "stdout",
     "output_type": "stream",
     "text": [
      "Episode 10\tAverage Score: 25.90\n",
      "Episode 20\tAverage Score: 26.95\n",
      "Episode 30\tAverage Score: 26.10\n",
      "Episode 40\tAverage Score: 29.40\n",
      "Episode 50\tAverage Score: 30.18\n",
      "Episode 60\tAverage Score: 31.18\n",
      "Episode 70\tAverage Score: 30.66\n",
      "Episode 80\tAverage Score: 31.75\n",
      "Episode 90\tAverage Score: 31.96\n",
      "Episode 100\tAverage Score: 32.70\n",
      "Episode 110\tAverage Score: 35.56\n",
      "Episode 120\tAverage Score: 38.78\n",
      "Episode 130\tAverage Score: 43.43\n",
      "Episode 140\tAverage Score: 49.06\n",
      "Episode 150\tAverage Score: 53.20\n",
      "Episode 160\tAverage Score: 54.88\n",
      "Episode 170\tAverage Score: 61.59\n",
      "Episode 180\tAverage Score: 64.31\n",
      "Episode 190\tAverage Score: 70.58\n",
      "Episode 200\tAverage Score: 75.61\n",
      "Episode 210\tAverage Score: 79.14\n",
      "Episode 220\tAverage Score: 79.74\n",
      "Episode 230\tAverage Score: 80.12\n",
      "Episode 240\tAverage Score: 72.64\n",
      "Episode 250\tAverage Score: 68.26\n",
      "Episode 260\tAverage Score: 63.98\n",
      "Episode 270\tAverage Score: 55.56\n",
      "Episode 280\tAverage Score: 50.88\n",
      "Episode 290\tAverage Score: 44.19\n",
      "Episode 300\tAverage Score: 36.31\n",
      "Episode 301\tAverage Score: 36.15\n",
      "Environment solved in 301 episodes!\tAverage Score: 36.15\n"
     ]
    },
    {
     "data": {
      "text/html": [
       "<style>\n",
       "    table.wandb td:nth-child(1) { padding: 0 10px; text-align: left ; width: auto;} td:nth-child(2) {text-align: left ; width: 100%}\n",
       "    .wandb-row { display: flex; flex-direction: row; flex-wrap: wrap; justify-content: flex-start; width: 100% }\n",
       "    .wandb-col { display: flex; flex-direction: column; flex-basis: 100%; flex: 1; padding: 10px; }\n",
       "    </style>\n",
       "<div class=\"wandb-row\"><div class=\"wandb-col\"><h3>Run history:</h3><br/><table class=\"wandb\"><tr><td>Regret</td><td>▁</td></tr><tr><td>Score</td><td>▁▂▂▂▂▂▂▃▃▃▃▃▃▃▃▃▃▄▄▅▅▅▆▆▆▇▇█▇██▇▇▆▆▅▅▄▄▃</td></tr><tr><td>epoch</td><td>▁▁▁▁▂▂▂▂▂▃▃▃▃▃▃▄▄▄▄▄▅▅▅▅▅▅▆▆▆▆▆▆▇▇▇▇▇███</td></tr></table><br/></div><div class=\"wandb-col\"><h3>Run summary:</h3><br/><table class=\"wandb\"><tr><td>Regret</td><td>127825.43559</td></tr><tr><td>Score</td><td>36.15</td></tr><tr><td>epoch</td><td>300</td></tr></table><br/></div></div>"
      ],
      "text/plain": [
       "<IPython.core.display.HTML object>"
      ]
     },
     "metadata": {},
     "output_type": "display_data"
    },
    {
     "data": {
      "text/html": [
       " View run <strong style=\"color:#cdcd00\">eager-sweep-6</strong> at: <a href='https://wandb.ai/navinboys/dqCart-V1/runs/1we4dj2a/workspace' target=\"_blank\">https://wandb.ai/navinboys/dqCart-V1/runs/1we4dj2a/workspace</a><br/>Synced 5 W&B file(s), 0 media file(s), 0 artifact file(s) and 0 other file(s)"
      ],
      "text/plain": [
       "<IPython.core.display.HTML object>"
      ]
     },
     "metadata": {},
     "output_type": "display_data"
    },
    {
     "data": {
      "text/html": [
       "Find logs at: <code>./wandb/run-20240406_173425-1we4dj2a/logs</code>"
      ],
      "text/plain": [
       "<IPython.core.display.HTML object>"
      ]
     },
     "metadata": {},
     "output_type": "display_data"
    },
    {
     "name": "stderr",
     "output_type": "stream",
     "text": [
      "\u001b[34m\u001b[1mwandb\u001b[0m: Sweep Agent: Waiting for job.\n",
      "\u001b[34m\u001b[1mwandb\u001b[0m: Job received.\n",
      "\u001b[34m\u001b[1mwandb\u001b[0m: Agent Starting Run: meav3r6f with config:\n",
      "\u001b[34m\u001b[1mwandb\u001b[0m: \tbatch: 68.34887821722748\n",
      "\u001b[34m\u001b[1mwandb\u001b[0m: \tlr: 0.0017447172195843234\n",
      "\u001b[34m\u001b[1mwandb\u001b[0m: \toptimizer: sgd\n",
      "\u001b[34m\u001b[1mwandb\u001b[0m: \tupdate1: 22.220909328135264\n",
      "Failed to detect the name of this notebook, you can set it manually with the WANDB_NOTEBOOK_NAME environment variable to enable code saving.\n"
     ]
    },
    {
     "data": {
      "text/html": [
       "wandb version 0.16.6 is available!  To upgrade, please run:\n",
       " $ pip install wandb --upgrade"
      ],
      "text/plain": [
       "<IPython.core.display.HTML object>"
      ]
     },
     "metadata": {},
     "output_type": "display_data"
    },
    {
     "data": {
      "text/html": [
       "Tracking run with wandb version 0.16.5"
      ],
      "text/plain": [
       "<IPython.core.display.HTML object>"
      ]
     },
     "metadata": {},
     "output_type": "display_data"
    },
    {
     "data": {
      "text/html": [
       "Run data is saved locally in <code>/home/navin/Programming-assignment-2/wandb/run-20240406_173523-meav3r6f</code>"
      ],
      "text/plain": [
       "<IPython.core.display.HTML object>"
      ]
     },
     "metadata": {},
     "output_type": "display_data"
    },
    {
     "data": {
      "text/html": [
       "Syncing run <strong><a href='https://wandb.ai/navinboys/dqCart-V1/runs/meav3r6f/workspace' target=\"_blank\">distinctive-sweep-7</a></strong> to <a href='https://wandb.ai/navinboys/dqCart-V1' target=\"_blank\">Weights & Biases</a> (<a href='https://wandb.me/run' target=\"_blank\">docs</a>)<br/>Sweep page: <a href='https://wandb.ai/navinboys/dqCart-V1/sweeps/u9kp5kms' target=\"_blank\">https://wandb.ai/navinboys/dqCart-V1/sweeps/u9kp5kms</a>"
      ],
      "text/plain": [
       "<IPython.core.display.HTML object>"
      ]
     },
     "metadata": {},
     "output_type": "display_data"
    },
    {
     "data": {
      "text/html": [
       " View project at <a href='https://wandb.ai/navinboys/dqCart-V1' target=\"_blank\">https://wandb.ai/navinboys/dqCart-V1</a>"
      ],
      "text/plain": [
       "<IPython.core.display.HTML object>"
      ]
     },
     "metadata": {},
     "output_type": "display_data"
    },
    {
     "data": {
      "text/html": [
       " View sweep at <a href='https://wandb.ai/navinboys/dqCart-V1/sweeps/u9kp5kms' target=\"_blank\">https://wandb.ai/navinboys/dqCart-V1/sweeps/u9kp5kms</a>"
      ],
      "text/plain": [
       "<IPython.core.display.HTML object>"
      ]
     },
     "metadata": {},
     "output_type": "display_data"
    },
    {
     "data": {
      "text/html": [
       " View run at <a href='https://wandb.ai/navinboys/dqCart-V1/runs/meav3r6f/workspace' target=\"_blank\">https://wandb.ai/navinboys/dqCart-V1/runs/meav3r6f/workspace</a>"
      ],
      "text/plain": [
       "<IPython.core.display.HTML object>"
      ]
     },
     "metadata": {},
     "output_type": "display_data"
    },
    {
     "name": "stdout",
     "output_type": "stream",
     "text": [
      "Episode 10\tAverage Score: 15.00\n",
      "Episode 20\tAverage Score: 17.10\n",
      "Episode 30\tAverage Score: 24.33\n",
      "Episode 40\tAverage Score: 23.88\n",
      "Episode 50\tAverage Score: 26.64\n",
      "Episode 60\tAverage Score: 29.20\n",
      "Episode 70\tAverage Score: 32.21\n",
      "Episode 80\tAverage Score: 35.71\n",
      "Episode 90\tAverage Score: 37.33\n",
      "Episode 100\tAverage Score: 41.02\n",
      "Episode 110\tAverage Score: 48.09\n",
      "Episode 120\tAverage Score: 59.62\n",
      "Episode 130\tAverage Score: 66.61\n",
      "Episode 140\tAverage Score: 77.52\n",
      "Episode 150\tAverage Score: 85.81\n",
      "Episode 160\tAverage Score: 94.03\n",
      "Episode 170\tAverage Score: 101.11\n",
      "Episode 180\tAverage Score: 109.38\n",
      "Episode 190\tAverage Score: 114.67\n",
      "Episode 200\tAverage Score: 117.16\n",
      "Episode 210\tAverage Score: 124.46\n",
      "Episode 220\tAverage Score: 120.65\n",
      "Episode 230\tAverage Score: 119.94\n",
      "Episode 240\tAverage Score: 124.18\n",
      "Episode 250\tAverage Score: 128.93\n",
      "Episode 260\tAverage Score: 136.04\n",
      "Episode 270\tAverage Score: 156.47\n",
      "Episode 280\tAverage Score: 176.23\n",
      "Episode 290\tAverage Score: 198.77\n",
      "Episode 300\tAverage Score: 205.09\n",
      "Episode 301\tAverage Score: 204.54\n",
      "Environment solved in 301 episodes!\tAverage Score: 204.54\n"
     ]
    },
    {
     "data": {
      "text/html": [
       "<style>\n",
       "    table.wandb td:nth-child(1) { padding: 0 10px; text-align: left ; width: auto;} td:nth-child(2) {text-align: left ; width: 100%}\n",
       "    .wandb-row { display: flex; flex-direction: row; flex-wrap: wrap; justify-content: flex-start; width: 100% }\n",
       "    .wandb-col { display: flex; flex-direction: column; flex-basis: 100%; flex: 1; padding: 10px; }\n",
       "    </style>\n",
       "<div class=\"wandb-row\"><div class=\"wandb-col\"><h3>Run history:</h3><br/><table class=\"wandb\"><tr><td>Regret</td><td>▁</td></tr><tr><td>Score</td><td>▁▁▁▁▁▁▁▂▂▂▂▂▂▂▂▃▃▃▃▄▄▄▄▄▅▅▅▅▅▅▅▅▅▅▅▆▇▇██</td></tr><tr><td>epoch</td><td>▁▁▁▁▂▂▂▂▂▃▃▃▃▃▃▄▄▄▄▄▅▅▅▅▅▅▆▆▆▆▆▆▇▇▇▇▇███</td></tr></table><br/></div><div class=\"wandb-col\"><h3>Run summary:</h3><br/><table class=\"wandb\"><tr><td>Regret</td><td>116884.18858</td></tr><tr><td>Score</td><td>204.54</td></tr><tr><td>epoch</td><td>300</td></tr></table><br/></div></div>"
      ],
      "text/plain": [
       "<IPython.core.display.HTML object>"
      ]
     },
     "metadata": {},
     "output_type": "display_data"
    },
    {
     "data": {
      "text/html": [
       " View run <strong style=\"color:#cdcd00\">distinctive-sweep-7</strong> at: <a href='https://wandb.ai/navinboys/dqCart-V1/runs/meav3r6f/workspace' target=\"_blank\">https://wandb.ai/navinboys/dqCart-V1/runs/meav3r6f/workspace</a><br/>Synced 5 W&B file(s), 0 media file(s), 0 artifact file(s) and 0 other file(s)"
      ],
      "text/plain": [
       "<IPython.core.display.HTML object>"
      ]
     },
     "metadata": {},
     "output_type": "display_data"
    },
    {
     "data": {
      "text/html": [
       "Find logs at: <code>./wandb/run-20240406_173523-meav3r6f/logs</code>"
      ],
      "text/plain": [
       "<IPython.core.display.HTML object>"
      ]
     },
     "metadata": {},
     "output_type": "display_data"
    }
   ],
   "source": [
    "def Objective(lr,batch,update):\n",
    "    env = gym.make(\"CartPole-v1\")\n",
    "    state_size = env.observation_space.shape[0]\n",
    "    action_size = env.action_space.n\n",
    "    type = 2 #mean\n",
    "    # type  = 2 # max\n",
    "    agent = TutorialAgent(lr,batch,update,type,state_size,action_size, seed = 0)\n",
    "    DDQN = DuelingDQN(env,\"eps greedy\",agent)\n",
    "    regret, avg_rewards = DDQN.train()\n",
    "    return regret, avg_rewards\n",
    "\n",
    "sweep_config = {\n",
    "    'method': 'bayes'\n",
    "    }\n",
    "\n",
    "metric = {\n",
    "    'name': 'loss',\n",
    "    'goal': 'minimize'   \n",
    "    }\n",
    "\n",
    "sweep_config['metric'] = metric\n",
    "parameters_dict = {\n",
    "    'optimizer': {\n",
    "        'values': ['adam', 'sgd']\n",
    "        },\n",
    "    'lr': {\n",
    "        # a flat distribution between 0 and 0.1\n",
    "        'distribution': 'uniform',\n",
    "        'min': 0.00001,\n",
    "        'max': 0.01\n",
    "      },\n",
    "    'batch': {\n",
    "        # a flat distribution between 0 and 0.1\n",
    "        'distribution': 'uniform',\n",
    "        'min': 40,\n",
    "        'max': 80\n",
    "      },\n",
    "    'update1': {\n",
    "        # a flat distribution between 0 and 0.1\n",
    "        'distribution': 'uniform',\n",
    "        'min': 20,\n",
    "        'max': 30\n",
    "      }\n",
    "    }\n",
    "\n",
    "sweep_config['parameters'] = parameters_dict\n",
    "sweep_id = wandb.sweep(sweep_config, project=\"dqCart-V1\")\n",
    "\n",
    "def train(config=sweep_config):\n",
    "    # Initialize a new wandb run\n",
    "    with wandb.init(config=config):\n",
    "        # If called by wandb.agent, as below,\n",
    "        # this config will be set by Sweep Controller\n",
    "        config = wandb.config\n",
    "        regret, avg_reward = Objective(config.lr,config.batch,config.update1)\n",
    "\n",
    "\n",
    "        for epoch in range(len(avg_reward)):\n",
    "            wandb.log({\"Score\": avg_reward[epoch], \"epoch\": epoch})  \n",
    "        wandb.log({\"Regret\": regret}) \n",
    "\n",
    "wandb.agent(sweep_id, train, count=7)"
   ]
  },
  {
   "cell_type": "code",
   "execution_count": 13,
   "metadata": {},
   "outputs": [
    {
     "name": "stdout",
     "output_type": "stream",
     "text": [
      "Create sweep with ID: 3at1jpps\n",
      "Sweep URL: https://wandb.ai/navinboys/dqCart-V1/sweeps/3at1jpps\n"
     ]
    },
    {
     "name": "stderr",
     "output_type": "stream",
     "text": [
      "\u001b[34m\u001b[1mwandb\u001b[0m: Agent Starting Run: j729h2w4 with config:\n",
      "\u001b[34m\u001b[1mwandb\u001b[0m: \tbatch: 42.7914935009777\n",
      "\u001b[34m\u001b[1mwandb\u001b[0m: \tlr: 0.009547416548746869\n",
      "\u001b[34m\u001b[1mwandb\u001b[0m: \toptimizer: adam\n",
      "\u001b[34m\u001b[1mwandb\u001b[0m: \tupdate1: 22.54934703410095\n",
      "Failed to detect the name of this notebook, you can set it manually with the WANDB_NOTEBOOK_NAME environment variable to enable code saving.\n"
     ]
    },
    {
     "data": {
      "text/html": [
       "wandb version 0.16.6 is available!  To upgrade, please run:\n",
       " $ pip install wandb --upgrade"
      ],
      "text/plain": [
       "<IPython.core.display.HTML object>"
      ]
     },
     "metadata": {},
     "output_type": "display_data"
    },
    {
     "data": {
      "text/html": [
       "Tracking run with wandb version 0.16.5"
      ],
      "text/plain": [
       "<IPython.core.display.HTML object>"
      ]
     },
     "metadata": {},
     "output_type": "display_data"
    },
    {
     "data": {
      "text/html": [
       "Run data is saved locally in <code>/home/navin/Programming-assignment-2/wandb/run-20240406_173724-j729h2w4</code>"
      ],
      "text/plain": [
       "<IPython.core.display.HTML object>"
      ]
     },
     "metadata": {},
     "output_type": "display_data"
    },
    {
     "data": {
      "text/html": [
       "Syncing run <strong><a href='https://wandb.ai/navinboys/dqCart-V1/runs/j729h2w4/workspace' target=\"_blank\">vague-sweep-1</a></strong> to <a href='https://wandb.ai/navinboys/dqCart-V1' target=\"_blank\">Weights & Biases</a> (<a href='https://wandb.me/run' target=\"_blank\">docs</a>)<br/>Sweep page: <a href='https://wandb.ai/navinboys/dqCart-V1/sweeps/3at1jpps' target=\"_blank\">https://wandb.ai/navinboys/dqCart-V1/sweeps/3at1jpps</a>"
      ],
      "text/plain": [
       "<IPython.core.display.HTML object>"
      ]
     },
     "metadata": {},
     "output_type": "display_data"
    },
    {
     "data": {
      "text/html": [
       " View project at <a href='https://wandb.ai/navinboys/dqCart-V1' target=\"_blank\">https://wandb.ai/navinboys/dqCart-V1</a>"
      ],
      "text/plain": [
       "<IPython.core.display.HTML object>"
      ]
     },
     "metadata": {},
     "output_type": "display_data"
    },
    {
     "data": {
      "text/html": [
       " View sweep at <a href='https://wandb.ai/navinboys/dqCart-V1/sweeps/3at1jpps' target=\"_blank\">https://wandb.ai/navinboys/dqCart-V1/sweeps/3at1jpps</a>"
      ],
      "text/plain": [
       "<IPython.core.display.HTML object>"
      ]
     },
     "metadata": {},
     "output_type": "display_data"
    },
    {
     "data": {
      "text/html": [
       " View run at <a href='https://wandb.ai/navinboys/dqCart-V1/runs/j729h2w4/workspace' target=\"_blank\">https://wandb.ai/navinboys/dqCart-V1/runs/j729h2w4/workspace</a>"
      ],
      "text/plain": [
       "<IPython.core.display.HTML object>"
      ]
     },
     "metadata": {},
     "output_type": "display_data"
    },
    {
     "name": "stdout",
     "output_type": "stream",
     "text": [
      "Episode 10\tAverage Score: 26.30\n",
      "Episode 20\tAverage Score: 30.50\n",
      "Episode 30\tAverage Score: 31.57\n",
      "Episode 40\tAverage Score: 30.20\n",
      "Episode 50\tAverage Score: 31.10\n",
      "Episode 60\tAverage Score: 30.27\n",
      "Episode 70\tAverage Score: 29.26\n",
      "Episode 80\tAverage Score: 30.51\n",
      "Episode 90\tAverage Score: 32.64\n",
      "Episode 100\tAverage Score: 33.93\n",
      "Episode 110\tAverage Score: 34.31\n",
      "Episode 120\tAverage Score: 33.24\n",
      "Episode 130\tAverage Score: 34.06\n",
      "Episode 140\tAverage Score: 36.80\n",
      "Episode 150\tAverage Score: 36.30\n",
      "Episode 160\tAverage Score: 36.67\n",
      "Episode 170\tAverage Score: 39.16\n",
      "Episode 180\tAverage Score: 40.28\n",
      "Episode 190\tAverage Score: 39.75\n",
      "Episode 200\tAverage Score: 43.41\n",
      "Episode 210\tAverage Score: 48.03\n",
      "Episode 220\tAverage Score: 53.98\n",
      "Episode 230\tAverage Score: 62.35\n",
      "Episode 240\tAverage Score: 69.04\n",
      "Episode 250\tAverage Score: 76.87\n",
      "Episode 260\tAverage Score: 83.03\n",
      "Episode 270\tAverage Score: 85.32\n",
      "Episode 280\tAverage Score: 89.42\n",
      "Episode 290\tAverage Score: 92.04\n",
      "Episode 300\tAverage Score: 89.27\n",
      "Episode 301\tAverage Score: 89.64\n",
      "Environment solved in 301 episodes!\tAverage Score: 89.64\n"
     ]
    },
    {
     "data": {
      "text/html": [
       "<style>\n",
       "    table.wandb td:nth-child(1) { padding: 0 10px; text-align: left ; width: auto;} td:nth-child(2) {text-align: left ; width: 100%}\n",
       "    .wandb-row { display: flex; flex-direction: row; flex-wrap: wrap; justify-content: flex-start; width: 100% }\n",
       "    .wandb-col { display: flex; flex-direction: column; flex-basis: 100%; flex: 1; padding: 10px; }\n",
       "    </style>\n",
       "<div class=\"wandb-row\"><div class=\"wandb-col\"><h3>Run history:</h3><br/><table class=\"wandb\"><tr><td>Regret</td><td>▁</td></tr><tr><td>Score</td><td>▁▂▂▂▃▂▂▂▂▂▂▂▃▃▃▃▃▃▃▃▃▃▃▃▃▃▄▄▄▅▅▆▆▇▇▇████</td></tr><tr><td>epoch</td><td>▁▁▁▁▂▂▂▂▂▃▃▃▃▃▃▄▄▄▄▄▅▅▅▅▅▅▆▆▆▆▆▆▇▇▇▇▇███</td></tr></table><br/></div><div class=\"wandb-col\"><h3>Run summary:</h3><br/><table class=\"wandb\"><tr><td>Regret</td><td>128592.97734</td></tr><tr><td>Score</td><td>89.64</td></tr><tr><td>epoch</td><td>300</td></tr></table><br/></div></div>"
      ],
      "text/plain": [
       "<IPython.core.display.HTML object>"
      ]
     },
     "metadata": {},
     "output_type": "display_data"
    },
    {
     "data": {
      "text/html": [
       " View run <strong style=\"color:#cdcd00\">vague-sweep-1</strong> at: <a href='https://wandb.ai/navinboys/dqCart-V1/runs/j729h2w4/workspace' target=\"_blank\">https://wandb.ai/navinboys/dqCart-V1/runs/j729h2w4/workspace</a><br/>Synced 5 W&B file(s), 0 media file(s), 0 artifact file(s) and 0 other file(s)"
      ],
      "text/plain": [
       "<IPython.core.display.HTML object>"
      ]
     },
     "metadata": {},
     "output_type": "display_data"
    },
    {
     "data": {
      "text/html": [
       "Find logs at: <code>./wandb/run-20240406_173724-j729h2w4/logs</code>"
      ],
      "text/plain": [
       "<IPython.core.display.HTML object>"
      ]
     },
     "metadata": {},
     "output_type": "display_data"
    },
    {
     "name": "stderr",
     "output_type": "stream",
     "text": [
      "\u001b[34m\u001b[1mwandb\u001b[0m: Agent Starting Run: 6mit22qo with config:\n",
      "\u001b[34m\u001b[1mwandb\u001b[0m: \tbatch: 51.15151349489088\n",
      "\u001b[34m\u001b[1mwandb\u001b[0m: \tlr: 0.001236924296999733\n",
      "\u001b[34m\u001b[1mwandb\u001b[0m: \toptimizer: adam\n",
      "\u001b[34m\u001b[1mwandb\u001b[0m: \tupdate1: 20.669459622572894\n",
      "Failed to detect the name of this notebook, you can set it manually with the WANDB_NOTEBOOK_NAME environment variable to enable code saving.\n"
     ]
    },
    {
     "data": {
      "text/html": [
       "wandb version 0.16.6 is available!  To upgrade, please run:\n",
       " $ pip install wandb --upgrade"
      ],
      "text/plain": [
       "<IPython.core.display.HTML object>"
      ]
     },
     "metadata": {},
     "output_type": "display_data"
    },
    {
     "data": {
      "text/html": [
       "Tracking run with wandb version 0.16.5"
      ],
      "text/plain": [
       "<IPython.core.display.HTML object>"
      ]
     },
     "metadata": {},
     "output_type": "display_data"
    },
    {
     "data": {
      "text/html": [
       "Run data is saved locally in <code>/home/navin/Programming-assignment-2/wandb/run-20240406_173817-6mit22qo</code>"
      ],
      "text/plain": [
       "<IPython.core.display.HTML object>"
      ]
     },
     "metadata": {},
     "output_type": "display_data"
    },
    {
     "data": {
      "text/html": [
       "Syncing run <strong><a href='https://wandb.ai/navinboys/dqCart-V1/runs/6mit22qo/workspace' target=\"_blank\">serene-sweep-2</a></strong> to <a href='https://wandb.ai/navinboys/dqCart-V1' target=\"_blank\">Weights & Biases</a> (<a href='https://wandb.me/run' target=\"_blank\">docs</a>)<br/>Sweep page: <a href='https://wandb.ai/navinboys/dqCart-V1/sweeps/3at1jpps' target=\"_blank\">https://wandb.ai/navinboys/dqCart-V1/sweeps/3at1jpps</a>"
      ],
      "text/plain": [
       "<IPython.core.display.HTML object>"
      ]
     },
     "metadata": {},
     "output_type": "display_data"
    },
    {
     "data": {
      "text/html": [
       " View project at <a href='https://wandb.ai/navinboys/dqCart-V1' target=\"_blank\">https://wandb.ai/navinboys/dqCart-V1</a>"
      ],
      "text/plain": [
       "<IPython.core.display.HTML object>"
      ]
     },
     "metadata": {},
     "output_type": "display_data"
    },
    {
     "data": {
      "text/html": [
       " View sweep at <a href='https://wandb.ai/navinboys/dqCart-V1/sweeps/3at1jpps' target=\"_blank\">https://wandb.ai/navinboys/dqCart-V1/sweeps/3at1jpps</a>"
      ],
      "text/plain": [
       "<IPython.core.display.HTML object>"
      ]
     },
     "metadata": {},
     "output_type": "display_data"
    },
    {
     "data": {
      "text/html": [
       " View run at <a href='https://wandb.ai/navinboys/dqCart-V1/runs/6mit22qo/workspace' target=\"_blank\">https://wandb.ai/navinboys/dqCart-V1/runs/6mit22qo/workspace</a>"
      ],
      "text/plain": [
       "<IPython.core.display.HTML object>"
      ]
     },
     "metadata": {},
     "output_type": "display_data"
    },
    {
     "name": "stdout",
     "output_type": "stream",
     "text": [
      "Episode 10\tAverage Score: 18.20\n",
      "Episode 20\tAverage Score: 19.60\n",
      "Episode 30\tAverage Score: 21.53\n",
      "Episode 40\tAverage Score: 24.73\n",
      "Episode 50\tAverage Score: 27.00\n",
      "Episode 60\tAverage Score: 30.48\n",
      "Episode 70\tAverage Score: 32.74\n",
      "Episode 80\tAverage Score: 33.90\n",
      "Episode 90\tAverage Score: 35.70\n",
      "Episode 100\tAverage Score: 39.97\n",
      "Episode 110\tAverage Score: 44.05\n",
      "Episode 120\tAverage Score: 52.12\n",
      "Episode 130\tAverage Score: 60.59\n",
      "Episode 140\tAverage Score: 65.51\n",
      "Episode 150\tAverage Score: 71.22\n",
      "Episode 160\tAverage Score: 74.57\n",
      "Episode 170\tAverage Score: 79.07\n",
      "Episode 180\tAverage Score: 83.55\n",
      "Episode 190\tAverage Score: 96.29\n",
      "Episode 200\tAverage Score: 104.27\n",
      "Episode 210\tAverage Score: 114.57\n",
      "Episode 220\tAverage Score: 115.34\n",
      "Episode 230\tAverage Score: 113.10\n",
      "Episode 240\tAverage Score: 113.97\n",
      "Episode 250\tAverage Score: 114.46\n",
      "Episode 260\tAverage Score: 126.42\n",
      "Episode 270\tAverage Score: 134.11\n",
      "Episode 280\tAverage Score: 135.86\n",
      "Episode 290\tAverage Score: 126.94\n",
      "Episode 300\tAverage Score: 119.42\n",
      "Episode 301\tAverage Score: 118.90\n",
      "Environment solved in 301 episodes!\tAverage Score: 118.90\n"
     ]
    },
    {
     "data": {
      "text/html": [
       "<style>\n",
       "    table.wandb td:nth-child(1) { padding: 0 10px; text-align: left ; width: auto;} td:nth-child(2) {text-align: left ; width: 100%}\n",
       "    .wandb-row { display: flex; flex-direction: row; flex-wrap: wrap; justify-content: flex-start; width: 100% }\n",
       "    .wandb-col { display: flex; flex-direction: column; flex-basis: 100%; flex: 1; padding: 10px; }\n",
       "    </style>\n",
       "<div class=\"wandb-row\"><div class=\"wandb-col\"><h3>Run history:</h3><br/><table class=\"wandb\"><tr><td>Regret</td><td>▁</td></tr><tr><td>Score</td><td>▁▁▁▁▁▁▁▂▂▂▂▂▂▂▂▃▃▄▄▄▄▄▄▅▅▆▆▇▇▇▇▇▇▇▇███▇▇</td></tr><tr><td>epoch</td><td>▁▁▁▁▂▂▂▂▂▃▃▃▃▃▃▄▄▄▄▄▅▅▅▅▅▅▆▆▆▆▆▆▇▇▇▇▇███</td></tr></table><br/></div><div class=\"wandb-col\"><h3>Run summary:</h3><br/><table class=\"wandb\"><tr><td>Regret</td><td>120625.06704</td></tr><tr><td>Score</td><td>118.9</td></tr><tr><td>epoch</td><td>300</td></tr></table><br/></div></div>"
      ],
      "text/plain": [
       "<IPython.core.display.HTML object>"
      ]
     },
     "metadata": {},
     "output_type": "display_data"
    },
    {
     "data": {
      "text/html": [
       " View run <strong style=\"color:#cdcd00\">serene-sweep-2</strong> at: <a href='https://wandb.ai/navinboys/dqCart-V1/runs/6mit22qo/workspace' target=\"_blank\">https://wandb.ai/navinboys/dqCart-V1/runs/6mit22qo/workspace</a><br/>Synced 5 W&B file(s), 0 media file(s), 0 artifact file(s) and 0 other file(s)"
      ],
      "text/plain": [
       "<IPython.core.display.HTML object>"
      ]
     },
     "metadata": {},
     "output_type": "display_data"
    },
    {
     "data": {
      "text/html": [
       "Find logs at: <code>./wandb/run-20240406_173817-6mit22qo/logs</code>"
      ],
      "text/plain": [
       "<IPython.core.display.HTML object>"
      ]
     },
     "metadata": {},
     "output_type": "display_data"
    },
    {
     "name": "stderr",
     "output_type": "stream",
     "text": [
      "\u001b[34m\u001b[1mwandb\u001b[0m: Agent Starting Run: chr48qu7 with config:\n",
      "\u001b[34m\u001b[1mwandb\u001b[0m: \tbatch: 58.879941564889734\n",
      "\u001b[34m\u001b[1mwandb\u001b[0m: \tlr: 0.001225476431061243\n",
      "\u001b[34m\u001b[1mwandb\u001b[0m: \toptimizer: adam\n",
      "\u001b[34m\u001b[1mwandb\u001b[0m: \tupdate1: 28.026614454083298\n",
      "Failed to detect the name of this notebook, you can set it manually with the WANDB_NOTEBOOK_NAME environment variable to enable code saving.\n"
     ]
    },
    {
     "data": {
      "text/html": [
       "wandb version 0.16.6 is available!  To upgrade, please run:\n",
       " $ pip install wandb --upgrade"
      ],
      "text/plain": [
       "<IPython.core.display.HTML object>"
      ]
     },
     "metadata": {},
     "output_type": "display_data"
    },
    {
     "data": {
      "text/html": [
       "Tracking run with wandb version 0.16.5"
      ],
      "text/plain": [
       "<IPython.core.display.HTML object>"
      ]
     },
     "metadata": {},
     "output_type": "display_data"
    },
    {
     "data": {
      "text/html": [
       "Run data is saved locally in <code>/home/navin/Programming-assignment-2/wandb/run-20240406_173936-chr48qu7</code>"
      ],
      "text/plain": [
       "<IPython.core.display.HTML object>"
      ]
     },
     "metadata": {},
     "output_type": "display_data"
    },
    {
     "data": {
      "text/html": [
       "Syncing run <strong><a href='https://wandb.ai/navinboys/dqCart-V1/runs/chr48qu7/workspace' target=\"_blank\">fancy-sweep-3</a></strong> to <a href='https://wandb.ai/navinboys/dqCart-V1' target=\"_blank\">Weights & Biases</a> (<a href='https://wandb.me/run' target=\"_blank\">docs</a>)<br/>Sweep page: <a href='https://wandb.ai/navinboys/dqCart-V1/sweeps/3at1jpps' target=\"_blank\">https://wandb.ai/navinboys/dqCart-V1/sweeps/3at1jpps</a>"
      ],
      "text/plain": [
       "<IPython.core.display.HTML object>"
      ]
     },
     "metadata": {},
     "output_type": "display_data"
    },
    {
     "data": {
      "text/html": [
       " View project at <a href='https://wandb.ai/navinboys/dqCart-V1' target=\"_blank\">https://wandb.ai/navinboys/dqCart-V1</a>"
      ],
      "text/plain": [
       "<IPython.core.display.HTML object>"
      ]
     },
     "metadata": {},
     "output_type": "display_data"
    },
    {
     "data": {
      "text/html": [
       " View sweep at <a href='https://wandb.ai/navinboys/dqCart-V1/sweeps/3at1jpps' target=\"_blank\">https://wandb.ai/navinboys/dqCart-V1/sweeps/3at1jpps</a>"
      ],
      "text/plain": [
       "<IPython.core.display.HTML object>"
      ]
     },
     "metadata": {},
     "output_type": "display_data"
    },
    {
     "data": {
      "text/html": [
       " View run at <a href='https://wandb.ai/navinboys/dqCart-V1/runs/chr48qu7/workspace' target=\"_blank\">https://wandb.ai/navinboys/dqCart-V1/runs/chr48qu7/workspace</a>"
      ],
      "text/plain": [
       "<IPython.core.display.HTML object>"
      ]
     },
     "metadata": {},
     "output_type": "display_data"
    },
    {
     "name": "stdout",
     "output_type": "stream",
     "text": [
      "Episode 10\tAverage Score: 19.00\n",
      "Episode 20\tAverage Score: 19.45\n",
      "Episode 30\tAverage Score: 21.53\n",
      "Episode 40\tAverage Score: 25.23\n",
      "Episode 50\tAverage Score: 27.64\n",
      "Episode 60\tAverage Score: 30.37\n",
      "Episode 70\tAverage Score: 32.00\n",
      "Episode 80\tAverage Score: 35.80\n",
      "Episode 90\tAverage Score: 37.22\n",
      "Episode 100\tAverage Score: 39.72\n",
      "Episode 110\tAverage Score: 45.53\n",
      "Episode 120\tAverage Score: 50.12\n",
      "Episode 130\tAverage Score: 53.77\n",
      "Episode 140\tAverage Score: 60.52\n",
      "Episode 150\tAverage Score: 63.85\n",
      "Episode 160\tAverage Score: 73.08\n",
      "Episode 170\tAverage Score: 77.90\n",
      "Episode 180\tAverage Score: 87.64\n",
      "Episode 190\tAverage Score: 97.35\n",
      "Episode 200\tAverage Score: 94.42\n",
      "Episode 210\tAverage Score: 91.09\n",
      "Episode 220\tAverage Score: 88.58\n",
      "Episode 230\tAverage Score: 85.57\n",
      "Episode 240\tAverage Score: 77.86\n",
      "Episode 250\tAverage Score: 73.11\n",
      "Episode 260\tAverage Score: 61.22\n",
      "Episode 270\tAverage Score: 55.18\n",
      "Episode 280\tAverage Score: 41.82\n",
      "Episode 290\tAverage Score: 33.28\n",
      "Episode 300\tAverage Score: 36.01\n",
      "Episode 301\tAverage Score: 36.88\n",
      "Environment solved in 301 episodes!\tAverage Score: 36.88\n"
     ]
    },
    {
     "data": {
      "text/html": [
       "<style>\n",
       "    table.wandb td:nth-child(1) { padding: 0 10px; text-align: left ; width: auto;} td:nth-child(2) {text-align: left ; width: 100%}\n",
       "    .wandb-row { display: flex; flex-direction: row; flex-wrap: wrap; justify-content: flex-start; width: 100% }\n",
       "    .wandb-col { display: flex; flex-direction: column; flex-basis: 100%; flex: 1; padding: 10px; }\n",
       "    </style>\n",
       "<div class=\"wandb-row\"><div class=\"wandb-col\"><h3>Run history:</h3><br/><table class=\"wandb\"><tr><td>Regret</td><td>▁</td></tr><tr><td>Score</td><td>▁▁▁▁▂▂▂▂▂▂▃▃▃▃▄▄▄▄▅▅▅▆▆▇████▇▇▇▇▆▆▅▄▄▂▃▃</td></tr><tr><td>epoch</td><td>▁▁▁▁▂▂▂▂▂▃▃▃▃▃▃▄▄▄▄▄▅▅▅▅▅▅▆▆▆▆▆▆▇▇▇▇▇███</td></tr></table><br/></div><div class=\"wandb-col\"><h3>Run summary:</h3><br/><table class=\"wandb\"><tr><td>Regret</td><td>126222.2856</td></tr><tr><td>Score</td><td>36.88</td></tr><tr><td>epoch</td><td>300</td></tr></table><br/></div></div>"
      ],
      "text/plain": [
       "<IPython.core.display.HTML object>"
      ]
     },
     "metadata": {},
     "output_type": "display_data"
    },
    {
     "data": {
      "text/html": [
       " View run <strong style=\"color:#cdcd00\">fancy-sweep-3</strong> at: <a href='https://wandb.ai/navinboys/dqCart-V1/runs/chr48qu7/workspace' target=\"_blank\">https://wandb.ai/navinboys/dqCart-V1/runs/chr48qu7/workspace</a><br/>Synced 5 W&B file(s), 0 media file(s), 0 artifact file(s) and 0 other file(s)"
      ],
      "text/plain": [
       "<IPython.core.display.HTML object>"
      ]
     },
     "metadata": {},
     "output_type": "display_data"
    },
    {
     "data": {
      "text/html": [
       "Find logs at: <code>./wandb/run-20240406_173936-chr48qu7/logs</code>"
      ],
      "text/plain": [
       "<IPython.core.display.HTML object>"
      ]
     },
     "metadata": {},
     "output_type": "display_data"
    },
    {
     "name": "stderr",
     "output_type": "stream",
     "text": [
      "\u001b[34m\u001b[1mwandb\u001b[0m: Sweep Agent: Waiting for job.\n",
      "\u001b[34m\u001b[1mwandb\u001b[0m: Job received.\n",
      "\u001b[34m\u001b[1mwandb\u001b[0m: Agent Starting Run: 7hp64sv5 with config:\n",
      "\u001b[34m\u001b[1mwandb\u001b[0m: \tbatch: 51.7979539735126\n",
      "\u001b[34m\u001b[1mwandb\u001b[0m: \tlr: 0.0034353339905929432\n",
      "\u001b[34m\u001b[1mwandb\u001b[0m: \toptimizer: sgd\n",
      "\u001b[34m\u001b[1mwandb\u001b[0m: \tupdate1: 28.965670210165538\n",
      "Failed to detect the name of this notebook, you can set it manually with the WANDB_NOTEBOOK_NAME environment variable to enable code saving.\n"
     ]
    },
    {
     "data": {
      "text/html": [
       "wandb version 0.16.6 is available!  To upgrade, please run:\n",
       " $ pip install wandb --upgrade"
      ],
      "text/plain": [
       "<IPython.core.display.HTML object>"
      ]
     },
     "metadata": {},
     "output_type": "display_data"
    },
    {
     "data": {
      "text/html": [
       "Tracking run with wandb version 0.16.5"
      ],
      "text/plain": [
       "<IPython.core.display.HTML object>"
      ]
     },
     "metadata": {},
     "output_type": "display_data"
    },
    {
     "data": {
      "text/html": [
       "Run data is saved locally in <code>/home/navin/Programming-assignment-2/wandb/run-20240406_174039-7hp64sv5</code>"
      ],
      "text/plain": [
       "<IPython.core.display.HTML object>"
      ]
     },
     "metadata": {},
     "output_type": "display_data"
    },
    {
     "data": {
      "text/html": [
       "Syncing run <strong><a href='https://wandb.ai/navinboys/dqCart-V1/runs/7hp64sv5/workspace' target=\"_blank\">twilight-sweep-4</a></strong> to <a href='https://wandb.ai/navinboys/dqCart-V1' target=\"_blank\">Weights & Biases</a> (<a href='https://wandb.me/run' target=\"_blank\">docs</a>)<br/>Sweep page: <a href='https://wandb.ai/navinboys/dqCart-V1/sweeps/3at1jpps' target=\"_blank\">https://wandb.ai/navinboys/dqCart-V1/sweeps/3at1jpps</a>"
      ],
      "text/plain": [
       "<IPython.core.display.HTML object>"
      ]
     },
     "metadata": {},
     "output_type": "display_data"
    },
    {
     "data": {
      "text/html": [
       " View project at <a href='https://wandb.ai/navinboys/dqCart-V1' target=\"_blank\">https://wandb.ai/navinboys/dqCart-V1</a>"
      ],
      "text/plain": [
       "<IPython.core.display.HTML object>"
      ]
     },
     "metadata": {},
     "output_type": "display_data"
    },
    {
     "data": {
      "text/html": [
       " View sweep at <a href='https://wandb.ai/navinboys/dqCart-V1/sweeps/3at1jpps' target=\"_blank\">https://wandb.ai/navinboys/dqCart-V1/sweeps/3at1jpps</a>"
      ],
      "text/plain": [
       "<IPython.core.display.HTML object>"
      ]
     },
     "metadata": {},
     "output_type": "display_data"
    },
    {
     "data": {
      "text/html": [
       " View run at <a href='https://wandb.ai/navinboys/dqCart-V1/runs/7hp64sv5/workspace' target=\"_blank\">https://wandb.ai/navinboys/dqCart-V1/runs/7hp64sv5/workspace</a>"
      ],
      "text/plain": [
       "<IPython.core.display.HTML object>"
      ]
     },
     "metadata": {},
     "output_type": "display_data"
    },
    {
     "name": "stdout",
     "output_type": "stream",
     "text": [
      "Episode 10\tAverage Score: 18.60\n",
      "Episode 20\tAverage Score: 19.75\n",
      "Episode 30\tAverage Score: 20.37\n",
      "Episode 40\tAverage Score: 24.02\n",
      "Episode 50\tAverage Score: 25.26\n",
      "Episode 60\tAverage Score: 26.52\n",
      "Episode 70\tAverage Score: 27.89\n",
      "Episode 80\tAverage Score: 29.02\n",
      "Episode 90\tAverage Score: 30.88\n",
      "Episode 100\tAverage Score: 34.11\n",
      "Episode 110\tAverage Score: 38.37\n",
      "Episode 120\tAverage Score: 40.78\n",
      "Episode 130\tAverage Score: 45.10\n",
      "Episode 140\tAverage Score: 49.83\n",
      "Episode 150\tAverage Score: 51.11\n",
      "Episode 160\tAverage Score: 56.90\n",
      "Episode 170\tAverage Score: 58.84\n",
      "Episode 180\tAverage Score: 65.37\n",
      "Episode 190\tAverage Score: 75.09\n",
      "Episode 200\tAverage Score: 72.24\n",
      "Episode 210\tAverage Score: 79.42\n",
      "Episode 220\tAverage Score: 86.81\n",
      "Episode 230\tAverage Score: 86.03\n",
      "Episode 240\tAverage Score: 83.69\n",
      "Episode 250\tAverage Score: 83.68\n",
      "Episode 260\tAverage Score: 81.84\n",
      "Episode 270\tAverage Score: 80.47\n",
      "Episode 280\tAverage Score: 75.59\n",
      "Episode 290\tAverage Score: 65.70\n",
      "Episode 300\tAverage Score: 63.93\n",
      "Episode 301\tAverage Score: 63.95\n",
      "Environment solved in 301 episodes!\tAverage Score: 63.95\n"
     ]
    },
    {
     "data": {
      "text/html": [
       "<style>\n",
       "    table.wandb td:nth-child(1) { padding: 0 10px; text-align: left ; width: auto;} td:nth-child(2) {text-align: left ; width: 100%}\n",
       "    .wandb-row { display: flex; flex-direction: row; flex-wrap: wrap; justify-content: flex-start; width: 100% }\n",
       "    .wandb-col { display: flex; flex-direction: column; flex-basis: 100%; flex: 1; padding: 10px; }\n",
       "    </style>\n",
       "<div class=\"wandb-row\"><div class=\"wandb-col\"><h3>Run history:</h3><br/><table class=\"wandb\"><tr><td>Regret</td><td>▁</td></tr><tr><td>Score</td><td>▁▁▁▁▁▂▂▂▂▂▂▂▂▃▃▃▄▄▄▄▅▅▅▆▆▇▆▇█████▇▇▇▇▇▆▆</td></tr><tr><td>epoch</td><td>▁▁▁▁▂▂▂▂▂▃▃▃▃▃▃▄▄▄▄▄▅▅▅▅▅▅▆▆▆▆▆▆▇▇▇▇▇███</td></tr></table><br/></div><div class=\"wandb-col\"><h3>Run summary:</h3><br/><table class=\"wandb\"><tr><td>Regret</td><td>126732.21515</td></tr><tr><td>Score</td><td>63.95</td></tr><tr><td>epoch</td><td>300</td></tr></table><br/></div></div>"
      ],
      "text/plain": [
       "<IPython.core.display.HTML object>"
      ]
     },
     "metadata": {},
     "output_type": "display_data"
    },
    {
     "data": {
      "text/html": [
       " View run <strong style=\"color:#cdcd00\">twilight-sweep-4</strong> at: <a href='https://wandb.ai/navinboys/dqCart-V1/runs/7hp64sv5/workspace' target=\"_blank\">https://wandb.ai/navinboys/dqCart-V1/runs/7hp64sv5/workspace</a><br/>Synced 5 W&B file(s), 0 media file(s), 0 artifact file(s) and 0 other file(s)"
      ],
      "text/plain": [
       "<IPython.core.display.HTML object>"
      ]
     },
     "metadata": {},
     "output_type": "display_data"
    },
    {
     "data": {
      "text/html": [
       "Find logs at: <code>./wandb/run-20240406_174039-7hp64sv5/logs</code>"
      ],
      "text/plain": [
       "<IPython.core.display.HTML object>"
      ]
     },
     "metadata": {},
     "output_type": "display_data"
    },
    {
     "name": "stderr",
     "output_type": "stream",
     "text": [
      "\u001b[34m\u001b[1mwandb\u001b[0m: Agent Starting Run: 2dpzo73p with config:\n",
      "\u001b[34m\u001b[1mwandb\u001b[0m: \tbatch: 58.093251008764\n",
      "\u001b[34m\u001b[1mwandb\u001b[0m: \tlr: 0.009145630851091494\n",
      "\u001b[34m\u001b[1mwandb\u001b[0m: \toptimizer: sgd\n",
      "\u001b[34m\u001b[1mwandb\u001b[0m: \tupdate1: 25.344465842222306\n",
      "Failed to detect the name of this notebook, you can set it manually with the WANDB_NOTEBOOK_NAME environment variable to enable code saving.\n"
     ]
    },
    {
     "data": {
      "text/html": [
       "wandb version 0.16.6 is available!  To upgrade, please run:\n",
       " $ pip install wandb --upgrade"
      ],
      "text/plain": [
       "<IPython.core.display.HTML object>"
      ]
     },
     "metadata": {},
     "output_type": "display_data"
    },
    {
     "data": {
      "text/html": [
       "Tracking run with wandb version 0.16.5"
      ],
      "text/plain": [
       "<IPython.core.display.HTML object>"
      ]
     },
     "metadata": {},
     "output_type": "display_data"
    },
    {
     "data": {
      "text/html": [
       "Run data is saved locally in <code>/home/navin/Programming-assignment-2/wandb/run-20240406_174133-2dpzo73p</code>"
      ],
      "text/plain": [
       "<IPython.core.display.HTML object>"
      ]
     },
     "metadata": {},
     "output_type": "display_data"
    },
    {
     "data": {
      "text/html": [
       "Syncing run <strong><a href='https://wandb.ai/navinboys/dqCart-V1/runs/2dpzo73p/workspace' target=\"_blank\">crisp-sweep-5</a></strong> to <a href='https://wandb.ai/navinboys/dqCart-V1' target=\"_blank\">Weights & Biases</a> (<a href='https://wandb.me/run' target=\"_blank\">docs</a>)<br/>Sweep page: <a href='https://wandb.ai/navinboys/dqCart-V1/sweeps/3at1jpps' target=\"_blank\">https://wandb.ai/navinboys/dqCart-V1/sweeps/3at1jpps</a>"
      ],
      "text/plain": [
       "<IPython.core.display.HTML object>"
      ]
     },
     "metadata": {},
     "output_type": "display_data"
    },
    {
     "data": {
      "text/html": [
       " View project at <a href='https://wandb.ai/navinboys/dqCart-V1' target=\"_blank\">https://wandb.ai/navinboys/dqCart-V1</a>"
      ],
      "text/plain": [
       "<IPython.core.display.HTML object>"
      ]
     },
     "metadata": {},
     "output_type": "display_data"
    },
    {
     "data": {
      "text/html": [
       " View sweep at <a href='https://wandb.ai/navinboys/dqCart-V1/sweeps/3at1jpps' target=\"_blank\">https://wandb.ai/navinboys/dqCart-V1/sweeps/3at1jpps</a>"
      ],
      "text/plain": [
       "<IPython.core.display.HTML object>"
      ]
     },
     "metadata": {},
     "output_type": "display_data"
    },
    {
     "data": {
      "text/html": [
       " View run at <a href='https://wandb.ai/navinboys/dqCart-V1/runs/2dpzo73p/workspace' target=\"_blank\">https://wandb.ai/navinboys/dqCart-V1/runs/2dpzo73p/workspace</a>"
      ],
      "text/plain": [
       "<IPython.core.display.HTML object>"
      ]
     },
     "metadata": {},
     "output_type": "display_data"
    },
    {
     "name": "stdout",
     "output_type": "stream",
     "text": [
      "Episode 10\tAverage Score: 17.70\n",
      "Episode 20\tAverage Score: 19.35\n",
      "Episode 30\tAverage Score: 25.43\n",
      "Episode 40\tAverage Score: 25.77\n",
      "Episode 50\tAverage Score: 27.42\n",
      "Episode 60\tAverage Score: 28.23\n",
      "Episode 70\tAverage Score: 28.83\n",
      "Episode 80\tAverage Score: 29.19\n",
      "Episode 90\tAverage Score: 31.62\n",
      "Episode 100\tAverage Score: 30.69\n",
      "Episode 110\tAverage Score: 31.92\n",
      "Episode 120\tAverage Score: 33.30\n",
      "Episode 130\tAverage Score: 34.17\n",
      "Episode 140\tAverage Score: 34.95\n",
      "Episode 150\tAverage Score: 36.79\n",
      "Episode 160\tAverage Score: 39.80\n",
      "Episode 170\tAverage Score: 39.65\n",
      "Episode 180\tAverage Score: 41.28\n",
      "Episode 190\tAverage Score: 40.68\n",
      "Episode 200\tAverage Score: 44.67\n",
      "Episode 210\tAverage Score: 45.53\n",
      "Episode 220\tAverage Score: 47.00\n",
      "Episode 230\tAverage Score: 47.72\n",
      "Episode 240\tAverage Score: 51.17\n",
      "Episode 250\tAverage Score: 51.01\n",
      "Episode 260\tAverage Score: 51.84\n",
      "Episode 270\tAverage Score: 56.07\n",
      "Episode 280\tAverage Score: 58.72\n",
      "Episode 290\tAverage Score: 59.59\n",
      "Episode 300\tAverage Score: 67.90\n",
      "Episode 301\tAverage Score: 68.35\n",
      "Environment solved in 301 episodes!\tAverage Score: 68.35\n"
     ]
    },
    {
     "data": {
      "text/html": [
       "<style>\n",
       "    table.wandb td:nth-child(1) { padding: 0 10px; text-align: left ; width: auto;} td:nth-child(2) {text-align: left ; width: 100%}\n",
       "    .wandb-row { display: flex; flex-direction: row; flex-wrap: wrap; justify-content: flex-start; width: 100% }\n",
       "    .wandb-col { display: flex; flex-direction: column; flex-basis: 100%; flex: 1; padding: 10px; }\n",
       "    </style>\n",
       "<div class=\"wandb-row\"><div class=\"wandb-col\"><h3>Run history:</h3><br/><table class=\"wandb\"><tr><td>Regret</td><td>▁</td></tr><tr><td>Score</td><td>▁▁▁▂▂▂▃▃▃▃▃▃▃▃▃▃▄▄▄▄▄▄▄▄▅▄▅▅▅▅▅▆▆▆▆▆▇▇▇█</td></tr><tr><td>epoch</td><td>▁▁▁▁▂▂▂▂▂▃▃▃▃▃▃▄▄▄▄▄▅▅▅▅▅▅▆▆▆▆▆▆▇▇▇▇▇███</td></tr></table><br/></div><div class=\"wandb-col\"><h3>Run summary:</h3><br/><table class=\"wandb\"><tr><td>Regret</td><td>130979.88975</td></tr><tr><td>Score</td><td>68.35</td></tr><tr><td>epoch</td><td>300</td></tr></table><br/></div></div>"
      ],
      "text/plain": [
       "<IPython.core.display.HTML object>"
      ]
     },
     "metadata": {},
     "output_type": "display_data"
    },
    {
     "data": {
      "text/html": [
       " View run <strong style=\"color:#cdcd00\">crisp-sweep-5</strong> at: <a href='https://wandb.ai/navinboys/dqCart-V1/runs/2dpzo73p/workspace' target=\"_blank\">https://wandb.ai/navinboys/dqCart-V1/runs/2dpzo73p/workspace</a><br/>Synced 5 W&B file(s), 0 media file(s), 0 artifact file(s) and 0 other file(s)"
      ],
      "text/plain": [
       "<IPython.core.display.HTML object>"
      ]
     },
     "metadata": {},
     "output_type": "display_data"
    },
    {
     "data": {
      "text/html": [
       "Find logs at: <code>./wandb/run-20240406_174133-2dpzo73p/logs</code>"
      ],
      "text/plain": [
       "<IPython.core.display.HTML object>"
      ]
     },
     "metadata": {},
     "output_type": "display_data"
    },
    {
     "name": "stderr",
     "output_type": "stream",
     "text": [
      "\u001b[34m\u001b[1mwandb\u001b[0m: Agent Starting Run: 36ozamab with config:\n",
      "\u001b[34m\u001b[1mwandb\u001b[0m: \tbatch: 76.49840558521387\n",
      "\u001b[34m\u001b[1mwandb\u001b[0m: \tlr: 0.008781189912157237\n",
      "\u001b[34m\u001b[1mwandb\u001b[0m: \toptimizer: adam\n",
      "\u001b[34m\u001b[1mwandb\u001b[0m: \tupdate1: 23.086581263507433\n",
      "Failed to detect the name of this notebook, you can set it manually with the WANDB_NOTEBOOK_NAME environment variable to enable code saving.\n"
     ]
    },
    {
     "data": {
      "text/html": [
       "wandb version 0.16.6 is available!  To upgrade, please run:\n",
       " $ pip install wandb --upgrade"
      ],
      "text/plain": [
       "<IPython.core.display.HTML object>"
      ]
     },
     "metadata": {},
     "output_type": "display_data"
    },
    {
     "data": {
      "text/html": [
       "Tracking run with wandb version 0.16.5"
      ],
      "text/plain": [
       "<IPython.core.display.HTML object>"
      ]
     },
     "metadata": {},
     "output_type": "display_data"
    },
    {
     "data": {
      "text/html": [
       "Run data is saved locally in <code>/home/navin/Programming-assignment-2/wandb/run-20240406_174220-36ozamab</code>"
      ],
      "text/plain": [
       "<IPython.core.display.HTML object>"
      ]
     },
     "metadata": {},
     "output_type": "display_data"
    },
    {
     "data": {
      "text/html": [
       "Syncing run <strong><a href='https://wandb.ai/navinboys/dqCart-V1/runs/36ozamab/workspace' target=\"_blank\">polar-sweep-6</a></strong> to <a href='https://wandb.ai/navinboys/dqCart-V1' target=\"_blank\">Weights & Biases</a> (<a href='https://wandb.me/run' target=\"_blank\">docs</a>)<br/>Sweep page: <a href='https://wandb.ai/navinboys/dqCart-V1/sweeps/3at1jpps' target=\"_blank\">https://wandb.ai/navinboys/dqCart-V1/sweeps/3at1jpps</a>"
      ],
      "text/plain": [
       "<IPython.core.display.HTML object>"
      ]
     },
     "metadata": {},
     "output_type": "display_data"
    },
    {
     "data": {
      "text/html": [
       " View project at <a href='https://wandb.ai/navinboys/dqCart-V1' target=\"_blank\">https://wandb.ai/navinboys/dqCart-V1</a>"
      ],
      "text/plain": [
       "<IPython.core.display.HTML object>"
      ]
     },
     "metadata": {},
     "output_type": "display_data"
    },
    {
     "data": {
      "text/html": [
       " View sweep at <a href='https://wandb.ai/navinboys/dqCart-V1/sweeps/3at1jpps' target=\"_blank\">https://wandb.ai/navinboys/dqCart-V1/sweeps/3at1jpps</a>"
      ],
      "text/plain": [
       "<IPython.core.display.HTML object>"
      ]
     },
     "metadata": {},
     "output_type": "display_data"
    },
    {
     "data": {
      "text/html": [
       " View run at <a href='https://wandb.ai/navinboys/dqCart-V1/runs/36ozamab/workspace' target=\"_blank\">https://wandb.ai/navinboys/dqCart-V1/runs/36ozamab/workspace</a>"
      ],
      "text/plain": [
       "<IPython.core.display.HTML object>"
      ]
     },
     "metadata": {},
     "output_type": "display_data"
    },
    {
     "name": "stdout",
     "output_type": "stream",
     "text": [
      "Episode 10\tAverage Score: 22.80\n",
      "Episode 20\tAverage Score: 22.40\n",
      "Episode 30\tAverage Score: 22.63\n",
      "Episode 40\tAverage Score: 23.38\n",
      "Episode 50\tAverage Score: 23.12\n",
      "Episode 60\tAverage Score: 23.48\n",
      "Episode 70\tAverage Score: 24.17\n",
      "Episode 80\tAverage Score: 25.32\n",
      "Episode 90\tAverage Score: 26.90\n",
      "Episode 100\tAverage Score: 28.06\n",
      "Episode 110\tAverage Score: 28.87\n",
      "Episode 120\tAverage Score: 31.10\n",
      "Episode 130\tAverage Score: 31.33\n",
      "Episode 140\tAverage Score: 33.06\n",
      "Episode 150\tAverage Score: 35.54\n",
      "Episode 160\tAverage Score: 35.68\n",
      "Episode 170\tAverage Score: 38.04\n",
      "Episode 180\tAverage Score: 42.46\n",
      "Episode 190\tAverage Score: 45.27\n",
      "Episode 200\tAverage Score: 47.26\n",
      "Episode 210\tAverage Score: 53.23\n",
      "Episode 220\tAverage Score: 57.10\n",
      "Episode 230\tAverage Score: 67.14\n",
      "Episode 240\tAverage Score: 77.86\n",
      "Episode 250\tAverage Score: 85.83\n",
      "Episode 260\tAverage Score: 101.90\n",
      "Episode 270\tAverage Score: 115.16\n",
      "Episode 280\tAverage Score: 126.57\n",
      "Episode 290\tAverage Score: 140.03\n",
      "Episode 300\tAverage Score: 153.24\n",
      "Episode 301\tAverage Score: 154.12\n",
      "Environment solved in 301 episodes!\tAverage Score: 154.12\n"
     ]
    },
    {
     "data": {
      "text/html": [
       "<style>\n",
       "    table.wandb td:nth-child(1) { padding: 0 10px; text-align: left ; width: auto;} td:nth-child(2) {text-align: left ; width: 100%}\n",
       "    .wandb-row { display: flex; flex-direction: row; flex-wrap: wrap; justify-content: flex-start; width: 100% }\n",
       "    .wandb-col { display: flex; flex-direction: column; flex-basis: 100%; flex: 1; padding: 10px; }\n",
       "    </style>\n",
       "<div class=\"wandb-row\"><div class=\"wandb-col\"><h3>Run history:</h3><br/><table class=\"wandb\"><tr><td>Regret</td><td>▁</td></tr><tr><td>Score</td><td>▁▁▁▁▁▁▁▁▁▁▁▂▂▂▂▂▂▂▂▂▂▂▂▂▂▂▃▃▃▃▃▄▄▅▅▆▆▇▇█</td></tr><tr><td>epoch</td><td>▁▁▁▁▂▂▂▂▂▃▃▃▃▃▃▄▄▄▄▄▅▅▅▅▅▅▆▆▆▆▆▆▇▇▇▇▇███</td></tr></table><br/></div><div class=\"wandb-col\"><h3>Run summary:</h3><br/><table class=\"wandb\"><tr><td>Regret</td><td>127237.52589</td></tr><tr><td>Score</td><td>154.12</td></tr><tr><td>epoch</td><td>300</td></tr></table><br/></div></div>"
      ],
      "text/plain": [
       "<IPython.core.display.HTML object>"
      ]
     },
     "metadata": {},
     "output_type": "display_data"
    },
    {
     "data": {
      "text/html": [
       " View run <strong style=\"color:#cdcd00\">polar-sweep-6</strong> at: <a href='https://wandb.ai/navinboys/dqCart-V1/runs/36ozamab/workspace' target=\"_blank\">https://wandb.ai/navinboys/dqCart-V1/runs/36ozamab/workspace</a><br/>Synced 5 W&B file(s), 0 media file(s), 0 artifact file(s) and 0 other file(s)"
      ],
      "text/plain": [
       "<IPython.core.display.HTML object>"
      ]
     },
     "metadata": {},
     "output_type": "display_data"
    },
    {
     "data": {
      "text/html": [
       "Find logs at: <code>./wandb/run-20240406_174220-36ozamab/logs</code>"
      ],
      "text/plain": [
       "<IPython.core.display.HTML object>"
      ]
     },
     "metadata": {},
     "output_type": "display_data"
    },
    {
     "name": "stderr",
     "output_type": "stream",
     "text": [
      "\u001b[34m\u001b[1mwandb\u001b[0m: Sweep Agent: Waiting for job.\n",
      "\u001b[34m\u001b[1mwandb\u001b[0m: Job received.\n",
      "\u001b[34m\u001b[1mwandb\u001b[0m: Agent Starting Run: frr3rwp3 with config:\n",
      "\u001b[34m\u001b[1mwandb\u001b[0m: \tbatch: 64.28025139823687\n",
      "\u001b[34m\u001b[1mwandb\u001b[0m: \tlr: 9.123299425242476e-05\n",
      "\u001b[34m\u001b[1mwandb\u001b[0m: \toptimizer: adam\n",
      "\u001b[34m\u001b[1mwandb\u001b[0m: \tupdate1: 20.368259734421148\n",
      "Failed to detect the name of this notebook, you can set it manually with the WANDB_NOTEBOOK_NAME environment variable to enable code saving.\n"
     ]
    },
    {
     "data": {
      "text/html": [
       "wandb version 0.16.6 is available!  To upgrade, please run:\n",
       " $ pip install wandb --upgrade"
      ],
      "text/plain": [
       "<IPython.core.display.HTML object>"
      ]
     },
     "metadata": {},
     "output_type": "display_data"
    },
    {
     "data": {
      "text/html": [
       "Tracking run with wandb version 0.16.5"
      ],
      "text/plain": [
       "<IPython.core.display.HTML object>"
      ]
     },
     "metadata": {},
     "output_type": "display_data"
    },
    {
     "data": {
      "text/html": [
       "Run data is saved locally in <code>/home/navin/Programming-assignment-2/wandb/run-20240406_174341-frr3rwp3</code>"
      ],
      "text/plain": [
       "<IPython.core.display.HTML object>"
      ]
     },
     "metadata": {},
     "output_type": "display_data"
    },
    {
     "data": {
      "text/html": [
       "Syncing run <strong><a href='https://wandb.ai/navinboys/dqCart-V1/runs/frr3rwp3/workspace' target=\"_blank\">silvery-sweep-7</a></strong> to <a href='https://wandb.ai/navinboys/dqCart-V1' target=\"_blank\">Weights & Biases</a> (<a href='https://wandb.me/run' target=\"_blank\">docs</a>)<br/>Sweep page: <a href='https://wandb.ai/navinboys/dqCart-V1/sweeps/3at1jpps' target=\"_blank\">https://wandb.ai/navinboys/dqCart-V1/sweeps/3at1jpps</a>"
      ],
      "text/plain": [
       "<IPython.core.display.HTML object>"
      ]
     },
     "metadata": {},
     "output_type": "display_data"
    },
    {
     "data": {
      "text/html": [
       " View project at <a href='https://wandb.ai/navinboys/dqCart-V1' target=\"_blank\">https://wandb.ai/navinboys/dqCart-V1</a>"
      ],
      "text/plain": [
       "<IPython.core.display.HTML object>"
      ]
     },
     "metadata": {},
     "output_type": "display_data"
    },
    {
     "data": {
      "text/html": [
       " View sweep at <a href='https://wandb.ai/navinboys/dqCart-V1/sweeps/3at1jpps' target=\"_blank\">https://wandb.ai/navinboys/dqCart-V1/sweeps/3at1jpps</a>"
      ],
      "text/plain": [
       "<IPython.core.display.HTML object>"
      ]
     },
     "metadata": {},
     "output_type": "display_data"
    },
    {
     "data": {
      "text/html": [
       " View run at <a href='https://wandb.ai/navinboys/dqCart-V1/runs/frr3rwp3/workspace' target=\"_blank\">https://wandb.ai/navinboys/dqCart-V1/runs/frr3rwp3/workspace</a>"
      ],
      "text/plain": [
       "<IPython.core.display.HTML object>"
      ]
     },
     "metadata": {},
     "output_type": "display_data"
    },
    {
     "name": "stdout",
     "output_type": "stream",
     "text": [
      "Episode 10\tAverage Score: 22.10\n",
      "Episode 20\tAverage Score: 21.60\n",
      "Episode 30\tAverage Score: 20.70\n",
      "Episode 40\tAverage Score: 20.15\n",
      "Episode 50\tAverage Score: 19.62\n",
      "Episode 60\tAverage Score: 18.85\n",
      "Episode 70\tAverage Score: 18.97\n",
      "Episode 80\tAverage Score: 18.80\n",
      "Episode 90\tAverage Score: 19.07\n",
      "Episode 100\tAverage Score: 19.58\n",
      "Episode 110\tAverage Score: 21.27\n",
      "Episode 120\tAverage Score: 24.20\n",
      "Episode 130\tAverage Score: 27.68\n",
      "Episode 140\tAverage Score: 30.79\n",
      "Episode 150\tAverage Score: 33.43\n",
      "Episode 160\tAverage Score: 38.01\n",
      "Episode 170\tAverage Score: 42.72\n",
      "Episode 180\tAverage Score: 47.62\n",
      "Episode 190\tAverage Score: 50.81\n",
      "Episode 200\tAverage Score: 55.88\n",
      "Episode 210\tAverage Score: 62.05\n",
      "Episode 220\tAverage Score: 69.18\n",
      "Episode 230\tAverage Score: 77.76\n",
      "Episode 240\tAverage Score: 90.60\n",
      "Episode 250\tAverage Score: 106.13\n",
      "Episode 260\tAverage Score: 117.94\n",
      "Episode 270\tAverage Score: 134.71\n",
      "Episode 280\tAverage Score: 149.64\n",
      "Episode 290\tAverage Score: 167.75\n",
      "Episode 300\tAverage Score: 182.46\n",
      "Episode 301\tAverage Score: 184.67\n",
      "Environment solved in 301 episodes!\tAverage Score: 184.67\n"
     ]
    },
    {
     "data": {
      "text/html": [
       "<style>\n",
       "    table.wandb td:nth-child(1) { padding: 0 10px; text-align: left ; width: auto;} td:nth-child(2) {text-align: left ; width: 100%}\n",
       "    .wandb-row { display: flex; flex-direction: row; flex-wrap: wrap; justify-content: flex-start; width: 100% }\n",
       "    .wandb-col { display: flex; flex-direction: column; flex-basis: 100%; flex: 1; padding: 10px; }\n",
       "    </style>\n",
       "<div class=\"wandb-row\"><div class=\"wandb-col\"><h3>Run history:</h3><br/><table class=\"wandb\"><tr><td>Regret</td><td>▁</td></tr><tr><td>Score</td><td>▁▁▁▁▁▁▁▁▁▁▁▁▁▁▁▁▁▂▂▂▂▂▂▂▂▂▃▃▃▃▄▄▄▅▅▆▆▇██</td></tr><tr><td>epoch</td><td>▁▁▁▁▂▂▂▂▂▃▃▃▃▃▃▄▄▄▄▄▅▅▅▅▅▅▆▆▆▆▆▆▇▇▇▇▇███</td></tr></table><br/></div><div class=\"wandb-col\"><h3>Run summary:</h3><br/><table class=\"wandb\"><tr><td>Regret</td><td>125981.08907</td></tr><tr><td>Score</td><td>184.67</td></tr><tr><td>epoch</td><td>300</td></tr></table><br/></div></div>"
      ],
      "text/plain": [
       "<IPython.core.display.HTML object>"
      ]
     },
     "metadata": {},
     "output_type": "display_data"
    },
    {
     "data": {
      "text/html": [
       " View run <strong style=\"color:#cdcd00\">silvery-sweep-7</strong> at: <a href='https://wandb.ai/navinboys/dqCart-V1/runs/frr3rwp3/workspace' target=\"_blank\">https://wandb.ai/navinboys/dqCart-V1/runs/frr3rwp3/workspace</a><br/>Synced 5 W&B file(s), 0 media file(s), 0 artifact file(s) and 0 other file(s)"
      ],
      "text/plain": [
       "<IPython.core.display.HTML object>"
      ]
     },
     "metadata": {},
     "output_type": "display_data"
    },
    {
     "data": {
      "text/html": [
       "Find logs at: <code>./wandb/run-20240406_174341-frr3rwp3/logs</code>"
      ],
      "text/plain": [
       "<IPython.core.display.HTML object>"
      ]
     },
     "metadata": {},
     "output_type": "display_data"
    }
   ],
   "source": [
    "def Objective(lr,batch,update):\n",
    "    env = gym.make(\"CartPole-v1\")\n",
    "    state_size = env.observation_space.shape[0]\n",
    "    action_size = env.action_space.n\n",
    "    type = 1 #mean\n",
    "    # type  = 2 # max\n",
    "    agent = TutorialAgent(lr,batch,update,type,state_size,action_size, seed = 0)\n",
    "    DDQN = DuelingDQN(env,\"eps greedy\",agent)\n",
    "    regret, avg_rewards = DDQN.train()\n",
    "    return regret, avg_rewards\n",
    "\n",
    "sweep_config = {\n",
    "    'method': 'bayes'\n",
    "    }\n",
    "\n",
    "metric = {\n",
    "    'name': 'loss',\n",
    "    'goal': 'minimize'   \n",
    "    }\n",
    "\n",
    "sweep_config['metric'] = metric\n",
    "parameters_dict = {\n",
    "    'optimizer': {\n",
    "        'values': ['adam', 'sgd']\n",
    "        },\n",
    "    'lr': {\n",
    "        # a flat distribution between 0 and 0.1\n",
    "        'distribution': 'uniform',\n",
    "        'min': 0.00001,\n",
    "        'max': 0.01\n",
    "      },\n",
    "    'batch': {\n",
    "        # a flat distribution between 0 and 0.1\n",
    "        'distribution': 'uniform',\n",
    "        'min': 40,\n",
    "        'max': 80\n",
    "      },\n",
    "    'update1': {\n",
    "        # a flat distribution between 0 and 0.1\n",
    "        'distribution': 'uniform',\n",
    "        'min': 20,\n",
    "        'max': 30\n",
    "      }\n",
    "    }\n",
    "\n",
    "sweep_config['parameters'] = parameters_dict\n",
    "sweep_id = wandb.sweep(sweep_config, project=\"dqCart-V1\")\n",
    "\n",
    "def train(config=sweep_config):\n",
    "    # Initialize a new wandb run\n",
    "    with wandb.init(config=config):\n",
    "        # If called by wandb.agent, as below,\n",
    "        # this config will be set by Sweep Controller\n",
    "        config = wandb.config\n",
    "        regret, avg_reward = Objective(config.lr,config.batch,config.update1)\n",
    "\n",
    "\n",
    "        for epoch in range(len(avg_reward)):\n",
    "            wandb.log({\"Score\": avg_reward[epoch], \"epoch\": epoch})  \n",
    "        wandb.log({\"Regret\": regret}) \n",
    "\n",
    "wandb.agent(sweep_id, train, count=7)"
   ]
  },
  {
   "cell_type": "code",
   "execution_count": 14,
   "metadata": {},
   "outputs": [
    {
     "name": "stdout",
     "output_type": "stream",
     "text": [
      "Create sweep with ID: arzd86zs\n",
      "Sweep URL: https://wandb.ai/navinboys/dqcatrpole1/sweeps/arzd86zs\n"
     ]
    },
    {
     "name": "stderr",
     "output_type": "stream",
     "text": [
      "\u001b[34m\u001b[1mwandb\u001b[0m: Agent Starting Run: bv7xo7ey with config:\n",
      "\u001b[34m\u001b[1mwandb\u001b[0m: \tbatch: 73\n",
      "\u001b[34m\u001b[1mwandb\u001b[0m: \tlr: 0.0009015612494084008\n",
      "\u001b[34m\u001b[1mwandb\u001b[0m: \tupdate1: 17\n",
      "Failed to detect the name of this notebook, you can set it manually with the WANDB_NOTEBOOK_NAME environment variable to enable code saving.\n",
      "\u001b[34m\u001b[1mwandb\u001b[0m: \u001b[33mWARNING\u001b[0m Ignored wandb.init() arg project when running a sweep.\n"
     ]
    },
    {
     "data": {
      "text/html": [
       "wandb version 0.16.6 is available!  To upgrade, please run:\n",
       " $ pip install wandb --upgrade"
      ],
      "text/plain": [
       "<IPython.core.display.HTML object>"
      ]
     },
     "metadata": {},
     "output_type": "display_data"
    },
    {
     "data": {
      "text/html": [
       "Tracking run with wandb version 0.16.5"
      ],
      "text/plain": [
       "<IPython.core.display.HTML object>"
      ]
     },
     "metadata": {},
     "output_type": "display_data"
    },
    {
     "data": {
      "text/html": [
       "Run data is saved locally in <code>/home/navin/Programming-assignment-2/wandb/run-20240406_174500-bv7xo7ey</code>"
      ],
      "text/plain": [
       "<IPython.core.display.HTML object>"
      ]
     },
     "metadata": {},
     "output_type": "display_data"
    },
    {
     "data": {
      "text/html": [
       "Syncing run <strong><a href='https://wandb.ai/navinboys/dqcatrpole1/runs/bv7xo7ey/workspace' target=\"_blank\">exalted-sweep-1</a></strong> to <a href='https://wandb.ai/navinboys/dqcatrpole1' target=\"_blank\">Weights & Biases</a> (<a href='https://wandb.me/run' target=\"_blank\">docs</a>)<br/>Sweep page: <a href='https://wandb.ai/navinboys/dqcatrpole1/sweeps/arzd86zs' target=\"_blank\">https://wandb.ai/navinboys/dqcatrpole1/sweeps/arzd86zs</a>"
      ],
      "text/plain": [
       "<IPython.core.display.HTML object>"
      ]
     },
     "metadata": {},
     "output_type": "display_data"
    },
    {
     "data": {
      "text/html": [
       " View project at <a href='https://wandb.ai/navinboys/dqcatrpole1' target=\"_blank\">https://wandb.ai/navinboys/dqcatrpole1</a>"
      ],
      "text/plain": [
       "<IPython.core.display.HTML object>"
      ]
     },
     "metadata": {},
     "output_type": "display_data"
    },
    {
     "data": {
      "text/html": [
       " View sweep at <a href='https://wandb.ai/navinboys/dqcatrpole1/sweeps/arzd86zs' target=\"_blank\">https://wandb.ai/navinboys/dqcatrpole1/sweeps/arzd86zs</a>"
      ],
      "text/plain": [
       "<IPython.core.display.HTML object>"
      ]
     },
     "metadata": {},
     "output_type": "display_data"
    },
    {
     "data": {
      "text/html": [
       " View run at <a href='https://wandb.ai/navinboys/dqcatrpole1/runs/bv7xo7ey/workspace' target=\"_blank\">https://wandb.ai/navinboys/dqcatrpole1/runs/bv7xo7ey/workspace</a>"
      ],
      "text/plain": [
       "<IPython.core.display.HTML object>"
      ]
     },
     "metadata": {},
     "output_type": "display_data"
    },
    {
     "name": "stdout",
     "output_type": "stream",
     "text": [
      "Episode 10\tAverage Score: 18.70\n",
      "Episode 20\tAverage Score: 21.45\n",
      "Episode 30\tAverage Score: 23.37\n",
      "Episode 40\tAverage Score: 23.15\n",
      "Episode 50\tAverage Score: 26.46\n",
      "Episode 60\tAverage Score: 28.93\n",
      "Episode 70\tAverage Score: 33.54\n",
      "Episode 80\tAverage Score: 36.61\n",
      "Episode 90\tAverage Score: 42.03\n",
      "Episode 100\tAverage Score: 42.20\n",
      "Episode 110\tAverage Score: 48.70\n",
      "Episode 120\tAverage Score: 55.23\n",
      "Episode 130\tAverage Score: 61.62\n",
      "Episode 140\tAverage Score: 65.36\n",
      "Episode 150\tAverage Score: 72.70\n",
      "Episode 160\tAverage Score: 80.46\n",
      "Episode 170\tAverage Score: 88.04\n",
      "Episode 180\tAverage Score: 99.45\n",
      "Episode 190\tAverage Score: 107.86\n",
      "Episode 200\tAverage Score: 131.46\n",
      "Episode 210\tAverage Score: 172.95\n",
      "Episode 220\tAverage Score: 196.20\n",
      "Episode 230\tAverage Score: 211.67\n",
      "Episode 240\tAverage Score: 215.01\n",
      "Episode 250\tAverage Score: 215.02\n",
      "Episode 260\tAverage Score: 211.37\n",
      "Episode 270\tAverage Score: 207.62\n",
      "Episode 280\tAverage Score: 197.97\n",
      "Episode 290\tAverage Score: 189.61\n",
      "Episode 300\tAverage Score: 168.46\n",
      "Episode 301\tAverage Score: 162.87\n",
      "Environment solved in 301 episodes!\tAverage Score: 162.87\n"
     ]
    },
    {
     "data": {
      "text/html": [
       "<style>\n",
       "    table.wandb td:nth-child(1) { padding: 0 10px; text-align: left ; width: auto;} td:nth-child(2) {text-align: left ; width: 100%}\n",
       "    .wandb-row { display: flex; flex-direction: row; flex-wrap: wrap; justify-content: flex-start; width: 100% }\n",
       "    .wandb-col { display: flex; flex-direction: column; flex-basis: 100%; flex: 1; padding: 10px; }\n",
       "    </style>\n",
       "<div class=\"wandb-row\"><div class=\"wandb-col\"><h3>Run history:</h3><br/><table class=\"wandb\"><tr><td>Scores</td><td>▁▁▁▁▁▁▁▁▁▂▂▂▂▂▂▂▂▃▃▃▃▃▃▄▄▄▅▆▇▇██████▇▇▇▆</td></tr><tr><td>regret</td><td>▁</td></tr></table><br/></div><div class=\"wandb-col\"><h3>Run summary:</h3><br/><table class=\"wandb\"><tr><td>Scores</td><td>162.87</td></tr><tr><td>regret</td><td>112242.21701</td></tr></table><br/></div></div>"
      ],
      "text/plain": [
       "<IPython.core.display.HTML object>"
      ]
     },
     "metadata": {},
     "output_type": "display_data"
    },
    {
     "data": {
      "text/html": [
       " View run <strong style=\"color:#cdcd00\">exalted-sweep-1</strong> at: <a href='https://wandb.ai/navinboys/dqcatrpole1/runs/bv7xo7ey/workspace' target=\"_blank\">https://wandb.ai/navinboys/dqcatrpole1/runs/bv7xo7ey/workspace</a><br/>Synced 5 W&B file(s), 0 media file(s), 0 artifact file(s) and 0 other file(s)"
      ],
      "text/plain": [
       "<IPython.core.display.HTML object>"
      ]
     },
     "metadata": {},
     "output_type": "display_data"
    },
    {
     "data": {
      "text/html": [
       "Find logs at: <code>./wandb/run-20240406_174500-bv7xo7ey/logs</code>"
      ],
      "text/plain": [
       "<IPython.core.display.HTML object>"
      ]
     },
     "metadata": {},
     "output_type": "display_data"
    },
    {
     "name": "stderr",
     "output_type": "stream",
     "text": [
      "\u001b[34m\u001b[1mwandb\u001b[0m: Agent Starting Run: 2i13mbx7 with config:\n",
      "\u001b[34m\u001b[1mwandb\u001b[0m: \tbatch: 80\n",
      "\u001b[34m\u001b[1mwandb\u001b[0m: \tlr: 0.008816954895284446\n",
      "\u001b[34m\u001b[1mwandb\u001b[0m: \tupdate1: 11\n",
      "Failed to detect the name of this notebook, you can set it manually with the WANDB_NOTEBOOK_NAME environment variable to enable code saving.\n",
      "\u001b[34m\u001b[1mwandb\u001b[0m: \u001b[33mWARNING\u001b[0m Ignored wandb.init() arg project when running a sweep.\n"
     ]
    },
    {
     "data": {
      "text/html": [
       "wandb version 0.16.6 is available!  To upgrade, please run:\n",
       " $ pip install wandb --upgrade"
      ],
      "text/plain": [
       "<IPython.core.display.HTML object>"
      ]
     },
     "metadata": {},
     "output_type": "display_data"
    },
    {
     "data": {
      "text/html": [
       "Tracking run with wandb version 0.16.5"
      ],
      "text/plain": [
       "<IPython.core.display.HTML object>"
      ]
     },
     "metadata": {},
     "output_type": "display_data"
    },
    {
     "data": {
      "text/html": [
       "Run data is saved locally in <code>/home/navin/Programming-assignment-2/wandb/run-20240406_174645-2i13mbx7</code>"
      ],
      "text/plain": [
       "<IPython.core.display.HTML object>"
      ]
     },
     "metadata": {},
     "output_type": "display_data"
    },
    {
     "data": {
      "text/html": [
       "Syncing run <strong><a href='https://wandb.ai/navinboys/dqcatrpole1/runs/2i13mbx7/workspace' target=\"_blank\">pious-sweep-2</a></strong> to <a href='https://wandb.ai/navinboys/dqcatrpole1' target=\"_blank\">Weights & Biases</a> (<a href='https://wandb.me/run' target=\"_blank\">docs</a>)<br/>Sweep page: <a href='https://wandb.ai/navinboys/dqcatrpole1/sweeps/arzd86zs' target=\"_blank\">https://wandb.ai/navinboys/dqcatrpole1/sweeps/arzd86zs</a>"
      ],
      "text/plain": [
       "<IPython.core.display.HTML object>"
      ]
     },
     "metadata": {},
     "output_type": "display_data"
    },
    {
     "data": {
      "text/html": [
       " View project at <a href='https://wandb.ai/navinboys/dqcatrpole1' target=\"_blank\">https://wandb.ai/navinboys/dqcatrpole1</a>"
      ],
      "text/plain": [
       "<IPython.core.display.HTML object>"
      ]
     },
     "metadata": {},
     "output_type": "display_data"
    },
    {
     "data": {
      "text/html": [
       " View sweep at <a href='https://wandb.ai/navinboys/dqcatrpole1/sweeps/arzd86zs' target=\"_blank\">https://wandb.ai/navinboys/dqcatrpole1/sweeps/arzd86zs</a>"
      ],
      "text/plain": [
       "<IPython.core.display.HTML object>"
      ]
     },
     "metadata": {},
     "output_type": "display_data"
    },
    {
     "data": {
      "text/html": [
       " View run at <a href='https://wandb.ai/navinboys/dqcatrpole1/runs/2i13mbx7/workspace' target=\"_blank\">https://wandb.ai/navinboys/dqcatrpole1/runs/2i13mbx7/workspace</a>"
      ],
      "text/plain": [
       "<IPython.core.display.HTML object>"
      ]
     },
     "metadata": {},
     "output_type": "display_data"
    },
    {
     "name": "stdout",
     "output_type": "stream",
     "text": [
      "Episode 10\tAverage Score: 21.10\n",
      "Episode 20\tAverage Score: 19.05\n",
      "Episode 30\tAverage Score: 23.10\n",
      "Episode 40\tAverage Score: 23.05\n",
      "Episode 50\tAverage Score: 25.16\n",
      "Episode 60\tAverage Score: 26.00\n",
      "Episode 70\tAverage Score: 28.03\n",
      "Episode 80\tAverage Score: 28.52\n",
      "Episode 90\tAverage Score: 28.40\n",
      "Episode 100\tAverage Score: 27.85\n",
      "Episode 110\tAverage Score: 28.92\n",
      "Episode 120\tAverage Score: 30.57\n",
      "Episode 130\tAverage Score: 30.71\n",
      "Episode 140\tAverage Score: 34.48\n",
      "Episode 150\tAverage Score: 35.90\n",
      "Episode 160\tAverage Score: 39.44\n",
      "Episode 170\tAverage Score: 44.30\n",
      "Episode 180\tAverage Score: 52.76\n",
      "Episode 190\tAverage Score: 58.92\n",
      "Episode 200\tAverage Score: 69.02\n",
      "Episode 210\tAverage Score: 79.09\n",
      "Episode 220\tAverage Score: 86.89\n",
      "Episode 230\tAverage Score: 103.67\n",
      "Episode 240\tAverage Score: 115.73\n",
      "Episode 250\tAverage Score: 131.57\n",
      "Episode 260\tAverage Score: 144.78\n",
      "Episode 270\tAverage Score: 153.90\n",
      "Episode 280\tAverage Score: 161.57\n",
      "Episode 290\tAverage Score: 170.62\n",
      "Episode 300\tAverage Score: 176.42\n",
      "Episode 301\tAverage Score: 176.37\n",
      "Environment solved in 301 episodes!\tAverage Score: 176.37\n"
     ]
    },
    {
     "data": {
      "text/html": [
       "<style>\n",
       "    table.wandb td:nth-child(1) { padding: 0 10px; text-align: left ; width: auto;} td:nth-child(2) {text-align: left ; width: 100%}\n",
       "    .wandb-row { display: flex; flex-direction: row; flex-wrap: wrap; justify-content: flex-start; width: 100% }\n",
       "    .wandb-col { display: flex; flex-direction: column; flex-basis: 100%; flex: 1; padding: 10px; }\n",
       "    </style>\n",
       "<div class=\"wandb-row\"><div class=\"wandb-col\"><h3>Run history:</h3><br/><table class=\"wandb\"><tr><td>Scores</td><td>▁▁▁▁▁▁▁▁▁▂▂▂▂▂▂▂▂▂▂▂▂▂▂▃▃▃▃▄▄▄▅▅▆▆▇▇▇███</td></tr><tr><td>regret</td><td>▁</td></tr></table><br/></div><div class=\"wandb-col\"><h3>Run summary:</h3><br/><table class=\"wandb\"><tr><td>Scores</td><td>176.37</td></tr><tr><td>regret</td><td>123216.92742</td></tr></table><br/></div></div>"
      ],
      "text/plain": [
       "<IPython.core.display.HTML object>"
      ]
     },
     "metadata": {},
     "output_type": "display_data"
    },
    {
     "data": {
      "text/html": [
       " View run <strong style=\"color:#cdcd00\">pious-sweep-2</strong> at: <a href='https://wandb.ai/navinboys/dqcatrpole1/runs/2i13mbx7/workspace' target=\"_blank\">https://wandb.ai/navinboys/dqcatrpole1/runs/2i13mbx7/workspace</a><br/>Synced 5 W&B file(s), 0 media file(s), 0 artifact file(s) and 0 other file(s)"
      ],
      "text/plain": [
       "<IPython.core.display.HTML object>"
      ]
     },
     "metadata": {},
     "output_type": "display_data"
    },
    {
     "data": {
      "text/html": [
       "Find logs at: <code>./wandb/run-20240406_174645-2i13mbx7/logs</code>"
      ],
      "text/plain": [
       "<IPython.core.display.HTML object>"
      ]
     },
     "metadata": {},
     "output_type": "display_data"
    },
    {
     "name": "stderr",
     "output_type": "stream",
     "text": [
      "\u001b[34m\u001b[1mwandb\u001b[0m: Agent Starting Run: p3ioynvn with config:\n",
      "\u001b[34m\u001b[1mwandb\u001b[0m: \tbatch: 69\n",
      "\u001b[34m\u001b[1mwandb\u001b[0m: \tlr: 0.002487596105457862\n",
      "\u001b[34m\u001b[1mwandb\u001b[0m: \tupdate1: 26\n",
      "Failed to detect the name of this notebook, you can set it manually with the WANDB_NOTEBOOK_NAME environment variable to enable code saving.\n",
      "\u001b[34m\u001b[1mwandb\u001b[0m: \u001b[33mWARNING\u001b[0m Ignored wandb.init() arg project when running a sweep.\n"
     ]
    },
    {
     "data": {
      "text/html": [
       "wandb version 0.16.6 is available!  To upgrade, please run:\n",
       " $ pip install wandb --upgrade"
      ],
      "text/plain": [
       "<IPython.core.display.HTML object>"
      ]
     },
     "metadata": {},
     "output_type": "display_data"
    },
    {
     "data": {
      "text/html": [
       "Tracking run with wandb version 0.16.5"
      ],
      "text/plain": [
       "<IPython.core.display.HTML object>"
      ]
     },
     "metadata": {},
     "output_type": "display_data"
    },
    {
     "data": {
      "text/html": [
       "Run data is saved locally in <code>/home/navin/Programming-assignment-2/wandb/run-20240406_174810-p3ioynvn</code>"
      ],
      "text/plain": [
       "<IPython.core.display.HTML object>"
      ]
     },
     "metadata": {},
     "output_type": "display_data"
    },
    {
     "data": {
      "text/html": [
       "Syncing run <strong><a href='https://wandb.ai/navinboys/dqcatrpole1/runs/p3ioynvn/workspace' target=\"_blank\">sweepy-sweep-3</a></strong> to <a href='https://wandb.ai/navinboys/dqcatrpole1' target=\"_blank\">Weights & Biases</a> (<a href='https://wandb.me/run' target=\"_blank\">docs</a>)<br/>Sweep page: <a href='https://wandb.ai/navinboys/dqcatrpole1/sweeps/arzd86zs' target=\"_blank\">https://wandb.ai/navinboys/dqcatrpole1/sweeps/arzd86zs</a>"
      ],
      "text/plain": [
       "<IPython.core.display.HTML object>"
      ]
     },
     "metadata": {},
     "output_type": "display_data"
    },
    {
     "data": {
      "text/html": [
       " View project at <a href='https://wandb.ai/navinboys/dqcatrpole1' target=\"_blank\">https://wandb.ai/navinboys/dqcatrpole1</a>"
      ],
      "text/plain": [
       "<IPython.core.display.HTML object>"
      ]
     },
     "metadata": {},
     "output_type": "display_data"
    },
    {
     "data": {
      "text/html": [
       " View sweep at <a href='https://wandb.ai/navinboys/dqcatrpole1/sweeps/arzd86zs' target=\"_blank\">https://wandb.ai/navinboys/dqcatrpole1/sweeps/arzd86zs</a>"
      ],
      "text/plain": [
       "<IPython.core.display.HTML object>"
      ]
     },
     "metadata": {},
     "output_type": "display_data"
    },
    {
     "data": {
      "text/html": [
       " View run at <a href='https://wandb.ai/navinboys/dqcatrpole1/runs/p3ioynvn/workspace' target=\"_blank\">https://wandb.ai/navinboys/dqcatrpole1/runs/p3ioynvn/workspace</a>"
      ],
      "text/plain": [
       "<IPython.core.display.HTML object>"
      ]
     },
     "metadata": {},
     "output_type": "display_data"
    },
    {
     "name": "stdout",
     "output_type": "stream",
     "text": [
      "Episode 10\tAverage Score: 18.30\n",
      "Episode 20\tAverage Score: 23.20\n",
      "Episode 30\tAverage Score: 23.33\n",
      "Episode 40\tAverage Score: 25.95\n",
      "Episode 50\tAverage Score: 26.56\n",
      "Episode 60\tAverage Score: 28.82\n",
      "Episode 70\tAverage Score: 31.76\n",
      "Episode 80\tAverage Score: 31.96\n",
      "Episode 90\tAverage Score: 32.12\n",
      "Episode 100\tAverage Score: 32.41\n",
      "Episode 110\tAverage Score: 34.02\n",
      "Episode 120\tAverage Score: 36.75\n",
      "Episode 130\tAverage Score: 39.81\n",
      "Episode 140\tAverage Score: 42.27\n",
      "Episode 150\tAverage Score: 43.31\n",
      "Episode 160\tAverage Score: 45.70\n",
      "Episode 170\tAverage Score: 47.65\n",
      "Episode 180\tAverage Score: 48.78\n",
      "Episode 190\tAverage Score: 52.03\n",
      "Episode 200\tAverage Score: 52.89\n",
      "Episode 210\tAverage Score: 58.36\n",
      "Episode 220\tAverage Score: 56.23\n",
      "Episode 230\tAverage Score: 57.30\n",
      "Episode 240\tAverage Score: 57.45\n",
      "Episode 250\tAverage Score: 60.87\n",
      "Episode 260\tAverage Score: 60.36\n",
      "Episode 270\tAverage Score: 60.16\n",
      "Episode 280\tAverage Score: 65.58\n",
      "Episode 290\tAverage Score: 70.95\n",
      "Episode 300\tAverage Score: 75.78\n",
      "Episode 301\tAverage Score: 76.39\n",
      "Environment solved in 301 episodes!\tAverage Score: 76.39\n"
     ]
    },
    {
     "data": {
      "text/html": [
       "<style>\n",
       "    table.wandb td:nth-child(1) { padding: 0 10px; text-align: left ; width: auto;} td:nth-child(2) {text-align: left ; width: 100%}\n",
       "    .wandb-row { display: flex; flex-direction: row; flex-wrap: wrap; justify-content: flex-start; width: 100% }\n",
       "    .wandb-col { display: flex; flex-direction: column; flex-basis: 100%; flex: 1; padding: 10px; }\n",
       "    </style>\n",
       "<div class=\"wandb-row\"><div class=\"wandb-col\"><h3>Run history:</h3><br/><table class=\"wandb\"><tr><td>Scores</td><td>▁▁▁▂▂▂▂▂▃▃▃▃▃▃▃▃▄▄▄▄▄▄▅▅▅▅▅▆▆▆▆▆▆▆▆▆▇▇██</td></tr><tr><td>regret</td><td>▁</td></tr></table><br/></div><div class=\"wandb-col\"><h3>Run summary:</h3><br/><table class=\"wandb\"><tr><td>Scores</td><td>76.39</td></tr><tr><td>regret</td><td>129346.00531</td></tr></table><br/></div></div>"
      ],
      "text/plain": [
       "<IPython.core.display.HTML object>"
      ]
     },
     "metadata": {},
     "output_type": "display_data"
    },
    {
     "data": {
      "text/html": [
       " View run <strong style=\"color:#cdcd00\">sweepy-sweep-3</strong> at: <a href='https://wandb.ai/navinboys/dqcatrpole1/runs/p3ioynvn/workspace' target=\"_blank\">https://wandb.ai/navinboys/dqcatrpole1/runs/p3ioynvn/workspace</a><br/>Synced 5 W&B file(s), 0 media file(s), 0 artifact file(s) and 0 other file(s)"
      ],
      "text/plain": [
       "<IPython.core.display.HTML object>"
      ]
     },
     "metadata": {},
     "output_type": "display_data"
    },
    {
     "data": {
      "text/html": [
       "Find logs at: <code>./wandb/run-20240406_174810-p3ioynvn/logs</code>"
      ],
      "text/plain": [
       "<IPython.core.display.HTML object>"
      ]
     },
     "metadata": {},
     "output_type": "display_data"
    },
    {
     "name": "stderr",
     "output_type": "stream",
     "text": [
      "\u001b[34m\u001b[1mwandb\u001b[0m: Agent Starting Run: 46kfti2d with config:\n",
      "\u001b[34m\u001b[1mwandb\u001b[0m: \tbatch: 54\n",
      "\u001b[34m\u001b[1mwandb\u001b[0m: \tlr: 0.008332775953646968\n",
      "\u001b[34m\u001b[1mwandb\u001b[0m: \tupdate1: 20\n",
      "Failed to detect the name of this notebook, you can set it manually with the WANDB_NOTEBOOK_NAME environment variable to enable code saving.\n",
      "\u001b[34m\u001b[1mwandb\u001b[0m: \u001b[33mWARNING\u001b[0m Ignored wandb.init() arg project when running a sweep.\n"
     ]
    },
    {
     "data": {
      "text/html": [
       "wandb version 0.16.6 is available!  To upgrade, please run:\n",
       " $ pip install wandb --upgrade"
      ],
      "text/plain": [
       "<IPython.core.display.HTML object>"
      ]
     },
     "metadata": {},
     "output_type": "display_data"
    },
    {
     "data": {
      "text/html": [
       "Tracking run with wandb version 0.16.5"
      ],
      "text/plain": [
       "<IPython.core.display.HTML object>"
      ]
     },
     "metadata": {},
     "output_type": "display_data"
    },
    {
     "data": {
      "text/html": [
       "Run data is saved locally in <code>/home/navin/Programming-assignment-2/wandb/run-20240406_174903-46kfti2d</code>"
      ],
      "text/plain": [
       "<IPython.core.display.HTML object>"
      ]
     },
     "metadata": {},
     "output_type": "display_data"
    },
    {
     "data": {
      "text/html": [
       "Syncing run <strong><a href='https://wandb.ai/navinboys/dqcatrpole1/runs/46kfti2d/workspace' target=\"_blank\">dulcet-sweep-4</a></strong> to <a href='https://wandb.ai/navinboys/dqcatrpole1' target=\"_blank\">Weights & Biases</a> (<a href='https://wandb.me/run' target=\"_blank\">docs</a>)<br/>Sweep page: <a href='https://wandb.ai/navinboys/dqcatrpole1/sweeps/arzd86zs' target=\"_blank\">https://wandb.ai/navinboys/dqcatrpole1/sweeps/arzd86zs</a>"
      ],
      "text/plain": [
       "<IPython.core.display.HTML object>"
      ]
     },
     "metadata": {},
     "output_type": "display_data"
    },
    {
     "data": {
      "text/html": [
       " View project at <a href='https://wandb.ai/navinboys/dqcatrpole1' target=\"_blank\">https://wandb.ai/navinboys/dqcatrpole1</a>"
      ],
      "text/plain": [
       "<IPython.core.display.HTML object>"
      ]
     },
     "metadata": {},
     "output_type": "display_data"
    },
    {
     "data": {
      "text/html": [
       " View sweep at <a href='https://wandb.ai/navinboys/dqcatrpole1/sweeps/arzd86zs' target=\"_blank\">https://wandb.ai/navinboys/dqcatrpole1/sweeps/arzd86zs</a>"
      ],
      "text/plain": [
       "<IPython.core.display.HTML object>"
      ]
     },
     "metadata": {},
     "output_type": "display_data"
    },
    {
     "data": {
      "text/html": [
       " View run at <a href='https://wandb.ai/navinboys/dqcatrpole1/runs/46kfti2d/workspace' target=\"_blank\">https://wandb.ai/navinboys/dqcatrpole1/runs/46kfti2d/workspace</a>"
      ],
      "text/plain": [
       "<IPython.core.display.HTML object>"
      ]
     },
     "metadata": {},
     "output_type": "display_data"
    },
    {
     "name": "stdout",
     "output_type": "stream",
     "text": [
      "Episode 10\tAverage Score: 19.50\n",
      "Episode 20\tAverage Score: 20.25\n",
      "Episode 30\tAverage Score: 22.40\n",
      "Episode 40\tAverage Score: 21.35\n",
      "Episode 50\tAverage Score: 24.40\n",
      "Episode 60\tAverage Score: 24.57\n",
      "Episode 70\tAverage Score: 24.59\n",
      "Episode 80\tAverage Score: 27.24\n",
      "Episode 90\tAverage Score: 29.29\n",
      "Episode 100\tAverage Score: 30.37\n",
      "Episode 110\tAverage Score: 31.01\n",
      "Episode 120\tAverage Score: 32.57\n",
      "Episode 130\tAverage Score: 33.19\n",
      "Episode 140\tAverage Score: 35.93\n",
      "Episode 150\tAverage Score: 35.00\n",
      "Episode 160\tAverage Score: 37.82\n",
      "Episode 170\tAverage Score: 43.66\n",
      "Episode 180\tAverage Score: 43.77\n",
      "Episode 190\tAverage Score: 45.72\n",
      "Episode 200\tAverage Score: 49.66\n",
      "Episode 210\tAverage Score: 53.57\n",
      "Episode 220\tAverage Score: 57.07\n",
      "Episode 230\tAverage Score: 67.69\n",
      "Episode 240\tAverage Score: 78.79\n",
      "Episode 250\tAverage Score: 81.31\n",
      "Episode 260\tAverage Score: 80.20\n",
      "Episode 270\tAverage Score: 75.48\n",
      "Episode 280\tAverage Score: 71.94\n",
      "Episode 290\tAverage Score: 66.59\n",
      "Episode 300\tAverage Score: 59.66\n",
      "Episode 301\tAverage Score: 58.55\n",
      "Environment solved in 301 episodes!\tAverage Score: 58.55\n"
     ]
    },
    {
     "data": {
      "text/html": [
       "<style>\n",
       "    table.wandb td:nth-child(1) { padding: 0 10px; text-align: left ; width: auto;} td:nth-child(2) {text-align: left ; width: 100%}\n",
       "    .wandb-row { display: flex; flex-direction: row; flex-wrap: wrap; justify-content: flex-start; width: 100% }\n",
       "    .wandb-col { display: flex; flex-direction: column; flex-basis: 100%; flex: 1; padding: 10px; }\n",
       "    </style>\n",
       "<div class=\"wandb-row\"><div class=\"wandb-col\"><h3>Run history:</h3><br/><table class=\"wandb\"><tr><td>Scores</td><td>▁▁▁▁▁▁▂▂▂▂▂▂▂▂▂▂▃▃▃▃▃▃▄▄▄▄▄▅▅▆▆▇███▇▇▇▆▆</td></tr><tr><td>regret</td><td>▁</td></tr></table><br/></div><div class=\"wandb-col\"><h3>Run summary:</h3><br/><table class=\"wandb\"><tr><td>Scores</td><td>58.55</td></tr><tr><td>regret</td><td>129396.17363</td></tr></table><br/></div></div>"
      ],
      "text/plain": [
       "<IPython.core.display.HTML object>"
      ]
     },
     "metadata": {},
     "output_type": "display_data"
    },
    {
     "data": {
      "text/html": [
       " View run <strong style=\"color:#cdcd00\">dulcet-sweep-4</strong> at: <a href='https://wandb.ai/navinboys/dqcatrpole1/runs/46kfti2d/workspace' target=\"_blank\">https://wandb.ai/navinboys/dqcatrpole1/runs/46kfti2d/workspace</a><br/>Synced 5 W&B file(s), 0 media file(s), 0 artifact file(s) and 0 other file(s)"
      ],
      "text/plain": [
       "<IPython.core.display.HTML object>"
      ]
     },
     "metadata": {},
     "output_type": "display_data"
    },
    {
     "data": {
      "text/html": [
       "Find logs at: <code>./wandb/run-20240406_174903-46kfti2d/logs</code>"
      ],
      "text/plain": [
       "<IPython.core.display.HTML object>"
      ]
     },
     "metadata": {},
     "output_type": "display_data"
    },
    {
     "name": "stderr",
     "output_type": "stream",
     "text": [
      "\u001b[34m\u001b[1mwandb\u001b[0m: Agent Starting Run: 5fhfqq83 with config:\n",
      "\u001b[34m\u001b[1mwandb\u001b[0m: \tbatch: 62\n",
      "\u001b[34m\u001b[1mwandb\u001b[0m: \tlr: 0.008506621845331441\n",
      "\u001b[34m\u001b[1mwandb\u001b[0m: \tupdate1: 15\n",
      "Failed to detect the name of this notebook, you can set it manually with the WANDB_NOTEBOOK_NAME environment variable to enable code saving.\n",
      "\u001b[34m\u001b[1mwandb\u001b[0m: \u001b[33mWARNING\u001b[0m Ignored wandb.init() arg project when running a sweep.\n"
     ]
    },
    {
     "data": {
      "text/html": [
       "wandb version 0.16.6 is available!  To upgrade, please run:\n",
       " $ pip install wandb --upgrade"
      ],
      "text/plain": [
       "<IPython.core.display.HTML object>"
      ]
     },
     "metadata": {},
     "output_type": "display_data"
    },
    {
     "data": {
      "text/html": [
       "Tracking run with wandb version 0.16.5"
      ],
      "text/plain": [
       "<IPython.core.display.HTML object>"
      ]
     },
     "metadata": {},
     "output_type": "display_data"
    },
    {
     "data": {
      "text/html": [
       "Run data is saved locally in <code>/home/navin/Programming-assignment-2/wandb/run-20240406_174952-5fhfqq83</code>"
      ],
      "text/plain": [
       "<IPython.core.display.HTML object>"
      ]
     },
     "metadata": {},
     "output_type": "display_data"
    },
    {
     "data": {
      "text/html": [
       "Syncing run <strong><a href='https://wandb.ai/navinboys/dqcatrpole1/runs/5fhfqq83/workspace' target=\"_blank\">zany-sweep-5</a></strong> to <a href='https://wandb.ai/navinboys/dqcatrpole1' target=\"_blank\">Weights & Biases</a> (<a href='https://wandb.me/run' target=\"_blank\">docs</a>)<br/>Sweep page: <a href='https://wandb.ai/navinboys/dqcatrpole1/sweeps/arzd86zs' target=\"_blank\">https://wandb.ai/navinboys/dqcatrpole1/sweeps/arzd86zs</a>"
      ],
      "text/plain": [
       "<IPython.core.display.HTML object>"
      ]
     },
     "metadata": {},
     "output_type": "display_data"
    },
    {
     "data": {
      "text/html": [
       " View project at <a href='https://wandb.ai/navinboys/dqcatrpole1' target=\"_blank\">https://wandb.ai/navinboys/dqcatrpole1</a>"
      ],
      "text/plain": [
       "<IPython.core.display.HTML object>"
      ]
     },
     "metadata": {},
     "output_type": "display_data"
    },
    {
     "data": {
      "text/html": [
       " View sweep at <a href='https://wandb.ai/navinboys/dqcatrpole1/sweeps/arzd86zs' target=\"_blank\">https://wandb.ai/navinboys/dqcatrpole1/sweeps/arzd86zs</a>"
      ],
      "text/plain": [
       "<IPython.core.display.HTML object>"
      ]
     },
     "metadata": {},
     "output_type": "display_data"
    },
    {
     "data": {
      "text/html": [
       " View run at <a href='https://wandb.ai/navinboys/dqcatrpole1/runs/5fhfqq83/workspace' target=\"_blank\">https://wandb.ai/navinboys/dqcatrpole1/runs/5fhfqq83/workspace</a>"
      ],
      "text/plain": [
       "<IPython.core.display.HTML object>"
      ]
     },
     "metadata": {},
     "output_type": "display_data"
    },
    {
     "name": "stdout",
     "output_type": "stream",
     "text": [
      "Episode 10\tAverage Score: 23.00\n",
      "Episode 20\tAverage Score: 27.25\n",
      "Episode 30\tAverage Score: 27.77\n",
      "Episode 40\tAverage Score: 32.15\n",
      "Episode 50\tAverage Score: 30.80\n",
      "Episode 60\tAverage Score: 30.03\n",
      "Episode 70\tAverage Score: 30.63\n",
      "Episode 80\tAverage Score: 31.04\n",
      "Episode 90\tAverage Score: 30.22\n",
      "Episode 100\tAverage Score: 30.05\n",
      "Episode 110\tAverage Score: 32.23\n",
      "Episode 120\tAverage Score: 34.93\n",
      "Episode 130\tAverage Score: 37.48\n",
      "Episode 140\tAverage Score: 38.87\n",
      "Episode 150\tAverage Score: 40.25\n",
      "Episode 160\tAverage Score: 41.28\n",
      "Episode 170\tAverage Score: 44.32\n",
      "Episode 180\tAverage Score: 45.38\n",
      "Episode 190\tAverage Score: 51.01\n",
      "Episode 200\tAverage Score: 53.60\n",
      "Episode 210\tAverage Score: 54.29\n",
      "Episode 220\tAverage Score: 56.47\n",
      "Episode 230\tAverage Score: 59.06\n",
      "Episode 240\tAverage Score: 59.61\n",
      "Episode 250\tAverage Score: 62.23\n",
      "Episode 260\tAverage Score: 64.57\n",
      "Episode 270\tAverage Score: 64.01\n",
      "Episode 280\tAverage Score: 66.88\n",
      "Episode 290\tAverage Score: 64.28\n",
      "Episode 300\tAverage Score: 66.04\n",
      "Episode 301\tAverage Score: 66.07\n",
      "Environment solved in 301 episodes!\tAverage Score: 66.07\n"
     ]
    },
    {
     "data": {
      "text/html": [
       "<style>\n",
       "    table.wandb td:nth-child(1) { padding: 0 10px; text-align: left ; width: auto;} td:nth-child(2) {text-align: left ; width: 100%}\n",
       "    .wandb-row { display: flex; flex-direction: row; flex-wrap: wrap; justify-content: flex-start; width: 100% }\n",
       "    .wandb-col { display: flex; flex-direction: column; flex-basis: 100%; flex: 1; padding: 10px; }\n",
       "    </style>\n",
       "<div class=\"wandb-row\"><div class=\"wandb-col\"><h3>Run history:</h3><br/><table class=\"wandb\"><tr><td>Scores</td><td>▁▂▁▂▂▃▂▂▂▂▂▂▂▂▂▃▃▄▄▄▄▄▅▅▅▆▆▆▆▇▇▇▇▇██████</td></tr><tr><td>regret</td><td>▁</td></tr></table><br/></div><div class=\"wandb-col\"><h3>Run summary:</h3><br/><table class=\"wandb\"><tr><td>Scores</td><td>66.07</td></tr><tr><td>regret</td><td>129432.97057</td></tr></table><br/></div></div>"
      ],
      "text/plain": [
       "<IPython.core.display.HTML object>"
      ]
     },
     "metadata": {},
     "output_type": "display_data"
    },
    {
     "data": {
      "text/html": [
       " View run <strong style=\"color:#cdcd00\">zany-sweep-5</strong> at: <a href='https://wandb.ai/navinboys/dqcatrpole1/runs/5fhfqq83/workspace' target=\"_blank\">https://wandb.ai/navinboys/dqcatrpole1/runs/5fhfqq83/workspace</a><br/>Synced 5 W&B file(s), 0 media file(s), 0 artifact file(s) and 0 other file(s)"
      ],
      "text/plain": [
       "<IPython.core.display.HTML object>"
      ]
     },
     "metadata": {},
     "output_type": "display_data"
    },
    {
     "data": {
      "text/html": [
       "Find logs at: <code>./wandb/run-20240406_174952-5fhfqq83/logs</code>"
      ],
      "text/plain": [
       "<IPython.core.display.HTML object>"
      ]
     },
     "metadata": {},
     "output_type": "display_data"
    },
    {
     "name": "stderr",
     "output_type": "stream",
     "text": [
      "\u001b[34m\u001b[1mwandb\u001b[0m: Sweep Agent: Waiting for job.\n",
      "\u001b[34m\u001b[1mwandb\u001b[0m: Job received.\n",
      "\u001b[34m\u001b[1mwandb\u001b[0m: Agent Starting Run: 650ua70z with config:\n",
      "\u001b[34m\u001b[1mwandb\u001b[0m: \tbatch: 77\n",
      "\u001b[34m\u001b[1mwandb\u001b[0m: \tlr: 0.0006577982495287842\n",
      "\u001b[34m\u001b[1mwandb\u001b[0m: \tupdate1: 16\n",
      "Failed to detect the name of this notebook, you can set it manually with the WANDB_NOTEBOOK_NAME environment variable to enable code saving.\n",
      "\u001b[34m\u001b[1mwandb\u001b[0m: \u001b[33mWARNING\u001b[0m Ignored wandb.init() arg project when running a sweep.\n"
     ]
    },
    {
     "data": {
      "text/html": [
       "wandb version 0.16.6 is available!  To upgrade, please run:\n",
       " $ pip install wandb --upgrade"
      ],
      "text/plain": [
       "<IPython.core.display.HTML object>"
      ]
     },
     "metadata": {},
     "output_type": "display_data"
    },
    {
     "data": {
      "text/html": [
       "Tracking run with wandb version 0.16.5"
      ],
      "text/plain": [
       "<IPython.core.display.HTML object>"
      ]
     },
     "metadata": {},
     "output_type": "display_data"
    },
    {
     "data": {
      "text/html": [
       "Run data is saved locally in <code>/home/navin/Programming-assignment-2/wandb/run-20240406_175049-650ua70z</code>"
      ],
      "text/plain": [
       "<IPython.core.display.HTML object>"
      ]
     },
     "metadata": {},
     "output_type": "display_data"
    },
    {
     "data": {
      "text/html": [
       "Syncing run <strong><a href='https://wandb.ai/navinboys/dqcatrpole1/runs/650ua70z/workspace' target=\"_blank\">upbeat-sweep-6</a></strong> to <a href='https://wandb.ai/navinboys/dqcatrpole1' target=\"_blank\">Weights & Biases</a> (<a href='https://wandb.me/run' target=\"_blank\">docs</a>)<br/>Sweep page: <a href='https://wandb.ai/navinboys/dqcatrpole1/sweeps/arzd86zs' target=\"_blank\">https://wandb.ai/navinboys/dqcatrpole1/sweeps/arzd86zs</a>"
      ],
      "text/plain": [
       "<IPython.core.display.HTML object>"
      ]
     },
     "metadata": {},
     "output_type": "display_data"
    },
    {
     "data": {
      "text/html": [
       " View project at <a href='https://wandb.ai/navinboys/dqcatrpole1' target=\"_blank\">https://wandb.ai/navinboys/dqcatrpole1</a>"
      ],
      "text/plain": [
       "<IPython.core.display.HTML object>"
      ]
     },
     "metadata": {},
     "output_type": "display_data"
    },
    {
     "data": {
      "text/html": [
       " View sweep at <a href='https://wandb.ai/navinboys/dqcatrpole1/sweeps/arzd86zs' target=\"_blank\">https://wandb.ai/navinboys/dqcatrpole1/sweeps/arzd86zs</a>"
      ],
      "text/plain": [
       "<IPython.core.display.HTML object>"
      ]
     },
     "metadata": {},
     "output_type": "display_data"
    },
    {
     "data": {
      "text/html": [
       " View run at <a href='https://wandb.ai/navinboys/dqcatrpole1/runs/650ua70z/workspace' target=\"_blank\">https://wandb.ai/navinboys/dqcatrpole1/runs/650ua70z/workspace</a>"
      ],
      "text/plain": [
       "<IPython.core.display.HTML object>"
      ]
     },
     "metadata": {},
     "output_type": "display_data"
    },
    {
     "name": "stdout",
     "output_type": "stream",
     "text": [
      "Episode 10\tAverage Score: 21.10\n",
      "Episode 20\tAverage Score: 20.35\n",
      "Episode 30\tAverage Score: 21.60\n",
      "Episode 40\tAverage Score: 22.43\n",
      "Episode 50\tAverage Score: 25.82\n",
      "Episode 60\tAverage Score: 27.63\n",
      "Episode 70\tAverage Score: 29.93\n",
      "Episode 80\tAverage Score: 33.31\n",
      "Episode 90\tAverage Score: 35.64\n",
      "Episode 100\tAverage Score: 38.54\n",
      "Episode 110\tAverage Score: 42.34\n",
      "Episode 120\tAverage Score: 48.79\n",
      "Episode 130\tAverage Score: 54.91\n",
      "Episode 140\tAverage Score: 62.49\n",
      "Episode 150\tAverage Score: 70.03\n",
      "Episode 160\tAverage Score: 80.96\n",
      "Episode 170\tAverage Score: 88.39\n",
      "Episode 180\tAverage Score: 105.72\n",
      "Episode 190\tAverage Score: 115.82\n",
      "Episode 200\tAverage Score: 130.56\n",
      "Episode 210\tAverage Score: 156.36\n",
      "Episode 220\tAverage Score: 164.53\n",
      "Episode 230\tAverage Score: 167.79\n",
      "Episode 240\tAverage Score: 162.42\n",
      "Episode 250\tAverage Score: 154.06\n",
      "Episode 260\tAverage Score: 143.14\n",
      "Episode 270\tAverage Score: 134.12\n",
      "Episode 280\tAverage Score: 112.19\n",
      "Episode 290\tAverage Score: 97.749\n",
      "Episode 300\tAverage Score: 77.60\n",
      "Episode 301\tAverage Score: 76.99\n",
      "Environment solved in 301 episodes!\tAverage Score: 76.99\n"
     ]
    },
    {
     "data": {
      "text/html": [
       "<style>\n",
       "    table.wandb td:nth-child(1) { padding: 0 10px; text-align: left ; width: auto;} td:nth-child(2) {text-align: left ; width: 100%}\n",
       "    .wandb-row { display: flex; flex-direction: row; flex-wrap: wrap; justify-content: flex-start; width: 100% }\n",
       "    .wandb-col { display: flex; flex-direction: column; flex-basis: 100%; flex: 1; padding: 10px; }\n",
       "    </style>\n",
       "<div class=\"wandb-row\"><div class=\"wandb-col\"><h3>Run history:</h3><br/><table class=\"wandb\"><tr><td>Scores</td><td>▁▁▁▁▁▁▁▂▂▂▂▂▂▂▂▂▃▃▃▃▄▄▄▅▅▆▆██████▇▇▇▆▅▅▄</td></tr><tr><td>regret</td><td>▁</td></tr></table><br/></div><div class=\"wandb-col\"><h3>Run summary:</h3><br/><table class=\"wandb\"><tr><td>Scores</td><td>76.99</td></tr><tr><td>regret</td><td>118271.49207</td></tr></table><br/></div></div>"
      ],
      "text/plain": [
       "<IPython.core.display.HTML object>"
      ]
     },
     "metadata": {},
     "output_type": "display_data"
    },
    {
     "data": {
      "text/html": [
       " View run <strong style=\"color:#cdcd00\">upbeat-sweep-6</strong> at: <a href='https://wandb.ai/navinboys/dqcatrpole1/runs/650ua70z/workspace' target=\"_blank\">https://wandb.ai/navinboys/dqcatrpole1/runs/650ua70z/workspace</a><br/>Synced 5 W&B file(s), 0 media file(s), 0 artifact file(s) and 0 other file(s)"
      ],
      "text/plain": [
       "<IPython.core.display.HTML object>"
      ]
     },
     "metadata": {},
     "output_type": "display_data"
    },
    {
     "data": {
      "text/html": [
       "Find logs at: <code>./wandb/run-20240406_175049-650ua70z/logs</code>"
      ],
      "text/plain": [
       "<IPython.core.display.HTML object>"
      ]
     },
     "metadata": {},
     "output_type": "display_data"
    },
    {
     "name": "stderr",
     "output_type": "stream",
     "text": [
      "\u001b[34m\u001b[1mwandb\u001b[0m: Sweep Agent: Waiting for job.\n",
      "\u001b[34m\u001b[1mwandb\u001b[0m: Job received.\n",
      "\u001b[34m\u001b[1mwandb\u001b[0m: Agent Starting Run: z3izsqtd with config:\n",
      "\u001b[34m\u001b[1mwandb\u001b[0m: \tbatch: 71\n",
      "\u001b[34m\u001b[1mwandb\u001b[0m: \tlr: 0.0006365232079667998\n",
      "\u001b[34m\u001b[1mwandb\u001b[0m: \tupdate1: 17\n",
      "Failed to detect the name of this notebook, you can set it manually with the WANDB_NOTEBOOK_NAME environment variable to enable code saving.\n",
      "\u001b[34m\u001b[1mwandb\u001b[0m: \u001b[33mWARNING\u001b[0m Ignored wandb.init() arg project when running a sweep.\n"
     ]
    },
    {
     "data": {
      "text/html": [
       "wandb version 0.16.6 is available!  To upgrade, please run:\n",
       " $ pip install wandb --upgrade"
      ],
      "text/plain": [
       "<IPython.core.display.HTML object>"
      ]
     },
     "metadata": {},
     "output_type": "display_data"
    },
    {
     "data": {
      "text/html": [
       "Tracking run with wandb version 0.16.5"
      ],
      "text/plain": [
       "<IPython.core.display.HTML object>"
      ]
     },
     "metadata": {},
     "output_type": "display_data"
    },
    {
     "data": {
      "text/html": [
       "Run data is saved locally in <code>/home/navin/Programming-assignment-2/wandb/run-20240406_175214-z3izsqtd</code>"
      ],
      "text/plain": [
       "<IPython.core.display.HTML object>"
      ]
     },
     "metadata": {},
     "output_type": "display_data"
    },
    {
     "data": {
      "text/html": [
       "Syncing run <strong><a href='https://wandb.ai/navinboys/dqcatrpole1/runs/z3izsqtd/workspace' target=\"_blank\">earnest-sweep-7</a></strong> to <a href='https://wandb.ai/navinboys/dqcatrpole1' target=\"_blank\">Weights & Biases</a> (<a href='https://wandb.me/run' target=\"_blank\">docs</a>)<br/>Sweep page: <a href='https://wandb.ai/navinboys/dqcatrpole1/sweeps/arzd86zs' target=\"_blank\">https://wandb.ai/navinboys/dqcatrpole1/sweeps/arzd86zs</a>"
      ],
      "text/plain": [
       "<IPython.core.display.HTML object>"
      ]
     },
     "metadata": {},
     "output_type": "display_data"
    },
    {
     "data": {
      "text/html": [
       " View project at <a href='https://wandb.ai/navinboys/dqcatrpole1' target=\"_blank\">https://wandb.ai/navinboys/dqcatrpole1</a>"
      ],
      "text/plain": [
       "<IPython.core.display.HTML object>"
      ]
     },
     "metadata": {},
     "output_type": "display_data"
    },
    {
     "data": {
      "text/html": [
       " View sweep at <a href='https://wandb.ai/navinboys/dqcatrpole1/sweeps/arzd86zs' target=\"_blank\">https://wandb.ai/navinboys/dqcatrpole1/sweeps/arzd86zs</a>"
      ],
      "text/plain": [
       "<IPython.core.display.HTML object>"
      ]
     },
     "metadata": {},
     "output_type": "display_data"
    },
    {
     "data": {
      "text/html": [
       " View run at <a href='https://wandb.ai/navinboys/dqcatrpole1/runs/z3izsqtd/workspace' target=\"_blank\">https://wandb.ai/navinboys/dqcatrpole1/runs/z3izsqtd/workspace</a>"
      ],
      "text/plain": [
       "<IPython.core.display.HTML object>"
      ]
     },
     "metadata": {},
     "output_type": "display_data"
    },
    {
     "name": "stdout",
     "output_type": "stream",
     "text": [
      "Episode 10\tAverage Score: 26.40\n",
      "Episode 20\tAverage Score: 26.10\n",
      "Episode 30\tAverage Score: 26.47\n",
      "Episode 40\tAverage Score: 27.38\n",
      "Episode 50\tAverage Score: 29.42\n",
      "Episode 60\tAverage Score: 31.40\n",
      "Episode 70\tAverage Score: 33.01\n",
      "Episode 80\tAverage Score: 34.83\n",
      "Episode 90\tAverage Score: 39.04\n",
      "Episode 100\tAverage Score: 41.67\n",
      "Episode 110\tAverage Score: 51.39\n",
      "Episode 120\tAverage Score: 56.18\n",
      "Episode 130\tAverage Score: 62.95\n",
      "Episode 140\tAverage Score: 74.04\n",
      "Episode 150\tAverage Score: 83.08\n",
      "Episode 160\tAverage Score: 92.63\n",
      "Episode 170\tAverage Score: 103.11\n",
      "Episode 180\tAverage Score: 112.89\n",
      "Episode 190\tAverage Score: 121.98\n",
      "Episode 200\tAverage Score: 130.84\n",
      "Episode 210\tAverage Score: 135.21\n",
      "Episode 220\tAverage Score: 143.31\n",
      "Episode 230\tAverage Score: 150.57\n",
      "Episode 240\tAverage Score: 152.11\n",
      "Episode 250\tAverage Score: 153.28\n",
      "Episode 260\tAverage Score: 152.87\n",
      "Episode 270\tAverage Score: 149.01\n",
      "Episode 280\tAverage Score: 143.66\n",
      "Episode 290\tAverage Score: 134.77\n",
      "Episode 300\tAverage Score: 127.90\n",
      "Episode 301\tAverage Score: 126.39\n",
      "Environment solved in 301 episodes!\tAverage Score: 126.39\n"
     ]
    },
    {
     "data": {
      "text/html": [
       "<style>\n",
       "    table.wandb td:nth-child(1) { padding: 0 10px; text-align: left ; width: auto;} td:nth-child(2) {text-align: left ; width: 100%}\n",
       "    .wandb-row { display: flex; flex-direction: row; flex-wrap: wrap; justify-content: flex-start; width: 100% }\n",
       "    .wandb-col { display: flex; flex-direction: column; flex-basis: 100%; flex: 1; padding: 10px; }\n",
       "    </style>\n",
       "<div class=\"wandb-row\"><div class=\"wandb-col\"><h3>Run history:</h3><br/><table class=\"wandb\"><tr><td>Scores</td><td>▁▁▁▁▂▁▂▂▂▂▂▂▂▂▃▃▃▃▄▄▅▅▅▆▆▆▇▇▇████████▇▇▇</td></tr><tr><td>regret</td><td>▁</td></tr></table><br/></div><div class=\"wandb-col\"><h3>Run summary:</h3><br/><table class=\"wandb\"><tr><td>Scores</td><td>126.39</td></tr><tr><td>regret</td><td>116546.63277</td></tr></table><br/></div></div>"
      ],
      "text/plain": [
       "<IPython.core.display.HTML object>"
      ]
     },
     "metadata": {},
     "output_type": "display_data"
    },
    {
     "data": {
      "text/html": [
       " View run <strong style=\"color:#cdcd00\">earnest-sweep-7</strong> at: <a href='https://wandb.ai/navinboys/dqcatrpole1/runs/z3izsqtd/workspace' target=\"_blank\">https://wandb.ai/navinboys/dqcatrpole1/runs/z3izsqtd/workspace</a><br/>Synced 5 W&B file(s), 0 media file(s), 0 artifact file(s) and 0 other file(s)"
      ],
      "text/plain": [
       "<IPython.core.display.HTML object>"
      ]
     },
     "metadata": {},
     "output_type": "display_data"
    },
    {
     "data": {
      "text/html": [
       "Find logs at: <code>./wandb/run-20240406_175214-z3izsqtd/logs</code>"
      ],
      "text/plain": [
       "<IPython.core.display.HTML object>"
      ]
     },
     "metadata": {},
     "output_type": "display_data"
    },
    {
     "name": "stderr",
     "output_type": "stream",
     "text": [
      "\u001b[34m\u001b[1mwandb\u001b[0m: Agent Starting Run: q7kc0io3 with config:\n",
      "\u001b[34m\u001b[1mwandb\u001b[0m: \tbatch: 76\n",
      "\u001b[34m\u001b[1mwandb\u001b[0m: \tlr: 0.0008291274230976911\n",
      "\u001b[34m\u001b[1mwandb\u001b[0m: \tupdate1: 19\n",
      "Failed to detect the name of this notebook, you can set it manually with the WANDB_NOTEBOOK_NAME environment variable to enable code saving.\n",
      "\u001b[34m\u001b[1mwandb\u001b[0m: \u001b[33mWARNING\u001b[0m Ignored wandb.init() arg project when running a sweep.\n"
     ]
    },
    {
     "data": {
      "text/html": [
       "wandb version 0.16.6 is available!  To upgrade, please run:\n",
       " $ pip install wandb --upgrade"
      ],
      "text/plain": [
       "<IPython.core.display.HTML object>"
      ]
     },
     "metadata": {},
     "output_type": "display_data"
    },
    {
     "data": {
      "text/html": [
       "Tracking run with wandb version 0.16.5"
      ],
      "text/plain": [
       "<IPython.core.display.HTML object>"
      ]
     },
     "metadata": {},
     "output_type": "display_data"
    },
    {
     "data": {
      "text/html": [
       "Run data is saved locally in <code>/home/navin/Programming-assignment-2/wandb/run-20240406_175334-q7kc0io3</code>"
      ],
      "text/plain": [
       "<IPython.core.display.HTML object>"
      ]
     },
     "metadata": {},
     "output_type": "display_data"
    },
    {
     "data": {
      "text/html": [
       "Syncing run <strong><a href='https://wandb.ai/navinboys/dqcatrpole1/runs/q7kc0io3/workspace' target=\"_blank\">effortless-sweep-8</a></strong> to <a href='https://wandb.ai/navinboys/dqcatrpole1' target=\"_blank\">Weights & Biases</a> (<a href='https://wandb.me/run' target=\"_blank\">docs</a>)<br/>Sweep page: <a href='https://wandb.ai/navinboys/dqcatrpole1/sweeps/arzd86zs' target=\"_blank\">https://wandb.ai/navinboys/dqcatrpole1/sweeps/arzd86zs</a>"
      ],
      "text/plain": [
       "<IPython.core.display.HTML object>"
      ]
     },
     "metadata": {},
     "output_type": "display_data"
    },
    {
     "data": {
      "text/html": [
       " View project at <a href='https://wandb.ai/navinboys/dqcatrpole1' target=\"_blank\">https://wandb.ai/navinboys/dqcatrpole1</a>"
      ],
      "text/plain": [
       "<IPython.core.display.HTML object>"
      ]
     },
     "metadata": {},
     "output_type": "display_data"
    },
    {
     "data": {
      "text/html": [
       " View sweep at <a href='https://wandb.ai/navinboys/dqcatrpole1/sweeps/arzd86zs' target=\"_blank\">https://wandb.ai/navinboys/dqcatrpole1/sweeps/arzd86zs</a>"
      ],
      "text/plain": [
       "<IPython.core.display.HTML object>"
      ]
     },
     "metadata": {},
     "output_type": "display_data"
    },
    {
     "data": {
      "text/html": [
       " View run at <a href='https://wandb.ai/navinboys/dqcatrpole1/runs/q7kc0io3/workspace' target=\"_blank\">https://wandb.ai/navinboys/dqcatrpole1/runs/q7kc0io3/workspace</a>"
      ],
      "text/plain": [
       "<IPython.core.display.HTML object>"
      ]
     },
     "metadata": {},
     "output_type": "display_data"
    },
    {
     "name": "stdout",
     "output_type": "stream",
     "text": [
      "Episode 10\tAverage Score: 21.90\n",
      "Episode 20\tAverage Score: 21.40\n",
      "Episode 30\tAverage Score: 23.20\n",
      "Episode 40\tAverage Score: 23.07\n",
      "Episode 50\tAverage Score: 24.80\n",
      "Episode 60\tAverage Score: 28.53\n",
      "Episode 68\tAverage Score: 32.31"
     ]
    },
    {
     "name": "stderr",
     "output_type": "stream",
     "text": [
      "\u001b[34m\u001b[1mwandb\u001b[0m: Ctrl + C detected. Stopping sweep.\n"
     ]
    },
    {
     "name": "stdout",
     "output_type": "stream",
     "text": [
      "Episode 70\tAverage Score: 32.09\n",
      "Episode 80\tAverage Score: 35.73\n",
      "Episode 90\tAverage Score: 39.23\n",
      "Episode 99\tAverage Score: 43.49"
     ]
    }
   ],
   "source": [
    "def Objective(lr,batch,update):\n",
    "    env = gym.make(\"CartPole-v1\")\n",
    "    state_size = env.observation_space.shape[0]\n",
    "    action_size = env.action_space.n\n",
    "    type = 1 #mean\n",
    "    # type  = 2 # max\n",
    "    agent = TutorialAgent(lr,batch,update,type,state_size,action_size, seed = 0)\n",
    "    DDQN = DuelingDQN(env,\"eps greedy\",agent)\n",
    "    regret, avg_rewards = DDQN.train()\n",
    "    return regret, avg_rewards\n",
    "\n",
    "def run_training():\n",
    "    config_defaults = {\n",
    "        \"lr\": 5e-4,\n",
    "        \"batch\": 40,\n",
    "        \"update\": 20\n",
    "        \n",
    "    }\n",
    "    config = wandb.init(config=config_defaults, project=\"dq_cartpole1\")\n",
    "    lr = config.config[\"lr\"]\n",
    "    batch = config.config['batch']\n",
    "    update = config.config[\"update1\"]\n",
    "    regret, all_scores = Objective(lr,batch,update)\n",
    "    for i in all_scores:\n",
    "        wandb.log({'Scores':i})\n",
    "    wandb.log({\"regret\": regret})\n",
    "    \n",
    "\n",
    "sweep_config = {\n",
    "    \"method\": \"bayes\",\n",
    "    \"metric\": {\"name\": \"regret\", \"goal\": \"minimize\"},\n",
    "    \"parameters\": {\n",
    "        \"lr\": {\"min\": 1e-5, \"max\": 0.01},\n",
    "        \"batch\": {\"min\": 40, \"max\": 80},\n",
    "        \"update1\": {\"min\": 10, \"max\": 30}\n",
    "        \n",
    "    },\n",
    "    \"project\": \"dqcatrpole1\",\n",
    "    \"early_terminate\": {\n",
    "        \"type\": \"hyperband\",\n",
    "        \"min_iter\": 3,\n",
    "        \"max_iter\": 100\n",
    "    }\n",
    "}\n",
    "\n",
    "sweep_id = wandb.sweep(sweep_config)\n",
    "wandb.agent(sweep_id, function=run_training)"
   ]
  }
 ],
 "metadata": {
  "kernelspec": {
   "display_name": "Python 3",
   "language": "python",
   "name": "python3"
  },
  "language_info": {
   "codemirror_mode": {
    "name": "ipython",
    "version": 3
   },
   "file_extension": ".py",
   "mimetype": "text/x-python",
   "name": "python",
   "nbconvert_exporter": "python",
   "pygments_lexer": "ipython3",
   "version": "3.10.12"
  }
 },
 "nbformat": 4,
 "nbformat_minor": 2
}
